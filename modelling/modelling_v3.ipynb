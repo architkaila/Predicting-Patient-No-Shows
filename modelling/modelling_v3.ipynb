{
 "cells": [
  {
   "cell_type": "code",
   "execution_count": 21,
   "metadata": {
    "collapsed": true
   },
   "outputs": [],
   "source": [
    "import numpy as np\n",
    "import pandas as pd\n",
    "from sklearn.ensemble import RandomForestClassifier\n",
    "from sklearn.metrics import accuracy_score, classification_report, confusion_matrix, roc_auc_score\n",
    "from sklearn.model_selection import train_test_split, GridSearchCV\n",
    "from sklearn.preprocessing import OrdinalEncoder\n",
    "from sklearn.preprocessing import StandardScaler, OneHotEncoder\n",
    "\n",
    "import matplotlib.pyplot as plt\n",
    "from sklearn.metrics import precision_recall_curve"
   ]
  },
  {
   "cell_type": "markdown",
   "metadata": {},
   "source": [
    "## Neighbourhood wise modelling"
   ]
  },
  {
   "cell_type": "code",
   "execution_count": 22,
   "metadata": {},
   "outputs": [],
   "source": [
    "def onehot_encode(X, cols):\n",
    "    # Treat new categories as a new 'unknown' category (all onehot columns are 0)\n",
    "    onehot_enc = OneHotEncoder(handle_unknown='ignore')\n",
    "    # Fit encoder on training data\n",
    "    onehot_enc.fit(X[cols])\n",
    "    # Get the names of the new columns created\n",
    "    colnames = list(onehot_enc.get_feature_names(input_features=cols))\n",
    "    # Transform the data\n",
    "    onehot_vals = onehot_enc.transform(X[cols]).toarray()\n",
    "    # Put transformed data into dataframe\n",
    "    enc_df = pd.DataFrame(onehot_vals,columns=colnames,index=X.index)\n",
    "    # Add onehot columns back onto original dataframe and drop the original columns\n",
    "    X = pd.concat([X,enc_df],axis=1).drop(cols,axis=1)\n",
    "    return X,onehot_enc"
   ]
  },
  {
   "cell_type": "code",
   "execution_count": 23,
   "metadata": {},
   "outputs": [
    {
     "name": "stdout",
     "output_type": "stream",
     "text": [
      "<class 'pandas.core.frame.DataFrame'>\n",
      "RangeIndex: 110519 entries, 0 to 110518\n",
      "Data columns (total 29 columns):\n",
      " #   Column                                      Non-Null Count   Dtype  \n",
      "---  ------                                      --------------   -----  \n",
      " 0   patientid                                   110519 non-null  float64\n",
      " 1   appointmentid                               110519 non-null  int64  \n",
      " 2   gender                                      110519 non-null  object \n",
      " 3   scheduledday                                110519 non-null  object \n",
      " 4   appointmentday                              110519 non-null  object \n",
      " 5   age                                         110519 non-null  int64  \n",
      " 6   neighbourhood                               110519 non-null  object \n",
      " 7   scholarship                                 110519 non-null  int64  \n",
      " 8   hypertension                                110519 non-null  int64  \n",
      " 9   diabetes                                    110519 non-null  int64  \n",
      " 10  alcoholism                                  110519 non-null  int64  \n",
      " 11  handicap                                    110519 non-null  int64  \n",
      " 12  sms_received                                110519 non-null  int64  \n",
      " 13  showed                                      110519 non-null  int64  \n",
      " 14  days_between_appointment_and_scheduled_day  110519 non-null  int64  \n",
      " 15  age_group                                   110519 non-null  object \n",
      " 16  appointment_day_of_week                     110519 non-null  object \n",
      " 17  tempmax                                     110519 non-null  float64\n",
      " 18  temp                                        110519 non-null  float64\n",
      " 19  feelslikemax                                110519 non-null  float64\n",
      " 20  feelslike                                   110519 non-null  float64\n",
      " 21  humidity                                    110519 non-null  float64\n",
      " 22  windspeed                                   110519 non-null  float64\n",
      " 23  solarradiation                              110519 non-null  float64\n",
      " 24  solarenergy                                 110519 non-null  float64\n",
      " 25  uvindex                                     110519 non-null  float64\n",
      " 26  rating                                      110519 non-null  float64\n",
      " 27  previous_app                                110519 non-null  int64  \n",
      " 28  no_show                                     110519 non-null  int64  \n",
      "dtypes: float64(11), int64(12), object(6)\n",
      "memory usage: 24.5+ MB\n"
     ]
    }
   ],
   "source": [
    "## Read the data for modelling\n",
    "df = pd.read_csv('../data/final_data_for_modelling.csv')\n",
    "\n",
    "df.info()"
   ]
  },
  {
   "cell_type": "code",
   "execution_count": 24,
   "metadata": {},
   "outputs": [
    {
     "data": {
      "text/plain": [
       "['JARDIM DA PENHA',\n",
       " 'ANDORINHAS',\n",
       " 'NOVA PALESTINA',\n",
       " 'DA PENHA',\n",
       " 'TABUAZEIRO',\n",
       " 'SÃO PEDRO',\n",
       " 'SANTA MARTHA',\n",
       " 'SÃO CRISTÓVÃO',\n",
       " 'MARUÍPE',\n",
       " 'GRANDE VITÓRIA',\n",
       " 'SÃO BENEDITO',\n",
       " 'ILHA DAS CAIEIRAS',\n",
       " 'SANTO ANDRÉ',\n",
       " 'BONFIM',\n",
       " 'JARDIM CAMBURI',\n",
       " 'MARIA ORTIZ',\n",
       " 'JABOUR',\n",
       " 'RESISTÊNCIA',\n",
       " 'ILHA DE SANTA MARIA',\n",
       " 'SANTO ANTÔNIO',\n",
       " 'BELA VISTA',\n",
       " 'PRAIA DO SUÁ',\n",
       " 'ITARARÉ',\n",
       " 'INHANGUETÁ',\n",
       " 'SÃO JOSÉ',\n",
       " 'REDENÇÃO',\n",
       " 'CENTRO',\n",
       " 'SANTOS DUMONT',\n",
       " 'CARATOÍRA',\n",
       " 'GURIGICA',\n",
       " 'JOANA D´ARC',\n",
       " 'CONSOLAÇÃO',\n",
       " 'PRAIA DO CANTO',\n",
       " 'FORTE SÃO JOÃO',\n",
       " 'JESUS DE NAZARETH',\n",
       " 'SANTA TEREZA',\n",
       " 'CRUZAMENTO',\n",
       " 'ILHA DO PRÍNCIPE',\n",
       " 'ROMÃO']"
      ]
     },
     "execution_count": 24,
     "metadata": {},
     "output_type": "execute_result"
    }
   ],
   "source": [
    "## get a list of neighbourhoods\n",
    "neigh_list = list(df.neighbourhood.unique())\n",
    "filter_neigh_list = [neigh for neigh in neigh_list if len(df[df[\"neighbourhood\"] == neigh])>1000]\n",
    "\n",
    "filter_neigh_list"
   ]
  },
  {
   "cell_type": "code",
   "execution_count": 25,
   "metadata": {},
   "outputs": [],
   "source": [
    "## Make dataframe filters for each neighbourhood\n",
    "data = {}\n",
    "for neigh in filter_neigh_list:\n",
    "    df_temp = df.copy()\n",
    "    df_temp = df_temp[df_temp[\"neighbourhood\"] == neigh]\n",
    "    df_temp.drop(columns=[\"age_group\", \"neighbourhood\", \"patientid\", \"appointmentid\",\n",
    "                    \"scheduledday\", \"appointmentday\", \"showed\"] , inplace=True)\n",
    "    data[neigh] = df_temp"
   ]
  },
  {
   "cell_type": "code",
   "execution_count": 26,
   "metadata": {},
   "outputs": [
    {
     "name": "stderr",
     "output_type": "stream",
     "text": [
      "/Users/architkaila/opt/anaconda3/envs/aipi520/lib/python3.8/site-packages/sklearn/utils/deprecation.py:87: FutureWarning: Function get_feature_names is deprecated; get_feature_names is deprecated in 1.0 and will be removed in 1.2. Please use get_feature_names_out instead.\n",
      "  warnings.warn(msg, category=FutureWarning)\n",
      "/Users/architkaila/opt/anaconda3/envs/aipi520/lib/python3.8/site-packages/sklearn/utils/deprecation.py:87: FutureWarning: Function get_feature_names is deprecated; get_feature_names is deprecated in 1.0 and will be removed in 1.2. Please use get_feature_names_out instead.\n",
      "  warnings.warn(msg, category=FutureWarning)\n"
     ]
    },
    {
     "name": "stdout",
     "output_type": "stream",
     "text": [
      "Train Report: JARDIM DA PENHA\n",
      "              precision    recall  f1-score   support\n",
      "\n",
      "           0       0.92      0.74      0.82      2604\n",
      "           1       0.33      0.65      0.44       497\n",
      "\n",
      "    accuracy                           0.73      3101\n",
      "   macro avg       0.62      0.70      0.63      3101\n",
      "weighted avg       0.82      0.73      0.76      3101\n",
      "\n",
      "Test Report\n",
      "              precision    recall  f1-score   support\n",
      "\n",
      "           0       0.88      0.70      0.78       642\n",
      "           1       0.27      0.53      0.36       134\n",
      "\n",
      "    accuracy                           0.67       776\n",
      "   macro avg       0.57      0.61      0.57       776\n",
      "weighted avg       0.77      0.67      0.71       776\n",
      "\n"
     ]
    },
    {
     "name": "stderr",
     "output_type": "stream",
     "text": [
      "/Users/architkaila/opt/anaconda3/envs/aipi520/lib/python3.8/site-packages/sklearn/utils/deprecation.py:87: FutureWarning: Function get_feature_names is deprecated; get_feature_names is deprecated in 1.0 and will be removed in 1.2. Please use get_feature_names_out instead.\n",
      "  warnings.warn(msg, category=FutureWarning)\n",
      "/Users/architkaila/opt/anaconda3/envs/aipi520/lib/python3.8/site-packages/sklearn/utils/deprecation.py:87: FutureWarning: Function get_feature_names is deprecated; get_feature_names is deprecated in 1.0 and will be removed in 1.2. Please use get_feature_names_out instead.\n",
      "  warnings.warn(msg, category=FutureWarning)\n"
     ]
    },
    {
     "name": "stdout",
     "output_type": "stream",
     "text": [
      "Train Report: ANDORINHAS\n",
      "              precision    recall  f1-score   support\n",
      "\n",
      "           0       0.95      0.62      0.75      1396\n",
      "           1       0.41      0.89      0.56       413\n",
      "\n",
      "    accuracy                           0.68      1809\n",
      "   macro avg       0.68      0.75      0.65      1809\n",
      "weighted avg       0.83      0.68      0.70      1809\n",
      "\n",
      "Test Report\n",
      "              precision    recall  f1-score   support\n",
      "\n",
      "           0       0.88      0.57      0.69       345\n",
      "           1       0.35      0.75      0.48       108\n",
      "\n",
      "    accuracy                           0.61       453\n",
      "   macro avg       0.62      0.66      0.59       453\n",
      "weighted avg       0.75      0.61      0.64       453\n",
      "\n"
     ]
    },
    {
     "name": "stderr",
     "output_type": "stream",
     "text": [
      "/Users/architkaila/opt/anaconda3/envs/aipi520/lib/python3.8/site-packages/sklearn/utils/deprecation.py:87: FutureWarning: Function get_feature_names is deprecated; get_feature_names is deprecated in 1.0 and will be removed in 1.2. Please use get_feature_names_out instead.\n",
      "  warnings.warn(msg, category=FutureWarning)\n",
      "/Users/architkaila/opt/anaconda3/envs/aipi520/lib/python3.8/site-packages/sklearn/utils/deprecation.py:87: FutureWarning: Function get_feature_names is deprecated; get_feature_names is deprecated in 1.0 and will be removed in 1.2. Please use get_feature_names_out instead.\n",
      "  warnings.warn(msg, category=FutureWarning)\n"
     ]
    },
    {
     "name": "stdout",
     "output_type": "stream",
     "text": [
      "Train Report: NOVA PALESTINA\n",
      "              precision    recall  f1-score   support\n",
      "\n",
      "           0       0.95      0.74      0.83      1479\n",
      "           1       0.42      0.83      0.55       332\n",
      "\n",
      "    accuracy                           0.76      1811\n",
      "   macro avg       0.68      0.78      0.69      1811\n",
      "weighted avg       0.85      0.76      0.78      1811\n",
      "\n",
      "Test Report\n",
      "              precision    recall  f1-score   support\n",
      "\n",
      "           0       0.91      0.69      0.79       383\n",
      "           1       0.27      0.64      0.38        70\n",
      "\n",
      "    accuracy                           0.68       453\n",
      "   macro avg       0.59      0.67      0.59       453\n",
      "weighted avg       0.81      0.68      0.72       453\n",
      "\n"
     ]
    },
    {
     "name": "stderr",
     "output_type": "stream",
     "text": [
      "/Users/architkaila/opt/anaconda3/envs/aipi520/lib/python3.8/site-packages/sklearn/utils/deprecation.py:87: FutureWarning: Function get_feature_names is deprecated; get_feature_names is deprecated in 1.0 and will be removed in 1.2. Please use get_feature_names_out instead.\n",
      "  warnings.warn(msg, category=FutureWarning)\n",
      "/Users/architkaila/opt/anaconda3/envs/aipi520/lib/python3.8/site-packages/sklearn/utils/deprecation.py:87: FutureWarning: Function get_feature_names is deprecated; get_feature_names is deprecated in 1.0 and will be removed in 1.2. Please use get_feature_names_out instead.\n",
      "  warnings.warn(msg, category=FutureWarning)\n"
     ]
    },
    {
     "name": "stdout",
     "output_type": "stream",
     "text": [
      "Train Report: DA PENHA\n",
      "              precision    recall  f1-score   support\n",
      "\n",
      "           0       0.95      0.65      0.77      1430\n",
      "           1       0.37      0.85      0.51       343\n",
      "\n",
      "    accuracy                           0.69      1773\n",
      "   macro avg       0.66      0.75      0.64      1773\n",
      "weighted avg       0.84      0.69      0.72      1773\n",
      "\n",
      "Test Report\n",
      "              precision    recall  f1-score   support\n",
      "\n",
      "           0       0.91      0.66      0.76       358\n",
      "           1       0.34      0.72      0.46        86\n",
      "\n",
      "    accuracy                           0.67       444\n",
      "   macro avg       0.62      0.69      0.61       444\n",
      "weighted avg       0.80      0.67      0.70       444\n",
      "\n"
     ]
    },
    {
     "name": "stderr",
     "output_type": "stream",
     "text": [
      "/Users/architkaila/opt/anaconda3/envs/aipi520/lib/python3.8/site-packages/sklearn/utils/deprecation.py:87: FutureWarning: Function get_feature_names is deprecated; get_feature_names is deprecated in 1.0 and will be removed in 1.2. Please use get_feature_names_out instead.\n",
      "  warnings.warn(msg, category=FutureWarning)\n",
      "/Users/architkaila/opt/anaconda3/envs/aipi520/lib/python3.8/site-packages/sklearn/utils/deprecation.py:87: FutureWarning: Function get_feature_names is deprecated; get_feature_names is deprecated in 1.0 and will be removed in 1.2. Please use get_feature_names_out instead.\n",
      "  warnings.warn(msg, category=FutureWarning)\n"
     ]
    },
    {
     "name": "stdout",
     "output_type": "stream",
     "text": [
      "Train Report: TABUAZEIRO\n",
      "              precision    recall  f1-score   support\n",
      "\n",
      "           0       0.96      0.65      0.78      2040\n",
      "           1       0.36      0.87      0.51       464\n",
      "\n",
      "    accuracy                           0.69      2504\n",
      "   macro avg       0.66      0.76      0.64      2504\n",
      "weighted avg       0.85      0.69      0.73      2504\n",
      "\n",
      "Test Report\n",
      "              precision    recall  f1-score   support\n",
      "\n",
      "           0       0.93      0.62      0.75       519\n",
      "           1       0.30      0.79      0.44       108\n",
      "\n",
      "    accuracy                           0.65       627\n",
      "   macro avg       0.62      0.71      0.59       627\n",
      "weighted avg       0.83      0.65      0.69       627\n",
      "\n"
     ]
    },
    {
     "name": "stderr",
     "output_type": "stream",
     "text": [
      "/Users/architkaila/opt/anaconda3/envs/aipi520/lib/python3.8/site-packages/sklearn/utils/deprecation.py:87: FutureWarning: Function get_feature_names is deprecated; get_feature_names is deprecated in 1.0 and will be removed in 1.2. Please use get_feature_names_out instead.\n",
      "  warnings.warn(msg, category=FutureWarning)\n",
      "/Users/architkaila/opt/anaconda3/envs/aipi520/lib/python3.8/site-packages/sklearn/utils/deprecation.py:87: FutureWarning: Function get_feature_names is deprecated; get_feature_names is deprecated in 1.0 and will be removed in 1.2. Please use get_feature_names_out instead.\n",
      "  warnings.warn(msg, category=FutureWarning)\n"
     ]
    },
    {
     "name": "stdout",
     "output_type": "stream",
     "text": [
      "Train Report: SÃO PEDRO\n",
      "              precision    recall  f1-score   support\n",
      "\n",
      "           0       0.93      0.67      0.78      1548\n",
      "           1       0.40      0.82      0.54       410\n",
      "\n",
      "    accuracy                           0.70      1958\n",
      "   macro avg       0.67      0.75      0.66      1958\n",
      "weighted avg       0.82      0.70      0.73      1958\n",
      "\n",
      "Test Report\n",
      "              precision    recall  f1-score   support\n",
      "\n",
      "           0       0.86      0.60      0.71       385\n",
      "           1       0.31      0.65      0.42       105\n",
      "\n",
      "    accuracy                           0.61       490\n",
      "   macro avg       0.59      0.63      0.56       490\n",
      "weighted avg       0.74      0.61      0.65       490\n",
      "\n"
     ]
    },
    {
     "name": "stderr",
     "output_type": "stream",
     "text": [
      "/Users/architkaila/opt/anaconda3/envs/aipi520/lib/python3.8/site-packages/sklearn/utils/deprecation.py:87: FutureWarning: Function get_feature_names is deprecated; get_feature_names is deprecated in 1.0 and will be removed in 1.2. Please use get_feature_names_out instead.\n",
      "  warnings.warn(msg, category=FutureWarning)\n",
      "/Users/architkaila/opt/anaconda3/envs/aipi520/lib/python3.8/site-packages/sklearn/utils/deprecation.py:87: FutureWarning: Function get_feature_names is deprecated; get_feature_names is deprecated in 1.0 and will be removed in 1.2. Please use get_feature_names_out instead.\n",
      "  warnings.warn(msg, category=FutureWarning)\n"
     ]
    },
    {
     "name": "stdout",
     "output_type": "stream",
     "text": [
      "Train Report: SANTA MARTHA\n",
      "              precision    recall  f1-score   support\n",
      "\n",
      "           0       0.96      0.76      0.85      2103\n",
      "           1       0.39      0.82      0.53       401\n",
      "\n",
      "    accuracy                           0.77      2504\n",
      "   macro avg       0.67      0.79      0.69      2504\n",
      "weighted avg       0.87      0.77      0.80      2504\n",
      "\n",
      "Test Report\n",
      "              precision    recall  f1-score   support\n",
      "\n",
      "           0       0.90      0.73      0.81       532\n",
      "           1       0.28      0.57      0.37        95\n",
      "\n",
      "    accuracy                           0.71       627\n",
      "   macro avg       0.59      0.65      0.59       627\n",
      "weighted avg       0.81      0.71      0.74       627\n",
      "\n"
     ]
    },
    {
     "name": "stderr",
     "output_type": "stream",
     "text": [
      "/Users/architkaila/opt/anaconda3/envs/aipi520/lib/python3.8/site-packages/sklearn/utils/deprecation.py:87: FutureWarning: Function get_feature_names is deprecated; get_feature_names is deprecated in 1.0 and will be removed in 1.2. Please use get_feature_names_out instead.\n",
      "  warnings.warn(msg, category=FutureWarning)\n",
      "/Users/architkaila/opt/anaconda3/envs/aipi520/lib/python3.8/site-packages/sklearn/utils/deprecation.py:87: FutureWarning: Function get_feature_names is deprecated; get_feature_names is deprecated in 1.0 and will be removed in 1.2. Please use get_feature_names_out instead.\n",
      "  warnings.warn(msg, category=FutureWarning)\n"
     ]
    },
    {
     "name": "stdout",
     "output_type": "stream",
     "text": [
      "Train Report: SÃO CRISTÓVÃO\n",
      "              precision    recall  f1-score   support\n",
      "\n",
      "           0       0.94      0.70      0.80      1175\n",
      "           1       0.40      0.81      0.54       293\n",
      "\n",
      "    accuracy                           0.72      1468\n",
      "   macro avg       0.67      0.76      0.67      1468\n",
      "weighted avg       0.83      0.72      0.75      1468\n",
      "\n",
      "Test Report\n",
      "              precision    recall  f1-score   support\n",
      "\n",
      "           0       0.90      0.70      0.79       298\n",
      "           1       0.34      0.66      0.45        70\n",
      "\n",
      "    accuracy                           0.69       368\n",
      "   macro avg       0.62      0.68      0.62       368\n",
      "weighted avg       0.79      0.69      0.72       368\n",
      "\n"
     ]
    },
    {
     "name": "stderr",
     "output_type": "stream",
     "text": [
      "/Users/architkaila/opt/anaconda3/envs/aipi520/lib/python3.8/site-packages/sklearn/utils/deprecation.py:87: FutureWarning: Function get_feature_names is deprecated; get_feature_names is deprecated in 1.0 and will be removed in 1.2. Please use get_feature_names_out instead.\n",
      "  warnings.warn(msg, category=FutureWarning)\n",
      "/Users/architkaila/opt/anaconda3/envs/aipi520/lib/python3.8/site-packages/sklearn/utils/deprecation.py:87: FutureWarning: Function get_feature_names is deprecated; get_feature_names is deprecated in 1.0 and will be removed in 1.2. Please use get_feature_names_out instead.\n",
      "  warnings.warn(msg, category=FutureWarning)\n"
     ]
    },
    {
     "name": "stdout",
     "output_type": "stream",
     "text": [
      "Train Report: MARUÍPE\n",
      "              precision    recall  f1-score   support\n",
      "\n",
      "           0       0.95      0.63      0.76      1175\n",
      "           1       0.42      0.89      0.57       346\n",
      "\n",
      "    accuracy                           0.69      1521\n",
      "   macro avg       0.68      0.76      0.66      1521\n",
      "weighted avg       0.83      0.69      0.72      1521\n",
      "\n",
      "Test Report\n",
      "              precision    recall  f1-score   support\n",
      "\n",
      "           0       0.91      0.61      0.73       303\n",
      "           1       0.33      0.76      0.46        78\n",
      "\n",
      "    accuracy                           0.64       381\n",
      "   macro avg       0.62      0.68      0.59       381\n",
      "weighted avg       0.79      0.64      0.67       381\n",
      "\n"
     ]
    },
    {
     "name": "stderr",
     "output_type": "stream",
     "text": [
      "/Users/architkaila/opt/anaconda3/envs/aipi520/lib/python3.8/site-packages/sklearn/utils/deprecation.py:87: FutureWarning: Function get_feature_names is deprecated; get_feature_names is deprecated in 1.0 and will be removed in 1.2. Please use get_feature_names_out instead.\n",
      "  warnings.warn(msg, category=FutureWarning)\n",
      "/Users/architkaila/opt/anaconda3/envs/aipi520/lib/python3.8/site-packages/sklearn/utils/deprecation.py:87: FutureWarning: Function get_feature_names is deprecated; get_feature_names is deprecated in 1.0 and will be removed in 1.2. Please use get_feature_names_out instead.\n",
      "  warnings.warn(msg, category=FutureWarning)\n"
     ]
    },
    {
     "name": "stdout",
     "output_type": "stream",
     "text": [
      "Train Report: GRANDE VITÓRIA\n",
      "              precision    recall  f1-score   support\n",
      "\n",
      "           0       0.96      0.70      0.81       682\n",
      "           1       0.43      0.88      0.58       174\n",
      "\n",
      "    accuracy                           0.74       856\n",
      "   macro avg       0.69      0.79      0.69       856\n",
      "weighted avg       0.85      0.74      0.76       856\n",
      "\n",
      "Test Report\n",
      "              precision    recall  f1-score   support\n",
      "\n",
      "           0       0.86      0.63      0.73       172\n",
      "           1       0.29      0.60      0.39        43\n",
      "\n",
      "    accuracy                           0.62       215\n",
      "   macro avg       0.58      0.62      0.56       215\n",
      "weighted avg       0.75      0.62      0.66       215\n",
      "\n"
     ]
    },
    {
     "name": "stderr",
     "output_type": "stream",
     "text": [
      "/Users/architkaila/opt/anaconda3/envs/aipi520/lib/python3.8/site-packages/sklearn/utils/deprecation.py:87: FutureWarning: Function get_feature_names is deprecated; get_feature_names is deprecated in 1.0 and will be removed in 1.2. Please use get_feature_names_out instead.\n",
      "  warnings.warn(msg, category=FutureWarning)\n",
      "/Users/architkaila/opt/anaconda3/envs/aipi520/lib/python3.8/site-packages/sklearn/utils/deprecation.py:87: FutureWarning: Function get_feature_names is deprecated; get_feature_names is deprecated in 1.0 and will be removed in 1.2. Please use get_feature_names_out instead.\n",
      "  warnings.warn(msg, category=FutureWarning)\n"
     ]
    },
    {
     "name": "stdout",
     "output_type": "stream",
     "text": [
      "Train Report: SÃO BENEDITO\n",
      "              precision    recall  f1-score   support\n",
      "\n",
      "           0       0.97      0.70      0.81       929\n",
      "           1       0.42      0.90      0.57       222\n",
      "\n",
      "    accuracy                           0.74      1151\n",
      "   macro avg       0.69      0.80      0.69      1151\n",
      "weighted avg       0.86      0.74      0.77      1151\n",
      "\n",
      "Test Report\n",
      "              precision    recall  f1-score   support\n",
      "\n",
      "           0       0.90      0.69      0.78       223\n",
      "           1       0.41      0.74      0.52        65\n",
      "\n",
      "    accuracy                           0.70       288\n",
      "   macro avg       0.65      0.71      0.65       288\n",
      "weighted avg       0.79      0.70      0.72       288\n",
      "\n"
     ]
    },
    {
     "name": "stderr",
     "output_type": "stream",
     "text": [
      "/Users/architkaila/opt/anaconda3/envs/aipi520/lib/python3.8/site-packages/sklearn/utils/deprecation.py:87: FutureWarning: Function get_feature_names is deprecated; get_feature_names is deprecated in 1.0 and will be removed in 1.2. Please use get_feature_names_out instead.\n",
      "  warnings.warn(msg, category=FutureWarning)\n",
      "/Users/architkaila/opt/anaconda3/envs/aipi520/lib/python3.8/site-packages/sklearn/utils/deprecation.py:87: FutureWarning: Function get_feature_names is deprecated; get_feature_names is deprecated in 1.0 and will be removed in 1.2. Please use get_feature_names_out instead.\n",
      "  warnings.warn(msg, category=FutureWarning)\n"
     ]
    },
    {
     "name": "stdout",
     "output_type": "stream",
     "text": [
      "Train Report: ILHA DAS CAIEIRAS\n",
      "              precision    recall  f1-score   support\n",
      "\n",
      "           0       0.95      0.68      0.79       668\n",
      "           1       0.43      0.87      0.57       188\n",
      "\n",
      "    accuracy                           0.72       856\n",
      "   macro avg       0.69      0.77      0.68       856\n",
      "weighted avg       0.83      0.72      0.74       856\n",
      "\n",
      "Test Report\n",
      "              precision    recall  f1-score   support\n",
      "\n",
      "           0       0.83      0.61      0.71       168\n",
      "           1       0.29      0.55      0.38        47\n",
      "\n",
      "    accuracy                           0.60       215\n",
      "   macro avg       0.56      0.58      0.54       215\n",
      "weighted avg       0.71      0.60      0.63       215\n",
      "\n"
     ]
    },
    {
     "name": "stderr",
     "output_type": "stream",
     "text": [
      "/Users/architkaila/opt/anaconda3/envs/aipi520/lib/python3.8/site-packages/sklearn/utils/deprecation.py:87: FutureWarning: Function get_feature_names is deprecated; get_feature_names is deprecated in 1.0 and will be removed in 1.2. Please use get_feature_names_out instead.\n",
      "  warnings.warn(msg, category=FutureWarning)\n",
      "/Users/architkaila/opt/anaconda3/envs/aipi520/lib/python3.8/site-packages/sklearn/utils/deprecation.py:87: FutureWarning: Function get_feature_names is deprecated; get_feature_names is deprecated in 1.0 and will be removed in 1.2. Please use get_feature_names_out instead.\n",
      "  warnings.warn(msg, category=FutureWarning)\n"
     ]
    },
    {
     "name": "stdout",
     "output_type": "stream",
     "text": [
      "Train Report: SANTO ANDRÉ\n",
      "              precision    recall  f1-score   support\n",
      "\n",
      "           0       0.95      0.64      0.77      1644\n",
      "           1       0.38      0.87      0.53       412\n",
      "\n",
      "    accuracy                           0.69      2056\n",
      "   macro avg       0.66      0.75      0.65      2056\n",
      "weighted avg       0.84      0.69      0.72      2056\n",
      "\n",
      "Test Report\n",
      "              precision    recall  f1-score   support\n",
      "\n",
      "           0       0.89      0.62      0.73       419\n",
      "           1       0.29      0.68      0.40        96\n",
      "\n",
      "    accuracy                           0.63       515\n",
      "   macro avg       0.59      0.65      0.57       515\n",
      "weighted avg       0.78      0.63      0.67       515\n",
      "\n"
     ]
    },
    {
     "name": "stderr",
     "output_type": "stream",
     "text": [
      "/Users/architkaila/opt/anaconda3/envs/aipi520/lib/python3.8/site-packages/sklearn/utils/deprecation.py:87: FutureWarning: Function get_feature_names is deprecated; get_feature_names is deprecated in 1.0 and will be removed in 1.2. Please use get_feature_names_out instead.\n",
      "  warnings.warn(msg, category=FutureWarning)\n",
      "/Users/architkaila/opt/anaconda3/envs/aipi520/lib/python3.8/site-packages/sklearn/utils/deprecation.py:87: FutureWarning: Function get_feature_names is deprecated; get_feature_names is deprecated in 1.0 and will be removed in 1.2. Please use get_feature_names_out instead.\n",
      "  warnings.warn(msg, category=FutureWarning)\n"
     ]
    },
    {
     "name": "stdout",
     "output_type": "stream",
     "text": [
      "Train Report: BONFIM\n",
      "              precision    recall  f1-score   support\n",
      "\n",
      "           0       0.96      0.62      0.75      1777\n",
      "           1       0.37      0.90      0.52       441\n",
      "\n",
      "    accuracy                           0.67      2218\n",
      "   macro avg       0.66      0.76      0.64      2218\n",
      "weighted avg       0.84      0.67      0.71      2218\n",
      "\n",
      "Test Report\n",
      "              precision    recall  f1-score   support\n",
      "\n",
      "           0       0.92      0.62      0.74       446\n",
      "           1       0.33      0.77      0.47       109\n",
      "\n",
      "    accuracy                           0.65       555\n",
      "   macro avg       0.63      0.70      0.60       555\n",
      "weighted avg       0.80      0.65      0.69       555\n",
      "\n"
     ]
    },
    {
     "name": "stderr",
     "output_type": "stream",
     "text": [
      "/Users/architkaila/opt/anaconda3/envs/aipi520/lib/python3.8/site-packages/sklearn/utils/deprecation.py:87: FutureWarning: Function get_feature_names is deprecated; get_feature_names is deprecated in 1.0 and will be removed in 1.2. Please use get_feature_names_out instead.\n",
      "  warnings.warn(msg, category=FutureWarning)\n",
      "/Users/architkaila/opt/anaconda3/envs/aipi520/lib/python3.8/site-packages/sklearn/utils/deprecation.py:87: FutureWarning: Function get_feature_names is deprecated; get_feature_names is deprecated in 1.0 and will be removed in 1.2. Please use get_feature_names_out instead.\n",
      "  warnings.warn(msg, category=FutureWarning)\n"
     ]
    },
    {
     "name": "stdout",
     "output_type": "stream",
     "text": [
      "Train Report: JARDIM CAMBURI\n",
      "              precision    recall  f1-score   support\n",
      "\n",
      "           0       0.92      0.63      0.75      4994\n",
      "           1       0.33      0.77      0.46      1179\n",
      "\n",
      "    accuracy                           0.65      6173\n",
      "   macro avg       0.62      0.70      0.60      6173\n",
      "weighted avg       0.81      0.65      0.69      6173\n",
      "\n",
      "Test Report\n",
      "              precision    recall  f1-score   support\n",
      "\n",
      "           0       0.90      0.62      0.73      1258\n",
      "           1       0.30      0.70      0.42       286\n",
      "\n",
      "    accuracy                           0.64      1544\n",
      "   macro avg       0.60      0.66      0.58      1544\n",
      "weighted avg       0.79      0.64      0.68      1544\n",
      "\n"
     ]
    },
    {
     "name": "stderr",
     "output_type": "stream",
     "text": [
      "/Users/architkaila/opt/anaconda3/envs/aipi520/lib/python3.8/site-packages/sklearn/utils/deprecation.py:87: FutureWarning: Function get_feature_names is deprecated; get_feature_names is deprecated in 1.0 and will be removed in 1.2. Please use get_feature_names_out instead.\n",
      "  warnings.warn(msg, category=FutureWarning)\n",
      "/Users/architkaila/opt/anaconda3/envs/aipi520/lib/python3.8/site-packages/sklearn/utils/deprecation.py:87: FutureWarning: Function get_feature_names is deprecated; get_feature_names is deprecated in 1.0 and will be removed in 1.2. Please use get_feature_names_out instead.\n",
      "  warnings.warn(msg, category=FutureWarning)\n"
     ]
    },
    {
     "name": "stdout",
     "output_type": "stream",
     "text": [
      "Train Report: MARIA ORTIZ\n",
      "              precision    recall  f1-score   support\n",
      "\n",
      "           0       0.95      0.59      0.73      3672\n",
      "           1       0.37      0.88      0.52       972\n",
      "\n",
      "    accuracy                           0.65      4644\n",
      "   macro avg       0.66      0.74      0.62      4644\n",
      "weighted avg       0.83      0.65      0.69      4644\n",
      "\n",
      "Test Report\n",
      "              precision    recall  f1-score   support\n",
      "\n",
      "           0       0.92      0.59      0.72       914\n",
      "           1       0.35      0.81      0.49       247\n",
      "\n",
      "    accuracy                           0.64      1161\n",
      "   macro avg       0.63      0.70      0.60      1161\n",
      "weighted avg       0.80      0.64      0.67      1161\n",
      "\n"
     ]
    },
    {
     "name": "stderr",
     "output_type": "stream",
     "text": [
      "/Users/architkaila/opt/anaconda3/envs/aipi520/lib/python3.8/site-packages/sklearn/utils/deprecation.py:87: FutureWarning: Function get_feature_names is deprecated; get_feature_names is deprecated in 1.0 and will be removed in 1.2. Please use get_feature_names_out instead.\n",
      "  warnings.warn(msg, category=FutureWarning)\n",
      "/Users/architkaila/opt/anaconda3/envs/aipi520/lib/python3.8/site-packages/sklearn/utils/deprecation.py:87: FutureWarning: Function get_feature_names is deprecated; get_feature_names is deprecated in 1.0 and will be removed in 1.2. Please use get_feature_names_out instead.\n",
      "  warnings.warn(msg, category=FutureWarning)\n"
     ]
    },
    {
     "name": "stdout",
     "output_type": "stream",
     "text": [
      "Train Report: JABOUR\n",
      "              precision    recall  f1-score   support\n",
      "\n",
      "           0       0.95      0.70      0.80      1641\n",
      "           1       0.38      0.83      0.52       366\n",
      "\n",
      "    accuracy                           0.72      2007\n",
      "   macro avg       0.66      0.76      0.66      2007\n",
      "weighted avg       0.84      0.72      0.75      2007\n",
      "\n",
      "Test Report\n",
      "              precision    recall  f1-score   support\n",
      "\n",
      "           0       0.91      0.63      0.75       417\n",
      "           1       0.28      0.69      0.40        85\n",
      "\n",
      "    accuracy                           0.64       502\n",
      "   macro avg       0.59      0.66      0.57       502\n",
      "weighted avg       0.80      0.64      0.69       502\n",
      "\n"
     ]
    },
    {
     "name": "stderr",
     "output_type": "stream",
     "text": [
      "/Users/architkaila/opt/anaconda3/envs/aipi520/lib/python3.8/site-packages/sklearn/utils/deprecation.py:87: FutureWarning: Function get_feature_names is deprecated; get_feature_names is deprecated in 1.0 and will be removed in 1.2. Please use get_feature_names_out instead.\n",
      "  warnings.warn(msg, category=FutureWarning)\n",
      "/Users/architkaila/opt/anaconda3/envs/aipi520/lib/python3.8/site-packages/sklearn/utils/deprecation.py:87: FutureWarning: Function get_feature_names is deprecated; get_feature_names is deprecated in 1.0 and will be removed in 1.2. Please use get_feature_names_out instead.\n",
      "  warnings.warn(msg, category=FutureWarning)\n"
     ]
    },
    {
     "name": "stdout",
     "output_type": "stream",
     "text": [
      "Train Report: RESISTÊNCIA\n",
      "              precision    recall  f1-score   support\n",
      "\n",
      "           0       0.96      0.59      0.73      2819\n",
      "           1       0.36      0.90      0.51       725\n",
      "\n",
      "    accuracy                           0.65      3544\n",
      "   macro avg       0.66      0.74      0.62      3544\n",
      "weighted avg       0.83      0.65      0.68      3544\n",
      "\n",
      "Test Report\n",
      "              precision    recall  f1-score   support\n",
      "\n",
      "           0       0.93      0.55      0.69       706\n",
      "           1       0.32      0.83      0.46       180\n",
      "\n",
      "    accuracy                           0.61       886\n",
      "   macro avg       0.62      0.69      0.58       886\n",
      "weighted avg       0.80      0.61      0.64       886\n",
      "\n"
     ]
    },
    {
     "name": "stderr",
     "output_type": "stream",
     "text": [
      "/Users/architkaila/opt/anaconda3/envs/aipi520/lib/python3.8/site-packages/sklearn/utils/deprecation.py:87: FutureWarning: Function get_feature_names is deprecated; get_feature_names is deprecated in 1.0 and will be removed in 1.2. Please use get_feature_names_out instead.\n",
      "  warnings.warn(msg, category=FutureWarning)\n",
      "/Users/architkaila/opt/anaconda3/envs/aipi520/lib/python3.8/site-packages/sklearn/utils/deprecation.py:87: FutureWarning: Function get_feature_names is deprecated; get_feature_names is deprecated in 1.0 and will be removed in 1.2. Please use get_feature_names_out instead.\n",
      "  warnings.warn(msg, category=FutureWarning)\n"
     ]
    },
    {
     "name": "stdout",
     "output_type": "stream",
     "text": [
      "Train Report: ILHA DE SANTA MARIA\n",
      "              precision    recall  f1-score   support\n",
      "\n",
      "           0       0.93      0.81      0.87      1220\n",
      "           1       0.48      0.72      0.57       288\n",
      "\n",
      "    accuracy                           0.80      1508\n",
      "   macro avg       0.70      0.77      0.72      1508\n",
      "weighted avg       0.84      0.80      0.81      1508\n",
      "\n",
      "Test Report\n",
      "              precision    recall  f1-score   support\n",
      "\n",
      "           0       0.85      0.76      0.80       304\n",
      "           1       0.30      0.44      0.36        73\n",
      "\n",
      "    accuracy                           0.69       377\n",
      "   macro avg       0.58      0.60      0.58       377\n",
      "weighted avg       0.74      0.69      0.71       377\n",
      "\n"
     ]
    },
    {
     "name": "stderr",
     "output_type": "stream",
     "text": [
      "/Users/architkaila/opt/anaconda3/envs/aipi520/lib/python3.8/site-packages/sklearn/utils/deprecation.py:87: FutureWarning: Function get_feature_names is deprecated; get_feature_names is deprecated in 1.0 and will be removed in 1.2. Please use get_feature_names_out instead.\n",
      "  warnings.warn(msg, category=FutureWarning)\n",
      "/Users/architkaila/opt/anaconda3/envs/aipi520/lib/python3.8/site-packages/sklearn/utils/deprecation.py:87: FutureWarning: Function get_feature_names is deprecated; get_feature_names is deprecated in 1.0 and will be removed in 1.2. Please use get_feature_names_out instead.\n",
      "  warnings.warn(msg, category=FutureWarning)\n"
     ]
    },
    {
     "name": "stdout",
     "output_type": "stream",
     "text": [
      "Train Report: SANTO ANTÔNIO\n",
      "              precision    recall  f1-score   support\n",
      "\n",
      "           0       0.93      0.75      0.83      1806\n",
      "           1       0.38      0.72      0.50       389\n",
      "\n",
      "    accuracy                           0.74      2195\n",
      "   macro avg       0.65      0.73      0.66      2195\n",
      "weighted avg       0.83      0.74      0.77      2195\n",
      "\n",
      "Test Report\n",
      "              precision    recall  f1-score   support\n",
      "\n",
      "           0       0.90      0.70      0.79       456\n",
      "           1       0.29      0.60      0.39        93\n",
      "\n",
      "    accuracy                           0.68       549\n",
      "   macro avg       0.59      0.65      0.59       549\n",
      "weighted avg       0.79      0.68      0.72       549\n",
      "\n"
     ]
    },
    {
     "name": "stderr",
     "output_type": "stream",
     "text": [
      "/Users/architkaila/opt/anaconda3/envs/aipi520/lib/python3.8/site-packages/sklearn/utils/deprecation.py:87: FutureWarning: Function get_feature_names is deprecated; get_feature_names is deprecated in 1.0 and will be removed in 1.2. Please use get_feature_names_out instead.\n",
      "  warnings.warn(msg, category=FutureWarning)\n",
      "/Users/architkaila/opt/anaconda3/envs/aipi520/lib/python3.8/site-packages/sklearn/utils/deprecation.py:87: FutureWarning: Function get_feature_names is deprecated; get_feature_names is deprecated in 1.0 and will be removed in 1.2. Please use get_feature_names_out instead.\n",
      "  warnings.warn(msg, category=FutureWarning)\n"
     ]
    },
    {
     "name": "stdout",
     "output_type": "stream",
     "text": [
      "Train Report: BELA VISTA\n",
      "              precision    recall  f1-score   support\n",
      "\n",
      "           0       0.94      0.73      0.82      1209\n",
      "           1       0.44      0.83      0.57       316\n",
      "\n",
      "    accuracy                           0.75      1525\n",
      "   macro avg       0.69      0.78      0.70      1525\n",
      "weighted avg       0.84      0.75      0.77      1525\n",
      "\n",
      "Test Report\n",
      "              precision    recall  f1-score   support\n",
      "\n",
      "           0       0.91      0.68      0.78       314\n",
      "           1       0.32      0.71      0.44        68\n",
      "\n",
      "    accuracy                           0.68       382\n",
      "   macro avg       0.62      0.69      0.61       382\n",
      "weighted avg       0.81      0.68      0.72       382\n",
      "\n"
     ]
    },
    {
     "name": "stderr",
     "output_type": "stream",
     "text": [
      "/Users/architkaila/opt/anaconda3/envs/aipi520/lib/python3.8/site-packages/sklearn/utils/deprecation.py:87: FutureWarning: Function get_feature_names is deprecated; get_feature_names is deprecated in 1.0 and will be removed in 1.2. Please use get_feature_names_out instead.\n",
      "  warnings.warn(msg, category=FutureWarning)\n",
      "/Users/architkaila/opt/anaconda3/envs/aipi520/lib/python3.8/site-packages/sklearn/utils/deprecation.py:87: FutureWarning: Function get_feature_names is deprecated; get_feature_names is deprecated in 1.0 and will be removed in 1.2. Please use get_feature_names_out instead.\n",
      "  warnings.warn(msg, category=FutureWarning)\n"
     ]
    },
    {
     "name": "stdout",
     "output_type": "stream",
     "text": [
      "Train Report: PRAIA DO SUÁ\n",
      "              precision    recall  f1-score   support\n",
      "\n",
      "           0       0.95      0.63      0.76       799\n",
      "           1       0.41      0.87      0.55       231\n",
      "\n",
      "    accuracy                           0.68      1030\n",
      "   macro avg       0.68      0.75      0.66      1030\n",
      "weighted avg       0.82      0.68      0.71      1030\n",
      "\n",
      "Test Report\n",
      "              precision    recall  f1-score   support\n",
      "\n",
      "           0       0.86      0.61      0.71       195\n",
      "           1       0.36      0.68      0.47        63\n",
      "\n",
      "    accuracy                           0.63       258\n",
      "   macro avg       0.61      0.65      0.59       258\n",
      "weighted avg       0.74      0.63      0.65       258\n",
      "\n"
     ]
    },
    {
     "name": "stderr",
     "output_type": "stream",
     "text": [
      "/Users/architkaila/opt/anaconda3/envs/aipi520/lib/python3.8/site-packages/sklearn/utils/deprecation.py:87: FutureWarning: Function get_feature_names is deprecated; get_feature_names is deprecated in 1.0 and will be removed in 1.2. Please use get_feature_names_out instead.\n",
      "  warnings.warn(msg, category=FutureWarning)\n",
      "/Users/architkaila/opt/anaconda3/envs/aipi520/lib/python3.8/site-packages/sklearn/utils/deprecation.py:87: FutureWarning: Function get_feature_names is deprecated; get_feature_names is deprecated in 1.0 and will be removed in 1.2. Please use get_feature_names_out instead.\n",
      "  warnings.warn(msg, category=FutureWarning)\n"
     ]
    },
    {
     "name": "stdout",
     "output_type": "stream",
     "text": [
      "Train Report: ITARARÉ\n",
      "              precision    recall  f1-score   support\n",
      "\n",
      "           0       0.96      0.51      0.67      2061\n",
      "           1       0.41      0.93      0.57       750\n",
      "\n",
      "    accuracy                           0.63      2811\n",
      "   macro avg       0.68      0.72      0.62      2811\n",
      "weighted avg       0.81      0.63      0.64      2811\n",
      "\n",
      "Test Report\n",
      "              precision    recall  f1-score   support\n",
      "\n",
      "           0       0.92      0.48      0.63       530\n",
      "           1       0.35      0.87      0.50       173\n",
      "\n",
      "    accuracy                           0.58       703\n",
      "   macro avg       0.64      0.68      0.57       703\n",
      "weighted avg       0.78      0.58      0.60       703\n",
      "\n"
     ]
    },
    {
     "name": "stderr",
     "output_type": "stream",
     "text": [
      "/Users/architkaila/opt/anaconda3/envs/aipi520/lib/python3.8/site-packages/sklearn/utils/deprecation.py:87: FutureWarning: Function get_feature_names is deprecated; get_feature_names is deprecated in 1.0 and will be removed in 1.2. Please use get_feature_names_out instead.\n",
      "  warnings.warn(msg, category=FutureWarning)\n",
      "/Users/architkaila/opt/anaconda3/envs/aipi520/lib/python3.8/site-packages/sklearn/utils/deprecation.py:87: FutureWarning: Function get_feature_names is deprecated; get_feature_names is deprecated in 1.0 and will be removed in 1.2. Please use get_feature_names_out instead.\n",
      "  warnings.warn(msg, category=FutureWarning)\n"
     ]
    },
    {
     "name": "stdout",
     "output_type": "stream",
     "text": [
      "Train Report: INHANGUETÁ\n",
      "              precision    recall  f1-score   support\n",
      "\n",
      "           0       0.94      0.79      0.86       678\n",
      "           1       0.48      0.79      0.60       167\n",
      "\n",
      "    accuracy                           0.79       845\n",
      "   macro avg       0.71      0.79      0.73       845\n",
      "weighted avg       0.85      0.79      0.80       845\n",
      "\n",
      "Test Report\n",
      "              precision    recall  f1-score   support\n",
      "\n",
      "           0       0.91      0.75      0.82       177\n",
      "           1       0.33      0.63      0.43        35\n",
      "\n",
      "    accuracy                           0.73       212\n",
      "   macro avg       0.62      0.69      0.63       212\n",
      "weighted avg       0.81      0.73      0.76       212\n",
      "\n"
     ]
    },
    {
     "name": "stderr",
     "output_type": "stream",
     "text": [
      "/Users/architkaila/opt/anaconda3/envs/aipi520/lib/python3.8/site-packages/sklearn/utils/deprecation.py:87: FutureWarning: Function get_feature_names is deprecated; get_feature_names is deprecated in 1.0 and will be removed in 1.2. Please use get_feature_names_out instead.\n",
      "  warnings.warn(msg, category=FutureWarning)\n",
      "/Users/architkaila/opt/anaconda3/envs/aipi520/lib/python3.8/site-packages/sklearn/utils/deprecation.py:87: FutureWarning: Function get_feature_names is deprecated; get_feature_names is deprecated in 1.0 and will be removed in 1.2. Please use get_feature_names_out instead.\n",
      "  warnings.warn(msg, category=FutureWarning)\n"
     ]
    },
    {
     "name": "stdout",
     "output_type": "stream",
     "text": [
      "Train Report: SÃO JOSÉ\n",
      "              precision    recall  f1-score   support\n",
      "\n",
      "           0       0.92      0.74      0.82      1233\n",
      "           1       0.46      0.78      0.58       348\n",
      "\n",
      "    accuracy                           0.75      1581\n",
      "   macro avg       0.69      0.76      0.70      1581\n",
      "weighted avg       0.82      0.75      0.77      1581\n",
      "\n",
      "Test Report\n",
      "              precision    recall  f1-score   support\n",
      "\n",
      "           0       0.86      0.61      0.71       316\n",
      "           1       0.29      0.62      0.39        80\n",
      "\n",
      "    accuracy                           0.61       396\n",
      "   macro avg       0.58      0.62      0.55       396\n",
      "weighted avg       0.75      0.61      0.65       396\n",
      "\n"
     ]
    },
    {
     "name": "stderr",
     "output_type": "stream",
     "text": [
      "/Users/architkaila/opt/anaconda3/envs/aipi520/lib/python3.8/site-packages/sklearn/utils/deprecation.py:87: FutureWarning: Function get_feature_names is deprecated; get_feature_names is deprecated in 1.0 and will be removed in 1.2. Please use get_feature_names_out instead.\n",
      "  warnings.warn(msg, category=FutureWarning)\n",
      "/Users/architkaila/opt/anaconda3/envs/aipi520/lib/python3.8/site-packages/sklearn/utils/deprecation.py:87: FutureWarning: Function get_feature_names is deprecated; get_feature_names is deprecated in 1.0 and will be removed in 1.2. Please use get_feature_names_out instead.\n",
      "  warnings.warn(msg, category=FutureWarning)\n"
     ]
    },
    {
     "name": "stdout",
     "output_type": "stream",
     "text": [
      "Train Report: REDENÇÃO\n",
      "              precision    recall  f1-score   support\n",
      "\n",
      "           0       0.95      0.78      0.86      1015\n",
      "           1       0.46      0.82      0.59       227\n",
      "\n",
      "    accuracy                           0.79      1242\n",
      "   macro avg       0.70      0.80      0.72      1242\n",
      "weighted avg       0.86      0.79      0.81      1242\n",
      "\n",
      "Test Report\n",
      "              precision    recall  f1-score   support\n",
      "\n",
      "           0       0.92      0.74      0.82       263\n",
      "           1       0.30      0.62      0.41        48\n",
      "\n",
      "    accuracy                           0.72       311\n",
      "   macro avg       0.61      0.68      0.61       311\n",
      "weighted avg       0.82      0.72      0.75       311\n",
      "\n"
     ]
    },
    {
     "name": "stderr",
     "output_type": "stream",
     "text": [
      "/Users/architkaila/opt/anaconda3/envs/aipi520/lib/python3.8/site-packages/sklearn/utils/deprecation.py:87: FutureWarning: Function get_feature_names is deprecated; get_feature_names is deprecated in 1.0 and will be removed in 1.2. Please use get_feature_names_out instead.\n",
      "  warnings.warn(msg, category=FutureWarning)\n",
      "/Users/architkaila/opt/anaconda3/envs/aipi520/lib/python3.8/site-packages/sklearn/utils/deprecation.py:87: FutureWarning: Function get_feature_names is deprecated; get_feature_names is deprecated in 1.0 and will be removed in 1.2. Please use get_feature_names_out instead.\n",
      "  warnings.warn(msg, category=FutureWarning)\n"
     ]
    },
    {
     "name": "stdout",
     "output_type": "stream",
     "text": [
      "Train Report: CENTRO\n",
      "              precision    recall  f1-score   support\n",
      "\n",
      "           0       0.95      0.55      0.70      2096\n",
      "           1       0.35      0.89      0.50       571\n",
      "\n",
      "    accuracy                           0.62      2667\n",
      "   macro avg       0.65      0.72      0.60      2667\n",
      "weighted avg       0.82      0.62      0.66      2667\n",
      "\n",
      "Test Report\n",
      "              precision    recall  f1-score   support\n",
      "\n",
      "           0       0.92      0.52      0.67       535\n",
      "           1       0.30      0.83      0.44       132\n",
      "\n",
      "    accuracy                           0.58       667\n",
      "   macro avg       0.61      0.67      0.55       667\n",
      "weighted avg       0.80      0.58      0.62       667\n",
      "\n"
     ]
    },
    {
     "name": "stderr",
     "output_type": "stream",
     "text": [
      "/Users/architkaila/opt/anaconda3/envs/aipi520/lib/python3.8/site-packages/sklearn/utils/deprecation.py:87: FutureWarning: Function get_feature_names is deprecated; get_feature_names is deprecated in 1.0 and will be removed in 1.2. Please use get_feature_names_out instead.\n",
      "  warnings.warn(msg, category=FutureWarning)\n",
      "/Users/architkaila/opt/anaconda3/envs/aipi520/lib/python3.8/site-packages/sklearn/utils/deprecation.py:87: FutureWarning: Function get_feature_names is deprecated; get_feature_names is deprecated in 1.0 and will be removed in 1.2. Please use get_feature_names_out instead.\n",
      "  warnings.warn(msg, category=FutureWarning)\n"
     ]
    },
    {
     "name": "stdout",
     "output_type": "stream",
     "text": [
      "Train Report: SANTOS DUMONT\n",
      "              precision    recall  f1-score   support\n",
      "\n",
      "           0       0.94      0.54      0.69       716\n",
      "           1       0.46      0.92      0.62       304\n",
      "\n",
      "    accuracy                           0.66      1020\n",
      "   macro avg       0.70      0.73      0.65      1020\n",
      "weighted avg       0.80      0.66      0.67      1020\n",
      "\n",
      "Test Report\n",
      "              precision    recall  f1-score   support\n",
      "\n",
      "           0       0.88      0.49      0.63       191\n",
      "           1       0.35      0.80      0.48        65\n",
      "\n",
      "    accuracy                           0.57       256\n",
      "   macro avg       0.61      0.64      0.55       256\n",
      "weighted avg       0.74      0.57      0.59       256\n",
      "\n"
     ]
    },
    {
     "name": "stderr",
     "output_type": "stream",
     "text": [
      "/Users/architkaila/opt/anaconda3/envs/aipi520/lib/python3.8/site-packages/sklearn/utils/deprecation.py:87: FutureWarning: Function get_feature_names is deprecated; get_feature_names is deprecated in 1.0 and will be removed in 1.2. Please use get_feature_names_out instead.\n",
      "  warnings.warn(msg, category=FutureWarning)\n",
      "/Users/architkaila/opt/anaconda3/envs/aipi520/lib/python3.8/site-packages/sklearn/utils/deprecation.py:87: FutureWarning: Function get_feature_names is deprecated; get_feature_names is deprecated in 1.0 and will be removed in 1.2. Please use get_feature_names_out instead.\n",
      "  warnings.warn(msg, category=FutureWarning)\n"
     ]
    },
    {
     "name": "stdout",
     "output_type": "stream",
     "text": [
      "Train Report: CARATOÍRA\n",
      "              precision    recall  f1-score   support\n",
      "\n",
      "           0       0.95      0.64      0.76      1580\n",
      "           1       0.42      0.88      0.57       472\n",
      "\n",
      "    accuracy                           0.69      2052\n",
      "   macro avg       0.68      0.76      0.67      2052\n",
      "weighted avg       0.83      0.69      0.72      2052\n",
      "\n",
      "Test Report\n",
      "              precision    recall  f1-score   support\n",
      "\n",
      "           0       0.89      0.61      0.72       394\n",
      "           1       0.36      0.74      0.49       119\n",
      "\n",
      "    accuracy                           0.64       513\n",
      "   macro avg       0.62      0.67      0.60       513\n",
      "weighted avg       0.76      0.64      0.67       513\n",
      "\n"
     ]
    },
    {
     "name": "stderr",
     "output_type": "stream",
     "text": [
      "/Users/architkaila/opt/anaconda3/envs/aipi520/lib/python3.8/site-packages/sklearn/utils/deprecation.py:87: FutureWarning: Function get_feature_names is deprecated; get_feature_names is deprecated in 1.0 and will be removed in 1.2. Please use get_feature_names_out instead.\n",
      "  warnings.warn(msg, category=FutureWarning)\n",
      "/Users/architkaila/opt/anaconda3/envs/aipi520/lib/python3.8/site-packages/sklearn/utils/deprecation.py:87: FutureWarning: Function get_feature_names is deprecated; get_feature_names is deprecated in 1.0 and will be removed in 1.2. Please use get_feature_names_out instead.\n",
      "  warnings.warn(msg, category=FutureWarning)\n"
     ]
    },
    {
     "name": "stdout",
     "output_type": "stream",
     "text": [
      "Train Report: GURIGICA\n",
      "              precision    recall  f1-score   support\n",
      "\n",
      "           0       0.97      0.68      0.80      1248\n",
      "           1       0.46      0.93      0.61       366\n",
      "\n",
      "    accuracy                           0.74      1614\n",
      "   macro avg       0.71      0.80      0.71      1614\n",
      "weighted avg       0.85      0.74      0.76      1614\n",
      "\n",
      "Test Report\n",
      "              precision    recall  f1-score   support\n",
      "\n",
      "           0       0.93      0.65      0.77       314\n",
      "           1       0.41      0.83      0.55        90\n",
      "\n",
      "    accuracy                           0.69       404\n",
      "   macro avg       0.67      0.74      0.66       404\n",
      "weighted avg       0.82      0.69      0.72       404\n",
      "\n"
     ]
    },
    {
     "name": "stderr",
     "output_type": "stream",
     "text": [
      "/Users/architkaila/opt/anaconda3/envs/aipi520/lib/python3.8/site-packages/sklearn/utils/deprecation.py:87: FutureWarning: Function get_feature_names is deprecated; get_feature_names is deprecated in 1.0 and will be removed in 1.2. Please use get_feature_names_out instead.\n",
      "  warnings.warn(msg, category=FutureWarning)\n",
      "/Users/architkaila/opt/anaconda3/envs/aipi520/lib/python3.8/site-packages/sklearn/utils/deprecation.py:87: FutureWarning: Function get_feature_names is deprecated; get_feature_names is deprecated in 1.0 and will be removed in 1.2. Please use get_feature_names_out instead.\n",
      "  warnings.warn(msg, category=FutureWarning)\n"
     ]
    },
    {
     "name": "stdout",
     "output_type": "stream",
     "text": [
      "Train Report: JOANA D´ARC\n",
      "              precision    recall  f1-score   support\n",
      "\n",
      "           0       0.94      0.75      0.84       942\n",
      "           1       0.40      0.78      0.53       199\n",
      "\n",
      "    accuracy                           0.76      1141\n",
      "   macro avg       0.67      0.77      0.68      1141\n",
      "weighted avg       0.85      0.76      0.78      1141\n",
      "\n",
      "Test Report\n",
      "              precision    recall  f1-score   support\n",
      "\n",
      "           0       0.87      0.72      0.79       227\n",
      "           1       0.35      0.58      0.43        59\n",
      "\n",
      "    accuracy                           0.69       286\n",
      "   macro avg       0.61      0.65      0.61       286\n",
      "weighted avg       0.76      0.69      0.71       286\n",
      "\n"
     ]
    },
    {
     "name": "stderr",
     "output_type": "stream",
     "text": [
      "/Users/architkaila/opt/anaconda3/envs/aipi520/lib/python3.8/site-packages/sklearn/utils/deprecation.py:87: FutureWarning: Function get_feature_names is deprecated; get_feature_names is deprecated in 1.0 and will be removed in 1.2. Please use get_feature_names_out instead.\n",
      "  warnings.warn(msg, category=FutureWarning)\n",
      "/Users/architkaila/opt/anaconda3/envs/aipi520/lib/python3.8/site-packages/sklearn/utils/deprecation.py:87: FutureWarning: Function get_feature_names is deprecated; get_feature_names is deprecated in 1.0 and will be removed in 1.2. Please use get_feature_names_out instead.\n",
      "  warnings.warn(msg, category=FutureWarning)\n"
     ]
    },
    {
     "name": "stdout",
     "output_type": "stream",
     "text": [
      "Train Report: CONSOLAÇÃO\n",
      "              precision    recall  f1-score   support\n",
      "\n",
      "           0       0.97      0.81      0.88       913\n",
      "           1       0.48      0.87      0.62       187\n",
      "\n",
      "    accuracy                           0.82      1100\n",
      "   macro avg       0.73      0.84      0.75      1100\n",
      "weighted avg       0.89      0.82      0.84      1100\n",
      "\n",
      "Test Report\n",
      "              precision    recall  f1-score   support\n",
      "\n",
      "           0       0.89      0.78      0.83       226\n",
      "           1       0.36      0.57      0.44        49\n",
      "\n",
      "    accuracy                           0.74       275\n",
      "   macro avg       0.63      0.68      0.64       275\n",
      "weighted avg       0.80      0.74      0.76       275\n",
      "\n"
     ]
    },
    {
     "name": "stderr",
     "output_type": "stream",
     "text": [
      "/Users/architkaila/opt/anaconda3/envs/aipi520/lib/python3.8/site-packages/sklearn/utils/deprecation.py:87: FutureWarning: Function get_feature_names is deprecated; get_feature_names is deprecated in 1.0 and will be removed in 1.2. Please use get_feature_names_out instead.\n",
      "  warnings.warn(msg, category=FutureWarning)\n",
      "/Users/architkaila/opt/anaconda3/envs/aipi520/lib/python3.8/site-packages/sklearn/utils/deprecation.py:87: FutureWarning: Function get_feature_names is deprecated; get_feature_names is deprecated in 1.0 and will be removed in 1.2. Please use get_feature_names_out instead.\n",
      "  warnings.warn(msg, category=FutureWarning)\n"
     ]
    },
    {
     "name": "stdout",
     "output_type": "stream",
     "text": [
      "Train Report: PRAIA DO CANTO\n",
      "              precision    recall  f1-score   support\n",
      "\n",
      "           0       0.93      0.80      0.86       665\n",
      "           1       0.48      0.77      0.59       163\n",
      "\n",
      "    accuracy                           0.79       828\n",
      "   macro avg       0.71      0.78      0.73       828\n",
      "weighted avg       0.84      0.79      0.81       828\n",
      "\n",
      "Test Report\n",
      "              precision    recall  f1-score   support\n",
      "\n",
      "           0       0.87      0.68      0.76       180\n",
      "           1       0.12      0.30      0.17        27\n",
      "\n",
      "    accuracy                           0.63       207\n",
      "   macro avg       0.49      0.49      0.47       207\n",
      "weighted avg       0.77      0.63      0.69       207\n",
      "\n"
     ]
    },
    {
     "name": "stderr",
     "output_type": "stream",
     "text": [
      "/Users/architkaila/opt/anaconda3/envs/aipi520/lib/python3.8/site-packages/sklearn/utils/deprecation.py:87: FutureWarning: Function get_feature_names is deprecated; get_feature_names is deprecated in 1.0 and will be removed in 1.2. Please use get_feature_names_out instead.\n",
      "  warnings.warn(msg, category=FutureWarning)\n",
      "/Users/architkaila/opt/anaconda3/envs/aipi520/lib/python3.8/site-packages/sklearn/utils/deprecation.py:87: FutureWarning: Function get_feature_names is deprecated; get_feature_names is deprecated in 1.0 and will be removed in 1.2. Please use get_feature_names_out instead.\n",
      "  warnings.warn(msg, category=FutureWarning)\n"
     ]
    },
    {
     "name": "stdout",
     "output_type": "stream",
     "text": [
      "Train Report: FORTE SÃO JOÃO\n",
      "              precision    recall  f1-score   support\n",
      "\n",
      "           0       0.92      0.84      0.87      1239\n",
      "           1       0.46      0.65      0.54       272\n",
      "\n",
      "    accuracy                           0.80      1511\n",
      "   macro avg       0.69      0.74      0.71      1511\n",
      "weighted avg       0.83      0.80      0.81      1511\n",
      "\n",
      "Test Report\n",
      "              precision    recall  f1-score   support\n",
      "\n",
      "           0       0.84      0.83      0.83       304\n",
      "           1       0.33      0.34      0.33        74\n",
      "\n",
      "    accuracy                           0.74       378\n",
      "   macro avg       0.58      0.59      0.58       378\n",
      "weighted avg       0.74      0.74      0.74       378\n",
      "\n"
     ]
    },
    {
     "name": "stderr",
     "output_type": "stream",
     "text": [
      "/Users/architkaila/opt/anaconda3/envs/aipi520/lib/python3.8/site-packages/sklearn/utils/deprecation.py:87: FutureWarning: Function get_feature_names is deprecated; get_feature_names is deprecated in 1.0 and will be removed in 1.2. Please use get_feature_names_out instead.\n",
      "  warnings.warn(msg, category=FutureWarning)\n",
      "/Users/architkaila/opt/anaconda3/envs/aipi520/lib/python3.8/site-packages/sklearn/utils/deprecation.py:87: FutureWarning: Function get_feature_names is deprecated; get_feature_names is deprecated in 1.0 and will be removed in 1.2. Please use get_feature_names_out instead.\n",
      "  warnings.warn(msg, category=FutureWarning)\n"
     ]
    },
    {
     "name": "stdout",
     "output_type": "stream",
     "text": [
      "Train Report: JESUS DE NAZARETH\n",
      "              precision    recall  f1-score   support\n",
      "\n",
      "           0       0.97      0.58      0.72      1723\n",
      "           1       0.42      0.94      0.58       559\n",
      "\n",
      "    accuracy                           0.67      2282\n",
      "   macro avg       0.69      0.76      0.65      2282\n",
      "weighted avg       0.83      0.67      0.69      2282\n",
      "\n",
      "Test Report\n",
      "              precision    recall  f1-score   support\n",
      "\n",
      "           0       0.92      0.56      0.69       434\n",
      "           1       0.38      0.85      0.52       137\n",
      "\n",
      "    accuracy                           0.63       571\n",
      "   macro avg       0.65      0.70      0.61       571\n",
      "weighted avg       0.79      0.63      0.65       571\n",
      "\n"
     ]
    },
    {
     "name": "stderr",
     "output_type": "stream",
     "text": [
      "/Users/architkaila/opt/anaconda3/envs/aipi520/lib/python3.8/site-packages/sklearn/utils/deprecation.py:87: FutureWarning: Function get_feature_names is deprecated; get_feature_names is deprecated in 1.0 and will be removed in 1.2. Please use get_feature_names_out instead.\n",
      "  warnings.warn(msg, category=FutureWarning)\n",
      "/Users/architkaila/opt/anaconda3/envs/aipi520/lib/python3.8/site-packages/sklearn/utils/deprecation.py:87: FutureWarning: Function get_feature_names is deprecated; get_feature_names is deprecated in 1.0 and will be removed in 1.2. Please use get_feature_names_out instead.\n",
      "  warnings.warn(msg, category=FutureWarning)\n"
     ]
    },
    {
     "name": "stdout",
     "output_type": "stream",
     "text": [
      "Train Report: SANTA TEREZA\n",
      "              precision    recall  f1-score   support\n",
      "\n",
      "           0       0.94      0.76      0.84       840\n",
      "           1       0.48      0.81      0.60       225\n",
      "\n",
      "    accuracy                           0.77      1065\n",
      "   macro avg       0.71      0.79      0.72      1065\n",
      "weighted avg       0.84      0.77      0.79      1065\n",
      "\n",
      "Test Report\n",
      "              precision    recall  f1-score   support\n",
      "\n",
      "           0       0.90      0.74      0.81       220\n",
      "           1       0.33      0.62      0.43        47\n",
      "\n",
      "    accuracy                           0.72       267\n",
      "   macro avg       0.62      0.68      0.62       267\n",
      "weighted avg       0.80      0.72      0.74       267\n",
      "\n"
     ]
    },
    {
     "name": "stderr",
     "output_type": "stream",
     "text": [
      "/Users/architkaila/opt/anaconda3/envs/aipi520/lib/python3.8/site-packages/sklearn/utils/deprecation.py:87: FutureWarning: Function get_feature_names is deprecated; get_feature_names is deprecated in 1.0 and will be removed in 1.2. Please use get_feature_names_out instead.\n",
      "  warnings.warn(msg, category=FutureWarning)\n",
      "/Users/architkaila/opt/anaconda3/envs/aipi520/lib/python3.8/site-packages/sklearn/utils/deprecation.py:87: FutureWarning: Function get_feature_names is deprecated; get_feature_names is deprecated in 1.0 and will be removed in 1.2. Please use get_feature_names_out instead.\n",
      "  warnings.warn(msg, category=FutureWarning)\n"
     ]
    },
    {
     "name": "stdout",
     "output_type": "stream",
     "text": [
      "Train Report: CRUZAMENTO\n",
      "              precision    recall  f1-score   support\n",
      "\n",
      "           0       0.95      0.68      0.79       870\n",
      "           1       0.43      0.87      0.58       248\n",
      "\n",
      "    accuracy                           0.72      1118\n",
      "   macro avg       0.69      0.77      0.68      1118\n",
      "weighted avg       0.83      0.72      0.74      1118\n",
      "\n",
      "Test Report\n",
      "              precision    recall  f1-score   support\n",
      "\n",
      "           0       0.89      0.63      0.74       224\n",
      "           1       0.32      0.70      0.44        56\n",
      "\n",
      "    accuracy                           0.65       280\n",
      "   macro avg       0.61      0.67      0.59       280\n",
      "weighted avg       0.78      0.65      0.68       280\n",
      "\n"
     ]
    },
    {
     "name": "stderr",
     "output_type": "stream",
     "text": [
      "/Users/architkaila/opt/anaconda3/envs/aipi520/lib/python3.8/site-packages/sklearn/utils/deprecation.py:87: FutureWarning: Function get_feature_names is deprecated; get_feature_names is deprecated in 1.0 and will be removed in 1.2. Please use get_feature_names_out instead.\n",
      "  warnings.warn(msg, category=FutureWarning)\n",
      "/Users/architkaila/opt/anaconda3/envs/aipi520/lib/python3.8/site-packages/sklearn/utils/deprecation.py:87: FutureWarning: Function get_feature_names is deprecated; get_feature_names is deprecated in 1.0 and will be removed in 1.2. Please use get_feature_names_out instead.\n",
      "  warnings.warn(msg, category=FutureWarning)\n"
     ]
    },
    {
     "name": "stdout",
     "output_type": "stream",
     "text": [
      "Train Report: ILHA DO PRÍNCIPE\n",
      "              precision    recall  f1-score   support\n",
      "\n",
      "           0       0.96      0.58      0.72      1383\n",
      "           1       0.40      0.92      0.56       429\n",
      "\n",
      "    accuracy                           0.66      1812\n",
      "   macro avg       0.68      0.75      0.64      1812\n",
      "weighted avg       0.83      0.66      0.68      1812\n",
      "\n",
      "Test Report\n",
      "              precision    recall  f1-score   support\n",
      "\n",
      "           0       0.91      0.55      0.69       351\n",
      "           1       0.35      0.83      0.49       103\n",
      "\n",
      "    accuracy                           0.61       454\n",
      "   macro avg       0.63      0.69      0.59       454\n",
      "weighted avg       0.79      0.61      0.64       454\n",
      "\n"
     ]
    },
    {
     "name": "stderr",
     "output_type": "stream",
     "text": [
      "/Users/architkaila/opt/anaconda3/envs/aipi520/lib/python3.8/site-packages/sklearn/utils/deprecation.py:87: FutureWarning: Function get_feature_names is deprecated; get_feature_names is deprecated in 1.0 and will be removed in 1.2. Please use get_feature_names_out instead.\n",
      "  warnings.warn(msg, category=FutureWarning)\n",
      "/Users/architkaila/opt/anaconda3/envs/aipi520/lib/python3.8/site-packages/sklearn/utils/deprecation.py:87: FutureWarning: Function get_feature_names is deprecated; get_feature_names is deprecated in 1.0 and will be removed in 1.2. Please use get_feature_names_out instead.\n",
      "  warnings.warn(msg, category=FutureWarning)\n"
     ]
    },
    {
     "name": "stdout",
     "output_type": "stream",
     "text": [
      "Train Report: ROMÃO\n",
      "              precision    recall  f1-score   support\n",
      "\n",
      "           0       0.95      0.58      0.72      1383\n",
      "           1       0.37      0.89      0.53       388\n",
      "\n",
      "    accuracy                           0.65      1771\n",
      "   macro avg       0.66      0.74      0.62      1771\n",
      "weighted avg       0.82      0.65      0.68      1771\n",
      "\n",
      "Test Report\n",
      "              precision    recall  f1-score   support\n",
      "\n",
      "           0       0.91      0.58      0.71       357\n",
      "           1       0.30      0.76      0.43        86\n",
      "\n",
      "    accuracy                           0.62       443\n",
      "   macro avg       0.61      0.67      0.57       443\n",
      "weighted avg       0.79      0.62      0.66       443\n",
      "\n"
     ]
    }
   ],
   "source": [
    "## Create one model for each neighbourhood\n",
    "\n",
    "for key, datafr in data.items():\n",
    "    # Splitting dataset into test and train\n",
    "    X_train, X_test, y_train, y_test = train_test_split(datafr.drop(columns=[\"no_show\"]), datafr[\"no_show\"], random_state=0,test_size=0.2)\n",
    "\n",
    "    ## Ordinal encoder for features\n",
    "    enc = OrdinalEncoder(handle_unknown='use_encoded_value', unknown_value=-1)\n",
    "\n",
    "    ## Fit encoder on train and apply to test data as well\n",
    "    X_train[[\"gender\"]] = enc.fit_transform(X_train[[\"gender\"]])\n",
    "    X_test[[\"gender\"]] = enc.transform(X_test[[\"gender\"]])\n",
    "\n",
    "    ## One hot encode the train data\n",
    "    cols = [\"appointment_day_of_week\"]\n",
    "    X_train, onehot_enc = onehot_encode(X_train, cols)\n",
    "\n",
    "    # Apply onehot encoder to test data\n",
    "    colnames = columns=list(onehot_enc.get_feature_names(input_features=cols))\n",
    "    onehot_vals = onehot_enc.transform(X_test[cols]).toarray()\n",
    "\n",
    "    # Put transformed data into dataframe\n",
    "    enc_df = pd.DataFrame(onehot_vals,columns=colnames,index=X_test.index)\n",
    "    # Add onehot columns back onto original dataframe and drop the original columns\n",
    "    X_test = pd.concat([X_test,enc_df],axis=1).drop(cols, axis=1)\n",
    "\n",
    "    # Create the parameter grid based on the results of random search \n",
    "    param_grid = {\n",
    "        'max_depth' : [3,4,5,6],\n",
    "        'min_samples_leaf': [2, 3, 4, 5],\n",
    "        'n_estimators': [25, 50, 75],\n",
    "        'random_state':[0],\n",
    "        'criterion' :['gini', 'entropy'],\n",
    "        'class_weight': [{1:4}]\n",
    "    }\n",
    "\n",
    "    # Create a based model\n",
    "    rf = RandomForestClassifier()\n",
    "    # Instantiate the grid search model\n",
    "    grid_search = GridSearchCV(estimator = rf, param_grid = param_grid, \n",
    "                                cv = 3, n_jobs = -1, verbose = 0, scoring='precision')\n",
    "\n",
    "    # Fit the grid search to the data\n",
    "    grid_search.fit(X_train, y_train)\n",
    "\n",
    "    ## Train the best model\n",
    "    best_model = grid_search.best_estimator_\n",
    "    best_model.fit(X_train, y_train)\n",
    "\n",
    "    ## Classsification report\n",
    "    y_pred_train = best_model.predict(X_train)\n",
    "    print(f\"Train Report: {key}\")\n",
    "    print(classification_report(y_train, y_pred_train))\n",
    "    y_pred_test = best_model.predict(X_test)\n",
    "    print(\"Test Report\")\n",
    "    print(classification_report(y_test, y_pred_test))\n"
   ]
  },
  {
   "cell_type": "code",
   "execution_count": null,
   "metadata": {},
   "outputs": [],
   "source": []
  }
 ],
 "metadata": {
  "kernelspec": {
   "display_name": "Python 3.8.0 ('aipi520')",
   "language": "python",
   "name": "python3"
  },
  "language_info": {
   "codemirror_mode": {
    "name": "ipython",
    "version": 3
   },
   "file_extension": ".py",
   "mimetype": "text/x-python",
   "name": "python",
   "nbconvert_exporter": "python",
   "pygments_lexer": "ipython3",
   "version": "3.8.0"
  },
  "vscode": {
   "interpreter": {
    "hash": "3a98011f62da9e999c9454d2aade72bbc7f019edac84829526fe29fa43abb9ce"
   }
  }
 },
 "nbformat": 4,
 "nbformat_minor": 0
}
