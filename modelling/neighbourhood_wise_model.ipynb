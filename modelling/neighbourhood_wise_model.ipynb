{
 "cells": [
  {
   "cell_type": "code",
   "execution_count": 1,
   "metadata": {
    "collapsed": true
   },
   "outputs": [],
   "source": [
    "import numpy as np\n",
    "import pandas as pd\n",
    "from sklearn.ensemble import RandomForestClassifier\n",
    "from sklearn.metrics import accuracy_score, classification_report, confusion_matrix, roc_auc_score\n",
    "from sklearn.model_selection import train_test_split, GridSearchCV\n",
    "from sklearn.preprocessing import OrdinalEncoder\n",
    "from sklearn.preprocessing import StandardScaler, OneHotEncoder\n",
    "\n",
    "import matplotlib.pyplot as plt\n",
    "from sklearn.metrics import precision_recall_curve"
   ]
  },
  {
   "cell_type": "markdown",
   "metadata": {},
   "source": [
    "## Neighbourhood wise modelling"
   ]
  },
  {
   "cell_type": "code",
   "execution_count": 7,
   "metadata": {},
   "outputs": [],
   "source": [
    "def onehot_encode(X, cols):\n",
    "    # Treat new categories as a new 'unknown' category (all onehot columns are 0)\n",
    "    onehot_enc = OneHotEncoder(handle_unknown='ignore')\n",
    "    # Fit encoder on training data\n",
    "    onehot_enc.fit(X[cols])\n",
    "    # Get the names of the new columns created\n",
    "    colnames = list(onehot_enc.get_feature_names(input_features=cols))\n",
    "    # Transform the data\n",
    "    onehot_vals = onehot_enc.transform(X[cols]).toarray()\n",
    "    # Put transformed data into dataframe\n",
    "    enc_df = pd.DataFrame(onehot_vals,columns=colnames,index=X.index)\n",
    "    # Add onehot columns back onto original dataframe and drop the original columns\n",
    "    X = pd.concat([X,enc_df],axis=1).drop(cols,axis=1)\n",
    "    return X,onehot_enc"
   ]
  },
  {
   "cell_type": "code",
   "execution_count": 8,
   "metadata": {},
   "outputs": [
    {
     "name": "stdout",
     "output_type": "stream",
     "text": [
      "<class 'pandas.core.frame.DataFrame'>\n",
      "RangeIndex: 106980 entries, 0 to 106979\n",
      "Data columns (total 26 columns):\n",
      " #   Column                                      Non-Null Count   Dtype  \n",
      "---  ------                                      --------------   -----  \n",
      " 0   gender                                      106980 non-null  object \n",
      " 1   age                                         106980 non-null  int64  \n",
      " 2   neighbourhood                               106980 non-null  object \n",
      " 3   scholarship                                 106980 non-null  int64  \n",
      " 4   hypertension                                106980 non-null  int64  \n",
      " 5   diabetes                                    106980 non-null  int64  \n",
      " 6   alcoholism                                  106980 non-null  int64  \n",
      " 7   handicap                                    106980 non-null  int64  \n",
      " 8   sms_received                                106980 non-null  int64  \n",
      " 9   showed                                      106980 non-null  int64  \n",
      " 10  days_between_appointment_and_scheduled_day  106980 non-null  int64  \n",
      " 11  age_group                                   106980 non-null  object \n",
      " 12  appointment_day_of_week                     106980 non-null  object \n",
      " 13  tempmax                                     106980 non-null  float64\n",
      " 14  temp                                        106980 non-null  float64\n",
      " 15  feelslikemax                                106980 non-null  float64\n",
      " 16  feelslike                                   106980 non-null  float64\n",
      " 17  humidity                                    106980 non-null  float64\n",
      " 18  windspeed                                   106980 non-null  float64\n",
      " 19  solarradiation                              106980 non-null  float64\n",
      " 20  solarenergy                                 106980 non-null  float64\n",
      " 21  uvindex                                     106980 non-null  float64\n",
      " 22  Neighbourhood                               106980 non-null  object \n",
      " 23  rating                                      106980 non-null  float64\n",
      " 24  no_show                                     106980 non-null  int64  \n",
      " 25  previous_app                                106980 non-null  int64  \n",
      "dtypes: float64(10), int64(11), object(5)\n",
      "memory usage: 21.2+ MB\n"
     ]
    }
   ],
   "source": [
    "## Read the data for modelling\n",
    "df = pd.read_csv('data/final_data_for_modelling.csv')\n",
    "\n",
    "df.info()"
   ]
  },
  {
   "cell_type": "code",
   "execution_count": 9,
   "metadata": {},
   "outputs": [
    {
     "data": {
      "text/plain": [
       "['JARDIM DA PENHA',\n",
       " 'ANDORINHAS',\n",
       " 'NOVA PALESTINA',\n",
       " 'DA PENHA',\n",
       " 'TABUAZEIRO',\n",
       " 'SÃO PEDRO',\n",
       " 'SANTA MARTHA',\n",
       " 'SANTO ANDRÉ',\n",
       " 'BONFIM',\n",
       " 'JARDIM CAMBURI',\n",
       " 'MARIA ORTIZ',\n",
       " 'JABOUR',\n",
       " 'RESISTÊNCIA',\n",
       " 'SANTO ANTÔNIO',\n",
       " 'ITARARÉ',\n",
       " 'CENTRO',\n",
       " 'CARATOÍRA',\n",
       " 'JESUS DE NAZARETH',\n",
       " 'ILHA DO PRÍNCIPE',\n",
       " 'ROMÃO']"
      ]
     },
     "execution_count": 9,
     "metadata": {},
     "output_type": "execute_result"
    }
   ],
   "source": [
    "## get a list of neighbourhoods\n",
    "neigh_list = list(df.neighbourhood.unique())\n",
    "filter_neigh_list = [neigh for neigh in neigh_list if len(df[df[\"neighbourhood\"] == neigh])>2000]\n",
    "\n",
    "filter_neigh_list"
   ]
  },
  {
   "cell_type": "code",
   "execution_count": 10,
   "metadata": {},
   "outputs": [],
   "source": [
    "## Make dataframe filters for each neighbourhood\n",
    "data = {}\n",
    "for neigh in filter_neigh_list:\n",
    "    df_temp = df.copy()\n",
    "    df_temp = df_temp[df_temp[\"neighbourhood\"] == neigh]\n",
    "    df_temp.drop(columns=[\"age_group\", \"Neighbourhood\", \"neighbourhood\", \"showed\"] , inplace=True)\n",
    "    data[neigh] = df_temp"
   ]
  },
  {
   "cell_type": "code",
   "execution_count": 11,
   "metadata": {},
   "outputs": [
    {
     "name": "stderr",
     "output_type": "stream",
     "text": [
      "/Users/architkaila/opt/anaconda3/envs/aipi520/lib/python3.8/site-packages/sklearn/utils/deprecation.py:87: FutureWarning: Function get_feature_names is deprecated; get_feature_names is deprecated in 1.0 and will be removed in 1.2. Please use get_feature_names_out instead.\n",
      "  warnings.warn(msg, category=FutureWarning)\n",
      "/Users/architkaila/opt/anaconda3/envs/aipi520/lib/python3.8/site-packages/sklearn/utils/deprecation.py:87: FutureWarning: Function get_feature_names is deprecated; get_feature_names is deprecated in 1.0 and will be removed in 1.2. Please use get_feature_names_out instead.\n",
      "  warnings.warn(msg, category=FutureWarning)\n"
     ]
    },
    {
     "name": "stdout",
     "output_type": "stream",
     "text": [
      "Train Report: JARDIM DA PENHA\n",
      "              precision    recall  f1-score   support\n",
      "\n",
      "           0       0.87      0.89      0.88      2590\n",
      "           1       0.33      0.30      0.31       490\n",
      "\n",
      "    accuracy                           0.79      3080\n",
      "   macro avg       0.60      0.59      0.60      3080\n",
      "weighted avg       0.78      0.79      0.79      3080\n",
      "\n",
      "Test Report\n",
      "              precision    recall  f1-score   support\n",
      "\n",
      "           0       0.84      0.85      0.85       634\n",
      "           1       0.26      0.24      0.25       137\n",
      "\n",
      "    accuracy                           0.75       771\n",
      "   macro avg       0.55      0.55      0.55       771\n",
      "weighted avg       0.74      0.75      0.74       771\n",
      "\n"
     ]
    },
    {
     "name": "stderr",
     "output_type": "stream",
     "text": [
      "/Users/architkaila/opt/anaconda3/envs/aipi520/lib/python3.8/site-packages/sklearn/utils/deprecation.py:87: FutureWarning: Function get_feature_names is deprecated; get_feature_names is deprecated in 1.0 and will be removed in 1.2. Please use get_feature_names_out instead.\n",
      "  warnings.warn(msg, category=FutureWarning)\n",
      "/Users/architkaila/opt/anaconda3/envs/aipi520/lib/python3.8/site-packages/sklearn/utils/deprecation.py:87: FutureWarning: Function get_feature_names is deprecated; get_feature_names is deprecated in 1.0 and will be removed in 1.2. Please use get_feature_names_out instead.\n",
      "  warnings.warn(msg, category=FutureWarning)\n"
     ]
    },
    {
     "name": "stdout",
     "output_type": "stream",
     "text": [
      "Train Report: ANDORINHAS\n",
      "              precision    recall  f1-score   support\n",
      "\n",
      "           0       0.96      0.51      0.67      1335\n",
      "           1       0.38      0.94      0.54       421\n",
      "\n",
      "    accuracy                           0.62      1756\n",
      "   macro avg       0.67      0.73      0.60      1756\n",
      "weighted avg       0.82      0.62      0.64      1756\n",
      "\n",
      "Test Report\n",
      "              precision    recall  f1-score   support\n",
      "\n",
      "           0       0.94      0.51      0.66       351\n",
      "           1       0.31      0.86      0.45        88\n",
      "\n",
      "    accuracy                           0.58       439\n",
      "   macro avg       0.62      0.69      0.56       439\n",
      "weighted avg       0.81      0.58      0.62       439\n",
      "\n"
     ]
    },
    {
     "name": "stderr",
     "output_type": "stream",
     "text": [
      "/Users/architkaila/opt/anaconda3/envs/aipi520/lib/python3.8/site-packages/sklearn/utils/deprecation.py:87: FutureWarning: Function get_feature_names is deprecated; get_feature_names is deprecated in 1.0 and will be removed in 1.2. Please use get_feature_names_out instead.\n",
      "  warnings.warn(msg, category=FutureWarning)\n",
      "/Users/architkaila/opt/anaconda3/envs/aipi520/lib/python3.8/site-packages/sklearn/utils/deprecation.py:87: FutureWarning: Function get_feature_names is deprecated; get_feature_names is deprecated in 1.0 and will be removed in 1.2. Please use get_feature_names_out instead.\n",
      "  warnings.warn(msg, category=FutureWarning)\n"
     ]
    },
    {
     "name": "stdout",
     "output_type": "stream",
     "text": [
      "Train Report: NOVA PALESTINA\n",
      "              precision    recall  f1-score   support\n",
      "\n",
      "           0       0.95      0.77      0.85      1407\n",
      "           1       0.43      0.80      0.56       310\n",
      "\n",
      "    accuracy                           0.77      1717\n",
      "   macro avg       0.69      0.78      0.70      1717\n",
      "weighted avg       0.85      0.77      0.79      1717\n",
      "\n",
      "Test Report\n",
      "              precision    recall  f1-score   support\n",
      "\n",
      "           0       0.90      0.74      0.81       356\n",
      "           1       0.33      0.62      0.43        74\n",
      "\n",
      "    accuracy                           0.72       430\n",
      "   macro avg       0.62      0.68      0.62       430\n",
      "weighted avg       0.81      0.72      0.75       430\n",
      "\n"
     ]
    },
    {
     "name": "stderr",
     "output_type": "stream",
     "text": [
      "/Users/architkaila/opt/anaconda3/envs/aipi520/lib/python3.8/site-packages/sklearn/utils/deprecation.py:87: FutureWarning: Function get_feature_names is deprecated; get_feature_names is deprecated in 1.0 and will be removed in 1.2. Please use get_feature_names_out instead.\n",
      "  warnings.warn(msg, category=FutureWarning)\n",
      "/Users/architkaila/opt/anaconda3/envs/aipi520/lib/python3.8/site-packages/sklearn/utils/deprecation.py:87: FutureWarning: Function get_feature_names is deprecated; get_feature_names is deprecated in 1.0 and will be removed in 1.2. Please use get_feature_names_out instead.\n",
      "  warnings.warn(msg, category=FutureWarning)\n"
     ]
    },
    {
     "name": "stdout",
     "output_type": "stream",
     "text": [
      "Train Report: DA PENHA\n",
      "              precision    recall  f1-score   support\n",
      "\n",
      "           0       0.95      0.72      0.82      1391\n",
      "           1       0.42      0.84      0.56       333\n",
      "\n",
      "    accuracy                           0.74      1724\n",
      "   macro avg       0.68      0.78      0.69      1724\n",
      "weighted avg       0.85      0.74      0.77      1724\n",
      "\n",
      "Test Report\n",
      "              precision    recall  f1-score   support\n",
      "\n",
      "           0       0.86      0.70      0.77       342\n",
      "           1       0.33      0.57      0.42        89\n",
      "\n",
      "    accuracy                           0.67       431\n",
      "   macro avg       0.60      0.63      0.59       431\n",
      "weighted avg       0.75      0.67      0.70       431\n",
      "\n"
     ]
    },
    {
     "name": "stderr",
     "output_type": "stream",
     "text": [
      "/Users/architkaila/opt/anaconda3/envs/aipi520/lib/python3.8/site-packages/sklearn/utils/deprecation.py:87: FutureWarning: Function get_feature_names is deprecated; get_feature_names is deprecated in 1.0 and will be removed in 1.2. Please use get_feature_names_out instead.\n",
      "  warnings.warn(msg, category=FutureWarning)\n",
      "/Users/architkaila/opt/anaconda3/envs/aipi520/lib/python3.8/site-packages/sklearn/utils/deprecation.py:87: FutureWarning: Function get_feature_names is deprecated; get_feature_names is deprecated in 1.0 and will be removed in 1.2. Please use get_feature_names_out instead.\n",
      "  warnings.warn(msg, category=FutureWarning)\n"
     ]
    },
    {
     "name": "stdout",
     "output_type": "stream",
     "text": [
      "Train Report: TABUAZEIRO\n",
      "              precision    recall  f1-score   support\n",
      "\n",
      "           0       0.94      0.71      0.81      1976\n",
      "           1       0.39      0.81      0.52       438\n",
      "\n",
      "    accuracy                           0.73      2414\n",
      "   macro avg       0.67      0.76      0.67      2414\n",
      "weighted avg       0.84      0.73      0.76      2414\n",
      "\n",
      "Test Report\n",
      "              precision    recall  f1-score   support\n",
      "\n",
      "           0       0.89      0.66      0.76       491\n",
      "           1       0.30      0.65      0.41       113\n",
      "\n",
      "    accuracy                           0.66       604\n",
      "   macro avg       0.60      0.65      0.58       604\n",
      "weighted avg       0.78      0.66      0.69       604\n",
      "\n"
     ]
    },
    {
     "name": "stderr",
     "output_type": "stream",
     "text": [
      "/Users/architkaila/opt/anaconda3/envs/aipi520/lib/python3.8/site-packages/sklearn/utils/deprecation.py:87: FutureWarning: Function get_feature_names is deprecated; get_feature_names is deprecated in 1.0 and will be removed in 1.2. Please use get_feature_names_out instead.\n",
      "  warnings.warn(msg, category=FutureWarning)\n",
      "/Users/architkaila/opt/anaconda3/envs/aipi520/lib/python3.8/site-packages/sklearn/utils/deprecation.py:87: FutureWarning: Function get_feature_names is deprecated; get_feature_names is deprecated in 1.0 and will be removed in 1.2. Please use get_feature_names_out instead.\n",
      "  warnings.warn(msg, category=FutureWarning)\n"
     ]
    },
    {
     "name": "stdout",
     "output_type": "stream",
     "text": [
      "Train Report: SÃO PEDRO\n",
      "              precision    recall  f1-score   support\n",
      "\n",
      "           0       0.94      0.61      0.74      1475\n",
      "           1       0.37      0.85      0.52       401\n",
      "\n",
      "    accuracy                           0.66      1876\n",
      "   macro avg       0.65      0.73      0.63      1876\n",
      "weighted avg       0.82      0.66      0.69      1876\n",
      "\n",
      "Test Report\n",
      "              precision    recall  f1-score   support\n",
      "\n",
      "           0       0.89      0.58      0.70       374\n",
      "           1       0.31      0.73      0.43        96\n",
      "\n",
      "    accuracy                           0.61       470\n",
      "   macro avg       0.60      0.65      0.57       470\n",
      "weighted avg       0.77      0.61      0.65       470\n",
      "\n"
     ]
    },
    {
     "name": "stderr",
     "output_type": "stream",
     "text": [
      "/Users/architkaila/opt/anaconda3/envs/aipi520/lib/python3.8/site-packages/sklearn/utils/deprecation.py:87: FutureWarning: Function get_feature_names is deprecated; get_feature_names is deprecated in 1.0 and will be removed in 1.2. Please use get_feature_names_out instead.\n",
      "  warnings.warn(msg, category=FutureWarning)\n",
      "/Users/architkaila/opt/anaconda3/envs/aipi520/lib/python3.8/site-packages/sklearn/utils/deprecation.py:87: FutureWarning: Function get_feature_names is deprecated; get_feature_names is deprecated in 1.0 and will be removed in 1.2. Please use get_feature_names_out instead.\n",
      "  warnings.warn(msg, category=FutureWarning)\n"
     ]
    },
    {
     "name": "stdout",
     "output_type": "stream",
     "text": [
      "Train Report: SANTA MARTHA\n",
      "              precision    recall  f1-score   support\n",
      "\n",
      "           0       0.96      0.71      0.82      2041\n",
      "           1       0.36      0.83      0.50       391\n",
      "\n",
      "    accuracy                           0.73      2432\n",
      "   macro avg       0.66      0.77      0.66      2432\n",
      "weighted avg       0.86      0.73      0.77      2432\n",
      "\n",
      "Test Report\n",
      "              precision    recall  f1-score   support\n",
      "\n",
      "           0       0.94      0.72      0.81       511\n",
      "           1       0.34      0.77      0.47        98\n",
      "\n",
      "    accuracy                           0.72       609\n",
      "   macro avg       0.64      0.74      0.64       609\n",
      "weighted avg       0.84      0.72      0.76       609\n",
      "\n"
     ]
    },
    {
     "name": "stderr",
     "output_type": "stream",
     "text": [
      "/Users/architkaila/opt/anaconda3/envs/aipi520/lib/python3.8/site-packages/sklearn/utils/deprecation.py:87: FutureWarning: Function get_feature_names is deprecated; get_feature_names is deprecated in 1.0 and will be removed in 1.2. Please use get_feature_names_out instead.\n",
      "  warnings.warn(msg, category=FutureWarning)\n",
      "/Users/architkaila/opt/anaconda3/envs/aipi520/lib/python3.8/site-packages/sklearn/utils/deprecation.py:87: FutureWarning: Function get_feature_names is deprecated; get_feature_names is deprecated in 1.0 and will be removed in 1.2. Please use get_feature_names_out instead.\n",
      "  warnings.warn(msg, category=FutureWarning)\n"
     ]
    },
    {
     "name": "stdout",
     "output_type": "stream",
     "text": [
      "Train Report: SANTO ANDRÉ\n",
      "              precision    recall  f1-score   support\n",
      "\n",
      "           0       0.95      0.69      0.80      1586\n",
      "           1       0.40      0.84      0.54       380\n",
      "\n",
      "    accuracy                           0.72      1966\n",
      "   macro avg       0.67      0.77      0.67      1966\n",
      "weighted avg       0.84      0.72      0.75      1966\n",
      "\n",
      "Test Report\n",
      "              precision    recall  f1-score   support\n",
      "\n",
      "           0       0.89      0.63      0.74       386\n",
      "           1       0.35      0.72      0.47       106\n",
      "\n",
      "    accuracy                           0.65       492\n",
      "   macro avg       0.62      0.67      0.60       492\n",
      "weighted avg       0.77      0.65      0.68       492\n",
      "\n"
     ]
    },
    {
     "name": "stderr",
     "output_type": "stream",
     "text": [
      "/Users/architkaila/opt/anaconda3/envs/aipi520/lib/python3.8/site-packages/sklearn/utils/deprecation.py:87: FutureWarning: Function get_feature_names is deprecated; get_feature_names is deprecated in 1.0 and will be removed in 1.2. Please use get_feature_names_out instead.\n",
      "  warnings.warn(msg, category=FutureWarning)\n",
      "/Users/architkaila/opt/anaconda3/envs/aipi520/lib/python3.8/site-packages/sklearn/utils/deprecation.py:87: FutureWarning: Function get_feature_names is deprecated; get_feature_names is deprecated in 1.0 and will be removed in 1.2. Please use get_feature_names_out instead.\n",
      "  warnings.warn(msg, category=FutureWarning)\n"
     ]
    },
    {
     "name": "stdout",
     "output_type": "stream",
     "text": [
      "Train Report: BONFIM\n",
      "              precision    recall  f1-score   support\n",
      "\n",
      "           0       0.96      0.67      0.79      1736\n",
      "           1       0.39      0.88      0.54       424\n",
      "\n",
      "    accuracy                           0.71      2160\n",
      "   macro avg       0.67      0.77      0.66      2160\n",
      "weighted avg       0.85      0.71      0.74      2160\n",
      "\n",
      "Test Report\n",
      "              precision    recall  f1-score   support\n",
      "\n",
      "           0       0.89      0.67      0.77       427\n",
      "           1       0.36      0.69      0.47       113\n",
      "\n",
      "    accuracy                           0.68       540\n",
      "   macro avg       0.62      0.68      0.62       540\n",
      "weighted avg       0.78      0.68      0.70       540\n",
      "\n"
     ]
    },
    {
     "name": "stderr",
     "output_type": "stream",
     "text": [
      "/Users/architkaila/opt/anaconda3/envs/aipi520/lib/python3.8/site-packages/sklearn/utils/deprecation.py:87: FutureWarning: Function get_feature_names is deprecated; get_feature_names is deprecated in 1.0 and will be removed in 1.2. Please use get_feature_names_out instead.\n",
      "  warnings.warn(msg, category=FutureWarning)\n",
      "/Users/architkaila/opt/anaconda3/envs/aipi520/lib/python3.8/site-packages/sklearn/utils/deprecation.py:87: FutureWarning: Function get_feature_names is deprecated; get_feature_names is deprecated in 1.0 and will be removed in 1.2. Please use get_feature_names_out instead.\n",
      "  warnings.warn(msg, category=FutureWarning)\n"
     ]
    },
    {
     "name": "stdout",
     "output_type": "stream",
     "text": [
      "Train Report: JARDIM CAMBURI\n",
      "              precision    recall  f1-score   support\n",
      "\n",
      "           0       0.92      0.61      0.74      4927\n",
      "           1       0.32      0.78      0.45      1141\n",
      "\n",
      "    accuracy                           0.64      6068\n",
      "   macro avg       0.62      0.70      0.59      6068\n",
      "weighted avg       0.81      0.64      0.68      6068\n",
      "\n",
      "Test Report\n",
      "              precision    recall  f1-score   support\n",
      "\n",
      "           0       0.89      0.59      0.71      1227\n",
      "           1       0.28      0.68      0.40       291\n",
      "\n",
      "    accuracy                           0.61      1518\n",
      "   macro avg       0.58      0.63      0.55      1518\n",
      "weighted avg       0.77      0.61      0.65      1518\n",
      "\n"
     ]
    },
    {
     "name": "stderr",
     "output_type": "stream",
     "text": [
      "/Users/architkaila/opt/anaconda3/envs/aipi520/lib/python3.8/site-packages/sklearn/utils/deprecation.py:87: FutureWarning: Function get_feature_names is deprecated; get_feature_names is deprecated in 1.0 and will be removed in 1.2. Please use get_feature_names_out instead.\n",
      "  warnings.warn(msg, category=FutureWarning)\n",
      "/Users/architkaila/opt/anaconda3/envs/aipi520/lib/python3.8/site-packages/sklearn/utils/deprecation.py:87: FutureWarning: Function get_feature_names is deprecated; get_feature_names is deprecated in 1.0 and will be removed in 1.2. Please use get_feature_names_out instead.\n",
      "  warnings.warn(msg, category=FutureWarning)\n"
     ]
    },
    {
     "name": "stdout",
     "output_type": "stream",
     "text": [
      "Train Report: MARIA ORTIZ\n",
      "              precision    recall  f1-score   support\n",
      "\n",
      "           0       0.96      0.55      0.70      3490\n",
      "           1       0.36      0.91      0.52       960\n",
      "\n",
      "    accuracy                           0.63      4450\n",
      "   macro avg       0.66      0.73      0.61      4450\n",
      "weighted avg       0.83      0.63      0.66      4450\n",
      "\n",
      "Test Report\n",
      "              precision    recall  f1-score   support\n",
      "\n",
      "           0       0.95      0.51      0.66       879\n",
      "           1       0.33      0.90      0.48       234\n",
      "\n",
      "    accuracy                           0.59      1113\n",
      "   macro avg       0.64      0.71      0.57      1113\n",
      "weighted avg       0.82      0.59      0.62      1113\n",
      "\n"
     ]
    },
    {
     "name": "stderr",
     "output_type": "stream",
     "text": [
      "/Users/architkaila/opt/anaconda3/envs/aipi520/lib/python3.8/site-packages/sklearn/utils/deprecation.py:87: FutureWarning: Function get_feature_names is deprecated; get_feature_names is deprecated in 1.0 and will be removed in 1.2. Please use get_feature_names_out instead.\n",
      "  warnings.warn(msg, category=FutureWarning)\n",
      "/Users/architkaila/opt/anaconda3/envs/aipi520/lib/python3.8/site-packages/sklearn/utils/deprecation.py:87: FutureWarning: Function get_feature_names is deprecated; get_feature_names is deprecated in 1.0 and will be removed in 1.2. Please use get_feature_names_out instead.\n",
      "  warnings.warn(msg, category=FutureWarning)\n"
     ]
    },
    {
     "name": "stdout",
     "output_type": "stream",
     "text": [
      "Train Report: JABOUR\n",
      "              precision    recall  f1-score   support\n",
      "\n",
      "           0       0.94      0.65      0.77      1557\n",
      "           1       0.35      0.84      0.50       359\n",
      "\n",
      "    accuracy                           0.68      1916\n",
      "   macro avg       0.65      0.74      0.63      1916\n",
      "weighted avg       0.83      0.68      0.72      1916\n",
      "\n",
      "Test Report\n",
      "              precision    recall  f1-score   support\n",
      "\n",
      "           0       0.93      0.64      0.76       407\n",
      "           1       0.26      0.73      0.39        73\n",
      "\n",
      "    accuracy                           0.65       480\n",
      "   macro avg       0.60      0.68      0.57       480\n",
      "weighted avg       0.83      0.65      0.70       480\n",
      "\n"
     ]
    },
    {
     "name": "stderr",
     "output_type": "stream",
     "text": [
      "/Users/architkaila/opt/anaconda3/envs/aipi520/lib/python3.8/site-packages/sklearn/utils/deprecation.py:87: FutureWarning: Function get_feature_names is deprecated; get_feature_names is deprecated in 1.0 and will be removed in 1.2. Please use get_feature_names_out instead.\n",
      "  warnings.warn(msg, category=FutureWarning)\n",
      "/Users/architkaila/opt/anaconda3/envs/aipi520/lib/python3.8/site-packages/sklearn/utils/deprecation.py:87: FutureWarning: Function get_feature_names is deprecated; get_feature_names is deprecated in 1.0 and will be removed in 1.2. Please use get_feature_names_out instead.\n",
      "  warnings.warn(msg, category=FutureWarning)\n"
     ]
    },
    {
     "name": "stdout",
     "output_type": "stream",
     "text": [
      "Train Report: RESISTÊNCIA\n",
      "              precision    recall  f1-score   support\n",
      "\n",
      "           0       0.95      0.59      0.73      2678\n",
      "           1       0.37      0.89      0.52       709\n",
      "\n",
      "    accuracy                           0.66      3387\n",
      "   macro avg       0.66      0.74      0.63      3387\n",
      "weighted avg       0.83      0.66      0.69      3387\n",
      "\n",
      "Test Report\n",
      "              precision    recall  f1-score   support\n",
      "\n",
      "           0       0.91      0.55      0.69       682\n",
      "           1       0.30      0.78      0.43       165\n",
      "\n",
      "    accuracy                           0.60       847\n",
      "   macro avg       0.61      0.67      0.56       847\n",
      "weighted avg       0.79      0.60      0.64       847\n",
      "\n"
     ]
    },
    {
     "name": "stderr",
     "output_type": "stream",
     "text": [
      "/Users/architkaila/opt/anaconda3/envs/aipi520/lib/python3.8/site-packages/sklearn/utils/deprecation.py:87: FutureWarning: Function get_feature_names is deprecated; get_feature_names is deprecated in 1.0 and will be removed in 1.2. Please use get_feature_names_out instead.\n",
      "  warnings.warn(msg, category=FutureWarning)\n",
      "/Users/architkaila/opt/anaconda3/envs/aipi520/lib/python3.8/site-packages/sklearn/utils/deprecation.py:87: FutureWarning: Function get_feature_names is deprecated; get_feature_names is deprecated in 1.0 and will be removed in 1.2. Please use get_feature_names_out instead.\n",
      "  warnings.warn(msg, category=FutureWarning)\n"
     ]
    },
    {
     "name": "stdout",
     "output_type": "stream",
     "text": [
      "Train Report: SANTO ANTÔNIO\n",
      "              precision    recall  f1-score   support\n",
      "\n",
      "           0       0.94      0.72      0.82      1760\n",
      "           1       0.37      0.77      0.50       376\n",
      "\n",
      "    accuracy                           0.73      2136\n",
      "   macro avg       0.65      0.75      0.66      2136\n",
      "weighted avg       0.84      0.73      0.76      2136\n",
      "\n",
      "Test Report\n",
      "              precision    recall  f1-score   support\n",
      "\n",
      "           0       0.88      0.68      0.77       438\n",
      "           1       0.29      0.59      0.39        97\n",
      "\n",
      "    accuracy                           0.67       535\n",
      "   macro avg       0.59      0.64      0.58       535\n",
      "weighted avg       0.78      0.67      0.70       535\n",
      "\n"
     ]
    },
    {
     "name": "stderr",
     "output_type": "stream",
     "text": [
      "/Users/architkaila/opt/anaconda3/envs/aipi520/lib/python3.8/site-packages/sklearn/utils/deprecation.py:87: FutureWarning: Function get_feature_names is deprecated; get_feature_names is deprecated in 1.0 and will be removed in 1.2. Please use get_feature_names_out instead.\n",
      "  warnings.warn(msg, category=FutureWarning)\n",
      "/Users/architkaila/opt/anaconda3/envs/aipi520/lib/python3.8/site-packages/sklearn/utils/deprecation.py:87: FutureWarning: Function get_feature_names is deprecated; get_feature_names is deprecated in 1.0 and will be removed in 1.2. Please use get_feature_names_out instead.\n",
      "  warnings.warn(msg, category=FutureWarning)\n"
     ]
    },
    {
     "name": "stdout",
     "output_type": "stream",
     "text": [
      "Train Report: ITARARÉ\n",
      "              precision    recall  f1-score   support\n",
      "\n",
      "           0       0.95      0.56      0.70      2021\n",
      "           1       0.42      0.91      0.57       708\n",
      "\n",
      "    accuracy                           0.65      2729\n",
      "   macro avg       0.68      0.73      0.64      2729\n",
      "weighted avg       0.81      0.65      0.67      2729\n",
      "\n",
      "Test Report\n",
      "              precision    recall  f1-score   support\n",
      "\n",
      "           0       0.88      0.52      0.65       493\n",
      "           1       0.39      0.82      0.53       190\n",
      "\n",
      "    accuracy                           0.60       683\n",
      "   macro avg       0.64      0.67      0.59       683\n",
      "weighted avg       0.74      0.60      0.62       683\n",
      "\n"
     ]
    },
    {
     "name": "stderr",
     "output_type": "stream",
     "text": [
      "/Users/architkaila/opt/anaconda3/envs/aipi520/lib/python3.8/site-packages/sklearn/utils/deprecation.py:87: FutureWarning: Function get_feature_names is deprecated; get_feature_names is deprecated in 1.0 and will be removed in 1.2. Please use get_feature_names_out instead.\n",
      "  warnings.warn(msg, category=FutureWarning)\n",
      "/Users/architkaila/opt/anaconda3/envs/aipi520/lib/python3.8/site-packages/sklearn/utils/deprecation.py:87: FutureWarning: Function get_feature_names is deprecated; get_feature_names is deprecated in 1.0 and will be removed in 1.2. Please use get_feature_names_out instead.\n",
      "  warnings.warn(msg, category=FutureWarning)\n"
     ]
    },
    {
     "name": "stdout",
     "output_type": "stream",
     "text": [
      "Train Report: CENTRO\n",
      "              precision    recall  f1-score   support\n",
      "\n",
      "           0       0.94      0.62      0.74      2062\n",
      "           1       0.38      0.86      0.53       563\n",
      "\n",
      "    accuracy                           0.67      2625\n",
      "   macro avg       0.66      0.74      0.64      2625\n",
      "weighted avg       0.82      0.67      0.70      2625\n",
      "\n",
      "Test Report\n",
      "              precision    recall  f1-score   support\n",
      "\n",
      "           0       0.90      0.59      0.72       528\n",
      "           1       0.31      0.74      0.44       129\n",
      "\n",
      "    accuracy                           0.62       657\n",
      "   macro avg       0.61      0.67      0.58       657\n",
      "weighted avg       0.79      0.62      0.66       657\n",
      "\n"
     ]
    },
    {
     "name": "stderr",
     "output_type": "stream",
     "text": [
      "/Users/architkaila/opt/anaconda3/envs/aipi520/lib/python3.8/site-packages/sklearn/utils/deprecation.py:87: FutureWarning: Function get_feature_names is deprecated; get_feature_names is deprecated in 1.0 and will be removed in 1.2. Please use get_feature_names_out instead.\n",
      "  warnings.warn(msg, category=FutureWarning)\n",
      "/Users/architkaila/opt/anaconda3/envs/aipi520/lib/python3.8/site-packages/sklearn/utils/deprecation.py:87: FutureWarning: Function get_feature_names is deprecated; get_feature_names is deprecated in 1.0 and will be removed in 1.2. Please use get_feature_names_out instead.\n",
      "  warnings.warn(msg, category=FutureWarning)\n"
     ]
    },
    {
     "name": "stdout",
     "output_type": "stream",
     "text": [
      "Train Report: CARATOÍRA\n",
      "              precision    recall  f1-score   support\n",
      "\n",
      "           0       0.95      0.59      0.73      1530\n",
      "           1       0.40      0.89      0.55       461\n",
      "\n",
      "    accuracy                           0.66      1991\n",
      "   macro avg       0.67      0.74      0.64      1991\n",
      "weighted avg       0.82      0.66      0.68      1991\n",
      "\n",
      "Test Report\n",
      "              precision    recall  f1-score   support\n",
      "\n",
      "           0       0.92      0.64      0.75       373\n",
      "           1       0.43      0.83      0.57       125\n",
      "\n",
      "    accuracy                           0.68       498\n",
      "   macro avg       0.68      0.73      0.66       498\n",
      "weighted avg       0.80      0.68      0.71       498\n",
      "\n"
     ]
    },
    {
     "name": "stderr",
     "output_type": "stream",
     "text": [
      "/Users/architkaila/opt/anaconda3/envs/aipi520/lib/python3.8/site-packages/sklearn/utils/deprecation.py:87: FutureWarning: Function get_feature_names is deprecated; get_feature_names is deprecated in 1.0 and will be removed in 1.2. Please use get_feature_names_out instead.\n",
      "  warnings.warn(msg, category=FutureWarning)\n",
      "/Users/architkaila/opt/anaconda3/envs/aipi520/lib/python3.8/site-packages/sklearn/utils/deprecation.py:87: FutureWarning: Function get_feature_names is deprecated; get_feature_names is deprecated in 1.0 and will be removed in 1.2. Please use get_feature_names_out instead.\n",
      "  warnings.warn(msg, category=FutureWarning)\n"
     ]
    },
    {
     "name": "stdout",
     "output_type": "stream",
     "text": [
      "Train Report: JESUS DE NAZARETH\n",
      "              precision    recall  f1-score   support\n",
      "\n",
      "           0       0.96      0.60      0.74      1633\n",
      "           1       0.43      0.93      0.59       542\n",
      "\n",
      "    accuracy                           0.68      2175\n",
      "   macro avg       0.70      0.76      0.67      2175\n",
      "weighted avg       0.83      0.68      0.70      2175\n",
      "\n",
      "Test Report\n",
      "              precision    recall  f1-score   support\n",
      "\n",
      "           0       0.93      0.58      0.71       410\n",
      "           1       0.40      0.87      0.55       134\n",
      "\n",
      "    accuracy                           0.65       544\n",
      "   macro avg       0.66      0.72      0.63       544\n",
      "weighted avg       0.80      0.65      0.67       544\n",
      "\n"
     ]
    },
    {
     "name": "stderr",
     "output_type": "stream",
     "text": [
      "/Users/architkaila/opt/anaconda3/envs/aipi520/lib/python3.8/site-packages/sklearn/utils/deprecation.py:87: FutureWarning: Function get_feature_names is deprecated; get_feature_names is deprecated in 1.0 and will be removed in 1.2. Please use get_feature_names_out instead.\n",
      "  warnings.warn(msg, category=FutureWarning)\n",
      "/Users/architkaila/opt/anaconda3/envs/aipi520/lib/python3.8/site-packages/sklearn/utils/deprecation.py:87: FutureWarning: Function get_feature_names is deprecated; get_feature_names is deprecated in 1.0 and will be removed in 1.2. Please use get_feature_names_out instead.\n",
      "  warnings.warn(msg, category=FutureWarning)\n"
     ]
    },
    {
     "name": "stdout",
     "output_type": "stream",
     "text": [
      "Train Report: ILHA DO PRÍNCIPE\n",
      "              precision    recall  f1-score   support\n",
      "\n",
      "           0       0.96      0.58      0.72      1354\n",
      "           1       0.41      0.91      0.56       423\n",
      "\n",
      "    accuracy                           0.66      1777\n",
      "   macro avg       0.68      0.75      0.64      1777\n",
      "weighted avg       0.82      0.66      0.68      1777\n",
      "\n",
      "Test Report\n",
      "              precision    recall  f1-score   support\n",
      "\n",
      "           0       0.92      0.57      0.70       343\n",
      "           1       0.36      0.83      0.51       102\n",
      "\n",
      "    accuracy                           0.63       445\n",
      "   macro avg       0.64      0.70      0.61       445\n",
      "weighted avg       0.79      0.63      0.66       445\n",
      "\n"
     ]
    },
    {
     "name": "stderr",
     "output_type": "stream",
     "text": [
      "/Users/architkaila/opt/anaconda3/envs/aipi520/lib/python3.8/site-packages/sklearn/utils/deprecation.py:87: FutureWarning: Function get_feature_names is deprecated; get_feature_names is deprecated in 1.0 and will be removed in 1.2. Please use get_feature_names_out instead.\n",
      "  warnings.warn(msg, category=FutureWarning)\n",
      "/Users/architkaila/opt/anaconda3/envs/aipi520/lib/python3.8/site-packages/sklearn/utils/deprecation.py:87: FutureWarning: Function get_feature_names is deprecated; get_feature_names is deprecated in 1.0 and will be removed in 1.2. Please use get_feature_names_out instead.\n",
      "  warnings.warn(msg, category=FutureWarning)\n"
     ]
    },
    {
     "name": "stdout",
     "output_type": "stream",
     "text": [
      "Train Report: ROMÃO\n",
      "              precision    recall  f1-score   support\n",
      "\n",
      "           0       0.95      0.48      0.63      1329\n",
      "           1       0.33      0.91      0.48       371\n",
      "\n",
      "    accuracy                           0.57      1700\n",
      "   macro avg       0.64      0.69      0.56      1700\n",
      "weighted avg       0.81      0.57      0.60      1700\n",
      "\n",
      "Test Report\n",
      "              precision    recall  f1-score   support\n",
      "\n",
      "           0       0.94      0.46      0.62       331\n",
      "           1       0.32      0.91      0.48        95\n",
      "\n",
      "    accuracy                           0.56       426\n",
      "   macro avg       0.63      0.68      0.55       426\n",
      "weighted avg       0.81      0.56      0.58       426\n",
      "\n"
     ]
    }
   ],
   "source": [
    "## Create one model for each neighbourhood\n",
    "\n",
    "for key, datafr in data.items():\n",
    "    # Splitting dataset into test and train\n",
    "    X_train, X_test, y_train, y_test = train_test_split(datafr.drop(columns=[\"no_show\"]), datafr[\"no_show\"], random_state=0,test_size=0.2)\n",
    "\n",
    "    ## Ordinal encoder for features\n",
    "    enc = OrdinalEncoder(handle_unknown='use_encoded_value', unknown_value=-1)\n",
    "\n",
    "    ## Fit encoder on train and apply to test data as well\n",
    "    X_train[[\"gender\"]] = enc.fit_transform(X_train[[\"gender\"]])\n",
    "    X_test[[\"gender\"]] = enc.transform(X_test[[\"gender\"]])\n",
    "\n",
    "    ## One hot encode the train data\n",
    "    cols = [\"appointment_day_of_week\"]\n",
    "    X_train, onehot_enc = onehot_encode(X_train, cols)\n",
    "\n",
    "    # Apply onehot encoder to test data\n",
    "    colnames = columns=list(onehot_enc.get_feature_names(input_features=cols))\n",
    "    onehot_vals = onehot_enc.transform(X_test[cols]).toarray()\n",
    "\n",
    "    # Put transformed data into dataframe\n",
    "    enc_df = pd.DataFrame(onehot_vals,columns=colnames,index=X_test.index)\n",
    "    # Add onehot columns back onto original dataframe and drop the original columns\n",
    "    X_test = pd.concat([X_test,enc_df],axis=1).drop(cols, axis=1)\n",
    "\n",
    "    # Create the parameter grid based on the results of random search \n",
    "    param_grid = {\n",
    "        'max_depth' : [3,4,5,6],\n",
    "        'min_samples_leaf': [2, 3, 4, 5],\n",
    "        'n_estimators': [25, 50, 75],\n",
    "        'random_state':[0],\n",
    "        'criterion' :['gini', 'entropy'],\n",
    "        'class_weight': [{1:4}]\n",
    "    }\n",
    "\n",
    "    # Create a based model\n",
    "    rf = RandomForestClassifier()\n",
    "    # Instantiate the grid search model\n",
    "    grid_search = GridSearchCV(estimator = rf, param_grid = param_grid, \n",
    "                                cv = 3, n_jobs = -1, verbose = 0, scoring='precision')\n",
    "\n",
    "    # Fit the grid search to the data\n",
    "    grid_search.fit(X_train, y_train)\n",
    "\n",
    "    ## Train the best model\n",
    "    best_model = grid_search.best_estimator_\n",
    "    best_model.fit(X_train, y_train)\n",
    "\n",
    "    ## Classsification report\n",
    "    y_pred_train = best_model.predict(X_train)\n",
    "    print(f\"Train Report: {key}\")\n",
    "    print(classification_report(y_train, y_pred_train))\n",
    "    y_pred_test = best_model.predict(X_test)\n",
    "    print(\"Test Report\")\n",
    "    print(classification_report(y_test, y_pred_test))\n"
   ]
  }
 ],
 "metadata": {
  "kernelspec": {
   "display_name": "Python 3.8.0 ('aipi520')",
   "language": "python",
   "name": "python3"
  },
  "language_info": {
   "codemirror_mode": {
    "name": "ipython",
    "version": 3
   },
   "file_extension": ".py",
   "mimetype": "text/x-python",
   "name": "python",
   "nbconvert_exporter": "python",
   "pygments_lexer": "ipython3",
   "version": "3.8.0"
  },
  "vscode": {
   "interpreter": {
    "hash": "3a98011f62da9e999c9454d2aade72bbc7f019edac84829526fe29fa43abb9ce"
   }
  }
 },
 "nbformat": 4,
 "nbformat_minor": 0
}
