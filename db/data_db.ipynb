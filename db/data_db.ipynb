{
 "cells": [
  {
   "cell_type": "code",
   "execution_count": 52,
   "metadata": {},
   "outputs": [],
   "source": [
    "import os \n",
    "import glob\n",
    "import pandas as pd\n",
    "from pathlib import Path\n",
    "import sqlite3 "
   ]
  },
  {
   "cell_type": "code",
   "execution_count": 57,
   "metadata": {},
   "outputs": [],
   "source": [
    "directory ='dataDB'\n",
    "c= Path()\n",
    "folder_path = c/directory\n",
    "if not os.path.exists(folder_path):\n",
    "    os.mkdir(folder_path)"
   ]
  },
  {
   "cell_type": "code",
   "execution_count": 59,
   "metadata": {},
   "outputs": [
    {
     "name": "stdout",
     "output_type": "stream",
     "text": [
      "['data/rating_processed.csv', 'data/raw_clinic_data.csv', 'data/locations.csv', 'data/weather.csv', 'data/final_data_for_modelling.csv']\n"
     ]
    }
   ],
   "source": [
    "files_name = r'data/*'\n",
    "print(glob.glob(files_name))\n",
    "for file in glob.glob(files_name) :\n",
    "   # file  = pd.read_csv(file)\n",
    "    file_csv_name = file.split('/')[1]\n",
    "    file_name = file_csv_name.split('.')[0]\n",
    "    conn = sqlite3.connect('dataDB/{}.db'.format(file_name))\n",
    "    c = conn.cursor()\n",
    "    df = pd.read_csv(file)\n",
    "    df.to_sql(file_name,conn,index =False)\n"
   ]
  },
  {
   "cell_type": "code",
   "execution_count": 55,
   "metadata": {},
   "outputs": [],
   "source": [
    "conn = sqlite3.connect('dataDB/weather.db')\n",
    "c = conn.cursor()\n",
    "df = pd.read_sql_query(\"SELECT * FROM weather\", conn)\n"
   ]
  }
 ],
 "metadata": {
  "kernelspec": {
   "display_name": "Python 3.7.4 64-bit",
   "language": "python",
   "name": "python3"
  },
  "language_info": {
   "codemirror_mode": {
    "name": "ipython",
    "version": 3
   },
   "file_extension": ".py",
   "mimetype": "text/x-python",
   "name": "python",
   "nbconvert_exporter": "python",
   "pygments_lexer": "ipython3",
   "version": "3.7.4"
  },
  "orig_nbformat": 4,
  "vscode": {
   "interpreter": {
    "hash": "aee8b7b246df8f9039afb4144a1f6fd8d2ca17a180786b69acc140d282b71a49"
   }
  }
 },
 "nbformat": 4,
 "nbformat_minor": 2
}
