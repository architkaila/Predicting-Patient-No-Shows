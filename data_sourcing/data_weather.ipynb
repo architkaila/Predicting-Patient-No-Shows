{
 "cells": [
  {
   "cell_type": "markdown",
   "metadata": {},
   "source": [
    "## Weather Data Sourcing"
   ]
  },
  {
   "cell_type": "code",
   "execution_count": null,
   "metadata": {},
   "outputs": [],
   "source": [
    "## Library imports\n",
    "import pandas as pd\n",
    "import requests"
   ]
  },
  {
   "cell_type": "code",
   "execution_count": null,
   "metadata": {},
   "outputs": [],
   "source": [
    "## We have used - https://www.visualcrossing.com to gt weather data\n",
    "\n",
    "## API keys\n",
    "weatherkey=''\n",
    "googlekey=''\n",
    "\n",
    "locations_data = pd.read_csv(\"../data/locations.csv\")"
   ]
  },
  {
   "cell_type": "code",
   "execution_count": null,
   "metadata": {},
   "outputs": [],
   "source": [
    "## Use API to get weather information and save data to disk\n",
    "total=pd.DataFrame()\n",
    "\n",
    "for index, row in locations_data.iterrows():\n",
    "\n",
    "    ## get lat and long information\n",
    "    lat=row['lat']\n",
    "    log=row['lon']\n",
    "\n",
    "    ## Fetch weather\n",
    "    r = requests.get(\n",
    "    f'https://weather.visualcrossing.com/VisualCrossingWebServices/rest/services/timeline/{lat},{log}/2016-04-27/2016-06-08?key={weatherkey}&include=days')\n",
    "    data = r.json()\n",
    "    \n",
    "    def dataChange(x):\n",
    "        x['lat'] = row['lat']\n",
    "        x['log'] = row['lon']\n",
    "        x['Neighbourhood'] = row['locations']\n",
    "        return x\n",
    "    \n",
    "    df = pd.DataFrame.from_dict(map(dataChange, data['days']))\n",
    "    \n",
    "    ## Add weather infomation \n",
    "    total = pd.concat([total,df], axis=0)\n",
    "\n",
    "## Save weather data\n",
    "total.to_csv(\"../data/weather.csv\")"
   ]
  }
 ],
 "metadata": {
  "kernelspec": {
   "display_name": "Python 3.9.6 64-bit",
   "language": "python",
   "name": "python3"
  },
  "language_info": {
   "codemirror_mode": {
    "name": "ipython",
    "version": 2
   },
   "file_extension": ".py",
   "mimetype": "text/x-python",
   "name": "python",
   "nbconvert_exporter": "python",
   "pygments_lexer": "ipython2",
   "version": "3.9.6"
  },
  "vscode": {
   "interpreter": {
    "hash": "31f2aee4e71d21fbe5cf8b01ff0e069b9275f58929596ceb00d14d90e3e16cd6"
   }
  }
 },
 "nbformat": 4,
 "nbformat_minor": 0
}
