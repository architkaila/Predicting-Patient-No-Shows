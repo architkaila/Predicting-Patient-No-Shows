{
 "cells": [
  {
   "cell_type": "markdown",
   "metadata": {},
   "source": [
    "## Hospitals Ratings Data Sourcing"
   ]
  },
  {
   "cell_type": "code",
   "execution_count": null,
   "metadata": {},
   "outputs": [],
   "source": [
    "## Library imports\n",
    "import pandas as pd\n",
    "import requests\n",
    "import numpy as np"
   ]
  },
  {
   "cell_type": "code",
   "execution_count": null,
   "metadata": {},
   "outputs": [],
   "source": [
    "## We have used Google maps places API to fetch the ratings of hospitals in a neighbourhood"
   ]
  },
  {
   "cell_type": "code",
   "execution_count": null,
   "metadata": {},
   "outputs": [],
   "source": [
    "## Get location data\n",
    "locations_data = pd.read_csv(\"../data/locations.csv\")\n",
    "locations_data = locations_data[['lat','lon']]"
   ]
  },
  {
   "cell_type": "code",
   "execution_count": null,
   "metadata": {},
   "outputs": [],
   "source": [
    "## Use API to get average hospital ratings in a neighbourhood\n",
    "total=pd.DataFrame()\n",
    "\n",
    "for index, row in locations_data.iterrows():\n",
    "\n",
    "    ## get lat and long information\n",
    "    lat=row['lat']\n",
    "    log=row['lon']\n",
    "    \n",
    "    ## Set radius of neighbourhood\n",
    "    radius=300\n",
    "\n",
    "    ## Use google maps places api\n",
    "    r = requests.get(\n",
    "    f'https://maps.googleapis.com/maps/api/place/nearbysearch/json?keyword=&location={lat},{log}&radius={radius}&type=hospital&key={googlekey}')\n",
    "    data = r.json()\n",
    "    \n",
    "    while len(data['results'])==0 and radius<1500:\n",
    "        radius=radius+200\n",
    "        r = requests.get(\n",
    "    f'https://maps.googleapis.com/maps/api/place/nearbysearch/json?keyword=&location={lat},{log}&radius={radius}&type=hospital&key={googlekey}')\n",
    "        data = r.json()\n",
    "\n",
    "    df = pd.DataFrame.from_dict( data['results'])\n",
    "    df['lat']=lat\n",
    "    df['lon']=log\n",
    "\n",
    "    print(lat,log,len(data['results']))\n",
    "    total = pd.concat([total,df], axis=0)\n",
    "\n",
    "## Save ratings data\n",
    "total.to_csv(\"../data/rating.csv\")"
   ]
  },
  {
   "cell_type": "code",
   "execution_count": null,
   "metadata": {},
   "outputs": [],
   "source": [
    "## Process the ratings data\n",
    "df = total.copy()\n",
    "df = df.groupby(['lat', 'lon'])['rating'].mean()\n",
    "\n",
    "df.to_csv(\"../data/rating_processed.csv\")"
   ]
  }
 ],
 "metadata": {
  "kernelspec": {
   "display_name": "Python 3.9.6 64-bit",
   "language": "python",
   "name": "python3"
  },
  "language_info": {
   "name": "python",
   "version": "3.9.6"
  },
  "orig_nbformat": 4,
  "vscode": {
   "interpreter": {
    "hash": "31f2aee4e71d21fbe5cf8b01ff0e069b9275f58929596ceb00d14d90e3e16cd6"
   }
  }
 },
 "nbformat": 4,
 "nbformat_minor": 2
}
