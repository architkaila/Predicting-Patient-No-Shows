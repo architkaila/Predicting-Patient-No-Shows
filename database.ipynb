{
 "cells": [
  {
   "cell_type": "markdown",
   "metadata": {},
   "source": [
    "## Create Database for our project"
   ]
  },
  {
   "cell_type": "code",
   "execution_count": 44,
   "metadata": {},
   "outputs": [],
   "source": [
    "## Library Imports\n",
    "import os \n",
    "import pandas as pd\n",
    "from pathlib import Path\n",
    "import sqlite3 "
   ]
  },
  {
   "cell_type": "code",
   "execution_count": 45,
   "metadata": {},
   "outputs": [],
   "source": [
    "## Get directory and path\n",
    "directory = 'data'\n",
    "c = Path()\n",
    "folder_path = c/directory\n",
    "\n",
    "## create directory if doesnt exist\n",
    "if not os.path.exists(folder_path):\n",
    "    os.mkdir(folder_path)"
   ]
  },
  {
   "cell_type": "code",
   "execution_count": 46,
   "metadata": {},
   "outputs": [],
   "source": [
    "## Create a Database\n",
    "conn = sqlite3.connect('data/database.db')"
   ]
  },
  {
   "cell_type": "code",
   "execution_count": 47,
   "metadata": {},
   "outputs": [],
   "source": [
    "def add_table(conn, data, table_name):\n",
    "    \"\"\"\n",
    "    Funtion to add dataframe to sql databse\n",
    "\n",
    "    Args:\n",
    "    conn -> database connector\n",
    "    data -> path of dataframe to insert into the db\n",
    "    tabel_name -> name of the table in the database\n",
    "\n",
    "    \"\"\"\n",
    "\n",
    "    ## Read the dataframe\n",
    "    df = pd.read_csv(data)\n",
    "\n",
    "\n",
    "    ## Insert into database\n",
    "    df.to_sql(table_name, conn, index=False,if_exists='replace')\n",
    "\n",
    "    print(f'{table_name} table has been created!')\n"
   ]
  },
  {
   "cell_type": "code",
   "execution_count": 48,
   "metadata": {},
   "outputs": [
    {
     "name": "stdout",
     "output_type": "stream",
     "text": [
      "patient_appointments table has been created!\n"
     ]
    },
    {
     "data": {
      "text/plain": "      PatientId  AppointmentID Gender          ScheduledDay  \\\n0  2.987250e+13        5642903      F  2016-04-29T18:38:08Z   \n1  5.589978e+14        5642503      M  2016-04-29T16:08:27Z   \n2  4.262962e+12        5642549      F  2016-04-29T16:19:04Z   \n3  8.679512e+11        5642828      F  2016-04-29T17:29:31Z   \n4  8.841186e+12        5642494      F  2016-04-29T16:07:23Z   \n\n         AppointmentDay  Age      Neighbourhood  Scholarship  Hipertension  \\\n0  2016-04-29T00:00:00Z   62    JARDIM DA PENHA            0             1   \n1  2016-04-29T00:00:00Z   56    JARDIM DA PENHA            0             0   \n2  2016-04-29T00:00:00Z   62      MATA DA PRAIA            0             0   \n3  2016-04-29T00:00:00Z    8  PONTAL DE CAMBURI            0             0   \n4  2016-04-29T00:00:00Z   56    JARDIM DA PENHA            0             1   \n\n   Diabetes  Alcoholism  Handcap  SMS_received No-show  \n0         0           0        0             0      No  \n1         0           0        0             0      No  \n2         0           0        0             0      No  \n3         0           0        0             0      No  \n4         1           0        0             0      No  ",
      "text/html": "<div>\n<style scoped>\n    .dataframe tbody tr th:only-of-type {\n        vertical-align: middle;\n    }\n\n    .dataframe tbody tr th {\n        vertical-align: top;\n    }\n\n    .dataframe thead th {\n        text-align: right;\n    }\n</style>\n<table border=\"1\" class=\"dataframe\">\n  <thead>\n    <tr style=\"text-align: right;\">\n      <th></th>\n      <th>PatientId</th>\n      <th>AppointmentID</th>\n      <th>Gender</th>\n      <th>ScheduledDay</th>\n      <th>AppointmentDay</th>\n      <th>Age</th>\n      <th>Neighbourhood</th>\n      <th>Scholarship</th>\n      <th>Hipertension</th>\n      <th>Diabetes</th>\n      <th>Alcoholism</th>\n      <th>Handcap</th>\n      <th>SMS_received</th>\n      <th>No-show</th>\n    </tr>\n  </thead>\n  <tbody>\n    <tr>\n      <th>0</th>\n      <td>2.987250e+13</td>\n      <td>5642903</td>\n      <td>F</td>\n      <td>2016-04-29T18:38:08Z</td>\n      <td>2016-04-29T00:00:00Z</td>\n      <td>62</td>\n      <td>JARDIM DA PENHA</td>\n      <td>0</td>\n      <td>1</td>\n      <td>0</td>\n      <td>0</td>\n      <td>0</td>\n      <td>0</td>\n      <td>No</td>\n    </tr>\n    <tr>\n      <th>1</th>\n      <td>5.589978e+14</td>\n      <td>5642503</td>\n      <td>M</td>\n      <td>2016-04-29T16:08:27Z</td>\n      <td>2016-04-29T00:00:00Z</td>\n      <td>56</td>\n      <td>JARDIM DA PENHA</td>\n      <td>0</td>\n      <td>0</td>\n      <td>0</td>\n      <td>0</td>\n      <td>0</td>\n      <td>0</td>\n      <td>No</td>\n    </tr>\n    <tr>\n      <th>2</th>\n      <td>4.262962e+12</td>\n      <td>5642549</td>\n      <td>F</td>\n      <td>2016-04-29T16:19:04Z</td>\n      <td>2016-04-29T00:00:00Z</td>\n      <td>62</td>\n      <td>MATA DA PRAIA</td>\n      <td>0</td>\n      <td>0</td>\n      <td>0</td>\n      <td>0</td>\n      <td>0</td>\n      <td>0</td>\n      <td>No</td>\n    </tr>\n    <tr>\n      <th>3</th>\n      <td>8.679512e+11</td>\n      <td>5642828</td>\n      <td>F</td>\n      <td>2016-04-29T17:29:31Z</td>\n      <td>2016-04-29T00:00:00Z</td>\n      <td>8</td>\n      <td>PONTAL DE CAMBURI</td>\n      <td>0</td>\n      <td>0</td>\n      <td>0</td>\n      <td>0</td>\n      <td>0</td>\n      <td>0</td>\n      <td>No</td>\n    </tr>\n    <tr>\n      <th>4</th>\n      <td>8.841186e+12</td>\n      <td>5642494</td>\n      <td>F</td>\n      <td>2016-04-29T16:07:23Z</td>\n      <td>2016-04-29T00:00:00Z</td>\n      <td>56</td>\n      <td>JARDIM DA PENHA</td>\n      <td>0</td>\n      <td>1</td>\n      <td>1</td>\n      <td>0</td>\n      <td>0</td>\n      <td>0</td>\n      <td>No</td>\n    </tr>\n  </tbody>\n</table>\n</div>"
     },
     "execution_count": 48,
     "metadata": {},
     "output_type": "execute_result"
    }
   ],
   "source": [
    "## Add Primary dataset to DB (Patient Appointments)\n",
    "add_table(conn, './data/raw_clinic_data.csv', \"patient_appointments\")\n",
    "\n",
    "## Check data\n",
    "df = pd.read_sql_query(\"SELECT * FROM patient_appointments\", conn)\n",
    "df.head()"
   ]
  },
  {
   "cell_type": "code",
   "execution_count": 49,
   "metadata": {},
   "outputs": [
    {
     "name": "stdout",
     "output_type": "stream",
     "text": [
      "weather_data table has been created!\n"
     ]
    },
    {
     "data": {
      "text/plain": "     datetime  datetimeEpoch  tempmax  tempmin  temp  feelslikemax  \\\n0  2016-04-27     1461726000     92.8     75.3  82.4          97.0   \n1  2016-04-28     1461812400     80.6     73.4  77.0          83.3   \n2  2016-04-29     1461898800     75.2     71.6  73.3          75.2   \n3  2016-04-30     1461985200     80.6     69.8  75.4          83.9   \n4  2016-05-01     1462071600     77.0     69.8  73.6          77.0   \n\n   feelslikemin  feelslike   dew  humidity  ...  sunsetEpoch  moonphase  \\\n0          75.3       84.7  69.4      66.4  ...   1461788468       0.62   \n1          73.4       77.3  67.4      72.4  ...   1461874831       0.67   \n2          71.6       73.3  65.5      76.6  ...   1461961193       0.72   \n3          69.8       75.8  68.5      79.3  ...   1462047557       0.77   \n4          69.8       73.6  62.1      68.0  ...   1462133922       0.83   \n\n               conditions                                        description  \\\n0                   Clear               Clear conditions throughout the day.   \n1        Partially cloudy                  Partly cloudy throughout the day.   \n2  Rain, Partially cloudy  Partly cloudy throughout the day with afternoo...   \n3        Partially cloudy                  Partly cloudy throughout the day.   \n4                Overcast                   Cloudy skies throughout the day.   \n\n                icon                 stations  source        lat        log  \\\n0          clear-day  ['83649099999', 'SBVT']     obs -20.319947 -40.342711   \n1  partly-cloudy-day  ['83649099999', 'SBVT']     obs -20.319947 -40.342711   \n2               rain  ['83649099999', 'SBVT']     obs -20.319947 -40.342711   \n3  partly-cloudy-day  ['83649099999', 'SBVT']     obs -20.319947 -40.342711   \n4             cloudy  ['83649099999', 'SBVT']     obs -20.319947 -40.342711   \n\n    Neighbourhood  \n0  PARQUE MOSCOSO  \n1  PARQUE MOSCOSO  \n2  PARQUE MOSCOSO  \n3  PARQUE MOSCOSO  \n4  PARQUE MOSCOSO  \n\n[5 rows x 38 columns]",
      "text/html": "<div>\n<style scoped>\n    .dataframe tbody tr th:only-of-type {\n        vertical-align: middle;\n    }\n\n    .dataframe tbody tr th {\n        vertical-align: top;\n    }\n\n    .dataframe thead th {\n        text-align: right;\n    }\n</style>\n<table border=\"1\" class=\"dataframe\">\n  <thead>\n    <tr style=\"text-align: right;\">\n      <th></th>\n      <th>datetime</th>\n      <th>datetimeEpoch</th>\n      <th>tempmax</th>\n      <th>tempmin</th>\n      <th>temp</th>\n      <th>feelslikemax</th>\n      <th>feelslikemin</th>\n      <th>feelslike</th>\n      <th>dew</th>\n      <th>humidity</th>\n      <th>...</th>\n      <th>sunsetEpoch</th>\n      <th>moonphase</th>\n      <th>conditions</th>\n      <th>description</th>\n      <th>icon</th>\n      <th>stations</th>\n      <th>source</th>\n      <th>lat</th>\n      <th>log</th>\n      <th>Neighbourhood</th>\n    </tr>\n  </thead>\n  <tbody>\n    <tr>\n      <th>0</th>\n      <td>2016-04-27</td>\n      <td>1461726000</td>\n      <td>92.8</td>\n      <td>75.3</td>\n      <td>82.4</td>\n      <td>97.0</td>\n      <td>75.3</td>\n      <td>84.7</td>\n      <td>69.4</td>\n      <td>66.4</td>\n      <td>...</td>\n      <td>1461788468</td>\n      <td>0.62</td>\n      <td>Clear</td>\n      <td>Clear conditions throughout the day.</td>\n      <td>clear-day</td>\n      <td>['83649099999', 'SBVT']</td>\n      <td>obs</td>\n      <td>-20.319947</td>\n      <td>-40.342711</td>\n      <td>PARQUE MOSCOSO</td>\n    </tr>\n    <tr>\n      <th>1</th>\n      <td>2016-04-28</td>\n      <td>1461812400</td>\n      <td>80.6</td>\n      <td>73.4</td>\n      <td>77.0</td>\n      <td>83.3</td>\n      <td>73.4</td>\n      <td>77.3</td>\n      <td>67.4</td>\n      <td>72.4</td>\n      <td>...</td>\n      <td>1461874831</td>\n      <td>0.67</td>\n      <td>Partially cloudy</td>\n      <td>Partly cloudy throughout the day.</td>\n      <td>partly-cloudy-day</td>\n      <td>['83649099999', 'SBVT']</td>\n      <td>obs</td>\n      <td>-20.319947</td>\n      <td>-40.342711</td>\n      <td>PARQUE MOSCOSO</td>\n    </tr>\n    <tr>\n      <th>2</th>\n      <td>2016-04-29</td>\n      <td>1461898800</td>\n      <td>75.2</td>\n      <td>71.6</td>\n      <td>73.3</td>\n      <td>75.2</td>\n      <td>71.6</td>\n      <td>73.3</td>\n      <td>65.5</td>\n      <td>76.6</td>\n      <td>...</td>\n      <td>1461961193</td>\n      <td>0.72</td>\n      <td>Rain, Partially cloudy</td>\n      <td>Partly cloudy throughout the day with afternoo...</td>\n      <td>rain</td>\n      <td>['83649099999', 'SBVT']</td>\n      <td>obs</td>\n      <td>-20.319947</td>\n      <td>-40.342711</td>\n      <td>PARQUE MOSCOSO</td>\n    </tr>\n    <tr>\n      <th>3</th>\n      <td>2016-04-30</td>\n      <td>1461985200</td>\n      <td>80.6</td>\n      <td>69.8</td>\n      <td>75.4</td>\n      <td>83.9</td>\n      <td>69.8</td>\n      <td>75.8</td>\n      <td>68.5</td>\n      <td>79.3</td>\n      <td>...</td>\n      <td>1462047557</td>\n      <td>0.77</td>\n      <td>Partially cloudy</td>\n      <td>Partly cloudy throughout the day.</td>\n      <td>partly-cloudy-day</td>\n      <td>['83649099999', 'SBVT']</td>\n      <td>obs</td>\n      <td>-20.319947</td>\n      <td>-40.342711</td>\n      <td>PARQUE MOSCOSO</td>\n    </tr>\n    <tr>\n      <th>4</th>\n      <td>2016-05-01</td>\n      <td>1462071600</td>\n      <td>77.0</td>\n      <td>69.8</td>\n      <td>73.6</td>\n      <td>77.0</td>\n      <td>69.8</td>\n      <td>73.6</td>\n      <td>62.1</td>\n      <td>68.0</td>\n      <td>...</td>\n      <td>1462133922</td>\n      <td>0.83</td>\n      <td>Overcast</td>\n      <td>Cloudy skies throughout the day.</td>\n      <td>cloudy</td>\n      <td>['83649099999', 'SBVT']</td>\n      <td>obs</td>\n      <td>-20.319947</td>\n      <td>-40.342711</td>\n      <td>PARQUE MOSCOSO</td>\n    </tr>\n  </tbody>\n</table>\n<p>5 rows × 38 columns</p>\n</div>"
     },
     "execution_count": 49,
     "metadata": {},
     "output_type": "execute_result"
    }
   ],
   "source": [
    "## Add 2nd dataset to DB (Weather)\n",
    "add_table(conn, './data/weather.csv', \"weather_data\")\n",
    "\n",
    "## Check data\n",
    "df = pd.read_sql_query(\"SELECT * FROM weather_data\", conn)\n",
    "df.head()"
   ]
  },
  {
   "cell_type": "code",
   "execution_count": 50,
   "metadata": {},
   "outputs": [
    {
     "name": "stdout",
     "output_type": "stream",
     "text": [
      "ratings_data table has been created!\n"
     ]
    },
    {
     "data": {
      "text/plain": "         lat        lon  rating\n0 -37.319535 -59.166346    5.00\n1 -27.615773 -48.627649    3.40\n2 -27.451124 -58.986520    3.95\n3 -24.114537 -49.335246    4.90\n4 -23.707410 -47.425232    2.90",
      "text/html": "<div>\n<style scoped>\n    .dataframe tbody tr th:only-of-type {\n        vertical-align: middle;\n    }\n\n    .dataframe tbody tr th {\n        vertical-align: top;\n    }\n\n    .dataframe thead th {\n        text-align: right;\n    }\n</style>\n<table border=\"1\" class=\"dataframe\">\n  <thead>\n    <tr style=\"text-align: right;\">\n      <th></th>\n      <th>lat</th>\n      <th>lon</th>\n      <th>rating</th>\n    </tr>\n  </thead>\n  <tbody>\n    <tr>\n      <th>0</th>\n      <td>-37.319535</td>\n      <td>-59.166346</td>\n      <td>5.00</td>\n    </tr>\n    <tr>\n      <th>1</th>\n      <td>-27.615773</td>\n      <td>-48.627649</td>\n      <td>3.40</td>\n    </tr>\n    <tr>\n      <th>2</th>\n      <td>-27.451124</td>\n      <td>-58.986520</td>\n      <td>3.95</td>\n    </tr>\n    <tr>\n      <th>3</th>\n      <td>-24.114537</td>\n      <td>-49.335246</td>\n      <td>4.90</td>\n    </tr>\n    <tr>\n      <th>4</th>\n      <td>-23.707410</td>\n      <td>-47.425232</td>\n      <td>2.90</td>\n    </tr>\n  </tbody>\n</table>\n</div>"
     },
     "execution_count": 50,
     "metadata": {},
     "output_type": "execute_result"
    }
   ],
   "source": [
    "## Add 3rd dataset to DB (Hospital Ratings)\n",
    "add_table(conn, './data/rating_processed.csv', \"ratings_data\")\n",
    "\n",
    "## Check data\n",
    "df = pd.read_sql_query(\"SELECT * FROM ratings_data\", conn)\n",
    "df.head()"
   ]
  },
  {
   "cell_type": "code",
   "execution_count": 51,
   "metadata": {},
   "outputs": [
    {
     "name": "stdout",
     "output_type": "stream",
     "text": [
      "location_data table has been created!\n"
     ]
    },
    {
     "data": {
      "text/plain": "           locations        lat        lon\n0     PARQUE MOSCOSO -20.319947 -40.342711\n1            MARUÍPE -20.296316 -40.319838\n2     JARDIM CAMBURI -20.259980 -40.267894\n3         BELA VISTA -22.107327 -56.531734\n4  ILHA DAS CAIEIRAS -20.278013 -40.335515",
      "text/html": "<div>\n<style scoped>\n    .dataframe tbody tr th:only-of-type {\n        vertical-align: middle;\n    }\n\n    .dataframe tbody tr th {\n        vertical-align: top;\n    }\n\n    .dataframe thead th {\n        text-align: right;\n    }\n</style>\n<table border=\"1\" class=\"dataframe\">\n  <thead>\n    <tr style=\"text-align: right;\">\n      <th></th>\n      <th>locations</th>\n      <th>lat</th>\n      <th>lon</th>\n    </tr>\n  </thead>\n  <tbody>\n    <tr>\n      <th>0</th>\n      <td>PARQUE MOSCOSO</td>\n      <td>-20.319947</td>\n      <td>-40.342711</td>\n    </tr>\n    <tr>\n      <th>1</th>\n      <td>MARUÍPE</td>\n      <td>-20.296316</td>\n      <td>-40.319838</td>\n    </tr>\n    <tr>\n      <th>2</th>\n      <td>JARDIM CAMBURI</td>\n      <td>-20.259980</td>\n      <td>-40.267894</td>\n    </tr>\n    <tr>\n      <th>3</th>\n      <td>BELA VISTA</td>\n      <td>-22.107327</td>\n      <td>-56.531734</td>\n    </tr>\n    <tr>\n      <th>4</th>\n      <td>ILHA DAS CAIEIRAS</td>\n      <td>-20.278013</td>\n      <td>-40.335515</td>\n    </tr>\n  </tbody>\n</table>\n</div>"
     },
     "execution_count": 51,
     "metadata": {},
     "output_type": "execute_result"
    }
   ],
   "source": [
    "## Add locations mapping to DB\n",
    "add_table(conn, './data/locations.csv', \"location_data\")\n",
    "\n",
    "## Check data\n",
    "df = pd.read_sql_query(\"SELECT * FROM location_data\", conn)\n",
    "df.head()"
   ]
  },
  {
   "cell_type": "code",
   "execution_count": 51,
   "metadata": {},
   "outputs": [],
   "source": []
  }
 ],
 "metadata": {
  "kernelspec": {
   "display_name": "Python 3.8.13 ('aipi510')",
   "language": "python",
   "name": "python3"
  },
  "language_info": {
   "codemirror_mode": {
    "name": "ipython",
    "version": 3
   },
   "file_extension": ".py",
   "mimetype": "text/x-python",
   "name": "python",
   "nbconvert_exporter": "python",
   "pygments_lexer": "ipython3",
   "version": "3.8.13"
  },
  "orig_nbformat": 4,
  "vscode": {
   "interpreter": {
    "hash": "0aca5b2bbc7f02a2353b7e8245a3cada8f9d463cd1c9d1ed2b99c75c98514afd"
   }
  }
 },
 "nbformat": 4,
 "nbformat_minor": 2
}
