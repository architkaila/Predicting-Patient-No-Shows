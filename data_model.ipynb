{
 "cells": [
  {
   "cell_type": "code",
   "execution_count": 7,
   "metadata": {
    "collapsed": true
   },
   "outputs": [],
   "source": [
    "import numpy as np\n",
    "import pandas as pd\n",
    "from sklearn.ensemble import RandomForestClassifier\n",
    "from sklearn.metrics import accuracy_score\n",
    "from sklearn.model_selection import train_test_split"
   ]
  },
  {
   "cell_type": "code",
   "execution_count": 8,
   "outputs": [
    {
     "data": {
      "text/plain": "  gender  age      neighbourhood  scholarship  hypertension  diabetes  \\\n0      F   62    JARDIM DA PENHA            0             1         0   \n1      M   56    JARDIM DA PENHA            0             0         0   \n2      F   62      MATA DA PRAIA            0             0         0   \n3      F    8  PONTAL DE CAMBURI            0             0         0   \n4      F   56    JARDIM DA PENHA            0             1         1   \n\n   alcoholism  handicap  sms_received  showed  ...  appointment_day_of_week  \\\n0           0         0             0       1  ...                   Friday   \n1           0         0             0       1  ...                   Friday   \n2           0         0             0       1  ...                   Friday   \n3           0         0             0       1  ...                   Friday   \n4           0         0             0       1  ...                   Friday   \n\n  tempmax  temp  feelslikemax  feelslike  humidity  windspeed  solarradiation  \\\n0    75.2  73.3          75.2       73.3      76.7       16.1            52.9   \n1    75.2  73.3          75.2       73.3      76.7       16.1            52.9   \n2    75.2  73.3          75.2       73.3      76.7       16.1            52.9   \n3    75.2  73.3          75.2       73.3      76.7       16.1            52.9   \n4    75.2  73.3          75.2       73.3      76.7       16.1            52.9   \n\n   solarenergy  uvindex  \n0          4.3      2.0  \n1          4.3      2.0  \n2          4.3      2.0  \n3          4.3      2.0  \n4          4.3      2.0  \n\n[5 rows x 22 columns]",
      "text/html": "<div>\n<style scoped>\n    .dataframe tbody tr th:only-of-type {\n        vertical-align: middle;\n    }\n\n    .dataframe tbody tr th {\n        vertical-align: top;\n    }\n\n    .dataframe thead th {\n        text-align: right;\n    }\n</style>\n<table border=\"1\" class=\"dataframe\">\n  <thead>\n    <tr style=\"text-align: right;\">\n      <th></th>\n      <th>gender</th>\n      <th>age</th>\n      <th>neighbourhood</th>\n      <th>scholarship</th>\n      <th>hypertension</th>\n      <th>diabetes</th>\n      <th>alcoholism</th>\n      <th>handicap</th>\n      <th>sms_received</th>\n      <th>showed</th>\n      <th>...</th>\n      <th>appointment_day_of_week</th>\n      <th>tempmax</th>\n      <th>temp</th>\n      <th>feelslikemax</th>\n      <th>feelslike</th>\n      <th>humidity</th>\n      <th>windspeed</th>\n      <th>solarradiation</th>\n      <th>solarenergy</th>\n      <th>uvindex</th>\n    </tr>\n  </thead>\n  <tbody>\n    <tr>\n      <th>0</th>\n      <td>F</td>\n      <td>62</td>\n      <td>JARDIM DA PENHA</td>\n      <td>0</td>\n      <td>1</td>\n      <td>0</td>\n      <td>0</td>\n      <td>0</td>\n      <td>0</td>\n      <td>1</td>\n      <td>...</td>\n      <td>Friday</td>\n      <td>75.2</td>\n      <td>73.3</td>\n      <td>75.2</td>\n      <td>73.3</td>\n      <td>76.7</td>\n      <td>16.1</td>\n      <td>52.9</td>\n      <td>4.3</td>\n      <td>2.0</td>\n    </tr>\n    <tr>\n      <th>1</th>\n      <td>M</td>\n      <td>56</td>\n      <td>JARDIM DA PENHA</td>\n      <td>0</td>\n      <td>0</td>\n      <td>0</td>\n      <td>0</td>\n      <td>0</td>\n      <td>0</td>\n      <td>1</td>\n      <td>...</td>\n      <td>Friday</td>\n      <td>75.2</td>\n      <td>73.3</td>\n      <td>75.2</td>\n      <td>73.3</td>\n      <td>76.7</td>\n      <td>16.1</td>\n      <td>52.9</td>\n      <td>4.3</td>\n      <td>2.0</td>\n    </tr>\n    <tr>\n      <th>2</th>\n      <td>F</td>\n      <td>62</td>\n      <td>MATA DA PRAIA</td>\n      <td>0</td>\n      <td>0</td>\n      <td>0</td>\n      <td>0</td>\n      <td>0</td>\n      <td>0</td>\n      <td>1</td>\n      <td>...</td>\n      <td>Friday</td>\n      <td>75.2</td>\n      <td>73.3</td>\n      <td>75.2</td>\n      <td>73.3</td>\n      <td>76.7</td>\n      <td>16.1</td>\n      <td>52.9</td>\n      <td>4.3</td>\n      <td>2.0</td>\n    </tr>\n    <tr>\n      <th>3</th>\n      <td>F</td>\n      <td>8</td>\n      <td>PONTAL DE CAMBURI</td>\n      <td>0</td>\n      <td>0</td>\n      <td>0</td>\n      <td>0</td>\n      <td>0</td>\n      <td>0</td>\n      <td>1</td>\n      <td>...</td>\n      <td>Friday</td>\n      <td>75.2</td>\n      <td>73.3</td>\n      <td>75.2</td>\n      <td>73.3</td>\n      <td>76.7</td>\n      <td>16.1</td>\n      <td>52.9</td>\n      <td>4.3</td>\n      <td>2.0</td>\n    </tr>\n    <tr>\n      <th>4</th>\n      <td>F</td>\n      <td>56</td>\n      <td>JARDIM DA PENHA</td>\n      <td>0</td>\n      <td>1</td>\n      <td>1</td>\n      <td>0</td>\n      <td>0</td>\n      <td>0</td>\n      <td>1</td>\n      <td>...</td>\n      <td>Friday</td>\n      <td>75.2</td>\n      <td>73.3</td>\n      <td>75.2</td>\n      <td>73.3</td>\n      <td>76.7</td>\n      <td>16.1</td>\n      <td>52.9</td>\n      <td>4.3</td>\n      <td>2.0</td>\n    </tr>\n  </tbody>\n</table>\n<p>5 rows × 22 columns</p>\n</div>"
     },
     "execution_count": 8,
     "metadata": {},
     "output_type": "execute_result"
    }
   ],
   "source": [
    "df=pd.read_csv('final_data_for_modelling.csv')\n",
    "df.head()"
   ],
   "metadata": {
    "collapsed": false
   }
  },
  {
   "cell_type": "code",
   "execution_count": 9,
   "outputs": [],
   "source": [
    "y=df['showed']\n",
    "X=df.drop('showed', axis=1)\n",
    "X=X[['age','scholarship','hypertension','diabetes','alcoholism','handicap','sms_received','days_between_appointment_and_scheduled_day','tempmax','temp','feelslikemax','feelslike','humidity','windspeed','solarradiation','solarenergy','uvindex']]\n",
    "X_train, X_test, y_train, y_test = train_test_split(X, y, test_size=0.2, random_state=0)\n"
   ],
   "metadata": {
    "collapsed": false
   }
  },
  {
   "cell_type": "code",
   "execution_count": 11,
   "outputs": [
    {
     "name": "stdout",
     "output_type": "stream",
     "text": [
      "accuracy for test scores: 0.772341\n"
     ]
    }
   ],
   "source": [
    "model=RandomForestClassifier()\n",
    "model.fit(X_train, y_train)\n",
    "y_pred=model.predict(X_test)\n",
    "\n",
    "print(f'accuracy for test scores: {accuracy_score(y_test,y_pred):3f}')\n"
   ],
   "metadata": {
    "collapsed": false
   }
  }
 ],
 "metadata": {
  "kernelspec": {
   "display_name": "Python 3",
   "language": "python",
   "name": "python3"
  },
  "language_info": {
   "codemirror_mode": {
    "name": "ipython",
    "version": 2
   },
   "file_extension": ".py",
   "mimetype": "text/x-python",
   "name": "python",
   "nbconvert_exporter": "python",
   "pygments_lexer": "ipython2",
   "version": "2.7.6"
  }
 },
 "nbformat": 4,
 "nbformat_minor": 0
}
