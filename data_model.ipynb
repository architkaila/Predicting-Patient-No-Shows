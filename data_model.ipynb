{
 "cells": [
  {
   "cell_type": "code",
   "execution_count": 29,
   "metadata": {
    "collapsed": true
   },
   "outputs": [],
   "source": [
    "import numpy as np\n",
    "import pandas as pd\n",
    "from sklearn.ensemble import RandomForestClassifier\n",
    "from sklearn.metrics import accuracy_score, classification_report\n",
    "from sklearn.model_selection import train_test_split, GridSearchCV\n",
    "from sklearn.preprocessing import OrdinalEncoder\n",
    "from sklearn.preprocessing import StandardScaler, OneHotEncoder"
   ]
  },
  {
   "cell_type": "code",
   "execution_count": 30,
   "metadata": {},
   "outputs": [
    {
     "data": {
      "text/plain": "  gender  age      neighbourhood  scholarship  hypertension  diabetes  \\\n0      F   62    JARDIM DA PENHA            0             1         0   \n1      M   56    JARDIM DA PENHA            0             0         0   \n2      F   62      MATA DA PRAIA            0             0         0   \n3      F    8  PONTAL DE CAMBURI            0             0         0   \n4      F   56    JARDIM DA PENHA            0             1         1   \n\n   alcoholism  handicap  sms_received  showed  ...  tempmax  temp  \\\n0           0         0             0       1  ...     75.2  73.3   \n1           0         0             0       1  ...     75.2  73.3   \n2           0         0             0       1  ...     75.2  73.3   \n3           0         0             0       1  ...     75.2  73.3   \n4           0         0             0       1  ...     75.2  73.3   \n\n  feelslikemax  feelslike  humidity  windspeed  solarradiation  solarenergy  \\\n0         75.2       73.3      76.7       16.1            52.9          4.3   \n1         75.2       73.3      76.7       16.1            52.9          4.3   \n2         75.2       73.3      76.7       16.1            52.9          4.3   \n3         75.2       73.3      76.7       16.1            52.9          4.3   \n4         75.2       73.3      76.7       16.1            52.9          4.3   \n\n   uvindex  rating  \n0      2.0     4.5  \n1      2.0     4.5  \n2      2.0     5.0  \n3      2.0     5.0  \n4      2.0     4.5  \n\n[5 rows x 23 columns]",
      "text/html": "<div>\n<style scoped>\n    .dataframe tbody tr th:only-of-type {\n        vertical-align: middle;\n    }\n\n    .dataframe tbody tr th {\n        vertical-align: top;\n    }\n\n    .dataframe thead th {\n        text-align: right;\n    }\n</style>\n<table border=\"1\" class=\"dataframe\">\n  <thead>\n    <tr style=\"text-align: right;\">\n      <th></th>\n      <th>gender</th>\n      <th>age</th>\n      <th>neighbourhood</th>\n      <th>scholarship</th>\n      <th>hypertension</th>\n      <th>diabetes</th>\n      <th>alcoholism</th>\n      <th>handicap</th>\n      <th>sms_received</th>\n      <th>showed</th>\n      <th>...</th>\n      <th>tempmax</th>\n      <th>temp</th>\n      <th>feelslikemax</th>\n      <th>feelslike</th>\n      <th>humidity</th>\n      <th>windspeed</th>\n      <th>solarradiation</th>\n      <th>solarenergy</th>\n      <th>uvindex</th>\n      <th>rating</th>\n    </tr>\n  </thead>\n  <tbody>\n    <tr>\n      <th>0</th>\n      <td>F</td>\n      <td>62</td>\n      <td>JARDIM DA PENHA</td>\n      <td>0</td>\n      <td>1</td>\n      <td>0</td>\n      <td>0</td>\n      <td>0</td>\n      <td>0</td>\n      <td>1</td>\n      <td>...</td>\n      <td>75.2</td>\n      <td>73.3</td>\n      <td>75.2</td>\n      <td>73.3</td>\n      <td>76.7</td>\n      <td>16.1</td>\n      <td>52.9</td>\n      <td>4.3</td>\n      <td>2.0</td>\n      <td>4.5</td>\n    </tr>\n    <tr>\n      <th>1</th>\n      <td>M</td>\n      <td>56</td>\n      <td>JARDIM DA PENHA</td>\n      <td>0</td>\n      <td>0</td>\n      <td>0</td>\n      <td>0</td>\n      <td>0</td>\n      <td>0</td>\n      <td>1</td>\n      <td>...</td>\n      <td>75.2</td>\n      <td>73.3</td>\n      <td>75.2</td>\n      <td>73.3</td>\n      <td>76.7</td>\n      <td>16.1</td>\n      <td>52.9</td>\n      <td>4.3</td>\n      <td>2.0</td>\n      <td>4.5</td>\n    </tr>\n    <tr>\n      <th>2</th>\n      <td>F</td>\n      <td>62</td>\n      <td>MATA DA PRAIA</td>\n      <td>0</td>\n      <td>0</td>\n      <td>0</td>\n      <td>0</td>\n      <td>0</td>\n      <td>0</td>\n      <td>1</td>\n      <td>...</td>\n      <td>75.2</td>\n      <td>73.3</td>\n      <td>75.2</td>\n      <td>73.3</td>\n      <td>76.7</td>\n      <td>16.1</td>\n      <td>52.9</td>\n      <td>4.3</td>\n      <td>2.0</td>\n      <td>5.0</td>\n    </tr>\n    <tr>\n      <th>3</th>\n      <td>F</td>\n      <td>8</td>\n      <td>PONTAL DE CAMBURI</td>\n      <td>0</td>\n      <td>0</td>\n      <td>0</td>\n      <td>0</td>\n      <td>0</td>\n      <td>0</td>\n      <td>1</td>\n      <td>...</td>\n      <td>75.2</td>\n      <td>73.3</td>\n      <td>75.2</td>\n      <td>73.3</td>\n      <td>76.7</td>\n      <td>16.1</td>\n      <td>52.9</td>\n      <td>4.3</td>\n      <td>2.0</td>\n      <td>5.0</td>\n    </tr>\n    <tr>\n      <th>4</th>\n      <td>F</td>\n      <td>56</td>\n      <td>JARDIM DA PENHA</td>\n      <td>0</td>\n      <td>1</td>\n      <td>1</td>\n      <td>0</td>\n      <td>0</td>\n      <td>0</td>\n      <td>1</td>\n      <td>...</td>\n      <td>75.2</td>\n      <td>73.3</td>\n      <td>75.2</td>\n      <td>73.3</td>\n      <td>76.7</td>\n      <td>16.1</td>\n      <td>52.9</td>\n      <td>4.3</td>\n      <td>2.0</td>\n      <td>4.5</td>\n    </tr>\n  </tbody>\n</table>\n<p>5 rows × 23 columns</p>\n</div>"
     },
     "execution_count": 30,
     "metadata": {},
     "output_type": "execute_result"
    }
   ],
   "source": [
    "df = pd.read_csv('data/final_data_for_modelling.csv')\n",
    "\n",
    "df.head()"
   ]
  },
  {
   "cell_type": "code",
   "execution_count": 31,
   "metadata": {
    "collapsed": false
   },
   "outputs": [
    {
     "name": "stderr",
     "output_type": "stream",
     "text": [
      "/opt/homebrew/Caskroom/miniconda/base/envs/aipiproject/lib/python3.8/site-packages/sklearn/utils/deprecation.py:87: FutureWarning: Function get_feature_names is deprecated; get_feature_names is deprecated in 1.0 and will be removed in 1.2. Please use get_feature_names_out instead.\n",
      "  warnings.warn(msg, category=FutureWarning)\n"
     ]
    },
    {
     "data": {
      "text/plain": "   appointment_day_of_week_Friday  appointment_day_of_week_Monday  \\\n0                             1.0                             0.0   \n1                             1.0                             0.0   \n2                             1.0                             0.0   \n3                             1.0                             0.0   \n4                             1.0                             0.0   \n\n   appointment_day_of_week_Saturday  appointment_day_of_week_Thursday  \\\n0                               0.0                               0.0   \n1                               0.0                               0.0   \n2                               0.0                               0.0   \n3                               0.0                               0.0   \n4                               0.0                               0.0   \n\n   appointment_day_of_week_Tuesday  appointment_day_of_week_Wednesday  gender  \\\n0                              0.0                                0.0     0.0   \n1                              0.0                                0.0     1.0   \n2                              0.0                                0.0     0.0   \n3                              0.0                                0.0     0.0   \n4                              0.0                                0.0     0.0   \n\n   age      neighbourhood  scholarship  ...  tempmax  temp  feelslikemax  \\\n0   62    JARDIM DA PENHA            0  ...     75.2  73.3          75.2   \n1   56    JARDIM DA PENHA            0  ...     75.2  73.3          75.2   \n2   62      MATA DA PRAIA            0  ...     75.2  73.3          75.2   \n3    8  PONTAL DE CAMBURI            0  ...     75.2  73.3          75.2   \n4   56    JARDIM DA PENHA            0  ...     75.2  73.3          75.2   \n\n   feelslike  humidity  windspeed  solarradiation solarenergy  uvindex  rating  \n0       73.3      76.7       16.1            52.9         4.3      2.0     4.5  \n1       73.3      76.7       16.1            52.9         4.3      2.0     4.5  \n2       73.3      76.7       16.1            52.9         4.3      2.0     5.0  \n3       73.3      76.7       16.1            52.9         4.3      2.0     5.0  \n4       73.3      76.7       16.1            52.9         4.3      2.0     4.5  \n\n[5 rows x 28 columns]",
      "text/html": "<div>\n<style scoped>\n    .dataframe tbody tr th:only-of-type {\n        vertical-align: middle;\n    }\n\n    .dataframe tbody tr th {\n        vertical-align: top;\n    }\n\n    .dataframe thead th {\n        text-align: right;\n    }\n</style>\n<table border=\"1\" class=\"dataframe\">\n  <thead>\n    <tr style=\"text-align: right;\">\n      <th></th>\n      <th>appointment_day_of_week_Friday</th>\n      <th>appointment_day_of_week_Monday</th>\n      <th>appointment_day_of_week_Saturday</th>\n      <th>appointment_day_of_week_Thursday</th>\n      <th>appointment_day_of_week_Tuesday</th>\n      <th>appointment_day_of_week_Wednesday</th>\n      <th>gender</th>\n      <th>age</th>\n      <th>neighbourhood</th>\n      <th>scholarship</th>\n      <th>...</th>\n      <th>tempmax</th>\n      <th>temp</th>\n      <th>feelslikemax</th>\n      <th>feelslike</th>\n      <th>humidity</th>\n      <th>windspeed</th>\n      <th>solarradiation</th>\n      <th>solarenergy</th>\n      <th>uvindex</th>\n      <th>rating</th>\n    </tr>\n  </thead>\n  <tbody>\n    <tr>\n      <th>0</th>\n      <td>1.0</td>\n      <td>0.0</td>\n      <td>0.0</td>\n      <td>0.0</td>\n      <td>0.0</td>\n      <td>0.0</td>\n      <td>0.0</td>\n      <td>62</td>\n      <td>JARDIM DA PENHA</td>\n      <td>0</td>\n      <td>...</td>\n      <td>75.2</td>\n      <td>73.3</td>\n      <td>75.2</td>\n      <td>73.3</td>\n      <td>76.7</td>\n      <td>16.1</td>\n      <td>52.9</td>\n      <td>4.3</td>\n      <td>2.0</td>\n      <td>4.5</td>\n    </tr>\n    <tr>\n      <th>1</th>\n      <td>1.0</td>\n      <td>0.0</td>\n      <td>0.0</td>\n      <td>0.0</td>\n      <td>0.0</td>\n      <td>0.0</td>\n      <td>1.0</td>\n      <td>56</td>\n      <td>JARDIM DA PENHA</td>\n      <td>0</td>\n      <td>...</td>\n      <td>75.2</td>\n      <td>73.3</td>\n      <td>75.2</td>\n      <td>73.3</td>\n      <td>76.7</td>\n      <td>16.1</td>\n      <td>52.9</td>\n      <td>4.3</td>\n      <td>2.0</td>\n      <td>4.5</td>\n    </tr>\n    <tr>\n      <th>2</th>\n      <td>1.0</td>\n      <td>0.0</td>\n      <td>0.0</td>\n      <td>0.0</td>\n      <td>0.0</td>\n      <td>0.0</td>\n      <td>0.0</td>\n      <td>62</td>\n      <td>MATA DA PRAIA</td>\n      <td>0</td>\n      <td>...</td>\n      <td>75.2</td>\n      <td>73.3</td>\n      <td>75.2</td>\n      <td>73.3</td>\n      <td>76.7</td>\n      <td>16.1</td>\n      <td>52.9</td>\n      <td>4.3</td>\n      <td>2.0</td>\n      <td>5.0</td>\n    </tr>\n    <tr>\n      <th>3</th>\n      <td>1.0</td>\n      <td>0.0</td>\n      <td>0.0</td>\n      <td>0.0</td>\n      <td>0.0</td>\n      <td>0.0</td>\n      <td>0.0</td>\n      <td>8</td>\n      <td>PONTAL DE CAMBURI</td>\n      <td>0</td>\n      <td>...</td>\n      <td>75.2</td>\n      <td>73.3</td>\n      <td>75.2</td>\n      <td>73.3</td>\n      <td>76.7</td>\n      <td>16.1</td>\n      <td>52.9</td>\n      <td>4.3</td>\n      <td>2.0</td>\n      <td>5.0</td>\n    </tr>\n    <tr>\n      <th>4</th>\n      <td>1.0</td>\n      <td>0.0</td>\n      <td>0.0</td>\n      <td>0.0</td>\n      <td>0.0</td>\n      <td>0.0</td>\n      <td>0.0</td>\n      <td>56</td>\n      <td>JARDIM DA PENHA</td>\n      <td>0</td>\n      <td>...</td>\n      <td>75.2</td>\n      <td>73.3</td>\n      <td>75.2</td>\n      <td>73.3</td>\n      <td>76.7</td>\n      <td>16.1</td>\n      <td>52.9</td>\n      <td>4.3</td>\n      <td>2.0</td>\n      <td>4.5</td>\n    </tr>\n  </tbody>\n</table>\n<p>5 rows × 28 columns</p>\n</div>"
     },
     "execution_count": 31,
     "metadata": {},
     "output_type": "execute_result"
    }
   ],
   "source": [
    "## Ordinal encoder for features\n",
    "enc = OrdinalEncoder()\n",
    "\n",
    "## One hot encoder for categorical features\n",
    "ohe = OneHotEncoder(sparse=False)\n",
    "\n",
    "enc.fit(df[[\"gender\"]])\n",
    "\n",
    "df[[\"gender\"]] = enc.transform(df[[\"gender\"]])\n",
    "encoded_columns = ohe.fit_transform(df[['appointment_day_of_week']])\n",
    "data_hot_encoded = pd.DataFrame(encoded_columns, index=df.index)\n",
    "data_hot_encoded.columns = ohe.get_feature_names(['appointment_day_of_week'])\n",
    "\n",
    "data_other_cols = df.drop(columns='appointment_day_of_week')\n",
    "\n",
    "#Concatenate the two dataframes :\n",
    "df = pd.concat([data_hot_encoded, data_other_cols], axis=1)\n",
    "\n",
    "df.head()"
   ]
  },
  {
   "cell_type": "code",
   "execution_count": 32,
   "metadata": {
    "collapsed": false
   },
   "outputs": [],
   "source": [
    "y = df['showed']\n",
    "X = df.drop('showed', axis=1)\n",
    "X = X[['gender', 'age', 'scholarship', 'hypertension', 'diabetes', 'alcoholism', 'handicap', 'sms_received',\n",
    "       'days_between_appointment_and_scheduled_day', 'tempmax', 'temp', 'feelslikemax', 'feelslike', 'humidity',\n",
    "       'windspeed', 'solarradiation', 'solarenergy', 'uvindex', 'appointment_day_of_week_Friday',\n",
    "       'appointment_day_of_week_Monday', 'appointment_day_of_week_Tuesday', 'appointment_day_of_week_Wednesday',\n",
    "       'appointment_day_of_week_Thursday', 'appointment_day_of_week_Friday', 'appointment_day_of_week_Saturday',\n",
    "       'rating']]\n",
    "X_train, X_test, y_train, y_test = train_test_split(X, y, test_size=0.2, random_state=0)\n"
   ]
  },
  {
   "cell_type": "code",
   "execution_count": 33,
   "metadata": {
    "collapsed": false
   },
   "outputs": [
    {
     "name": "stdout",
     "output_type": "stream",
     "text": [
      "              precision    recall  f1-score   support\n",
      "\n",
      "           0       0.00      0.00      0.00      4319\n",
      "           1       0.80      1.00      0.89     17077\n",
      "\n",
      "    accuracy                           0.80     21396\n",
      "   macro avg       0.40      0.50      0.44     21396\n",
      "weighted avg       0.64      0.80      0.71     21396\n",
      "\n",
      "{'max_depth': 2, 'n_estimators': 5}\n"
     ]
    },
    {
     "name": "stderr",
     "output_type": "stream",
     "text": [
      "/opt/homebrew/Caskroom/miniconda/base/envs/aipiproject/lib/python3.8/site-packages/sklearn/metrics/_classification.py:1334: UndefinedMetricWarning: Precision and F-score are ill-defined and being set to 0.0 in labels with no predicted samples. Use `zero_division` parameter to control this behavior.\n",
      "  _warn_prf(average, modifier, msg_start, len(result))\n",
      "/opt/homebrew/Caskroom/miniconda/base/envs/aipiproject/lib/python3.8/site-packages/sklearn/metrics/_classification.py:1334: UndefinedMetricWarning: Precision and F-score are ill-defined and being set to 0.0 in labels with no predicted samples. Use `zero_division` parameter to control this behavior.\n",
      "  _warn_prf(average, modifier, msg_start, len(result))\n",
      "/opt/homebrew/Caskroom/miniconda/base/envs/aipiproject/lib/python3.8/site-packages/sklearn/metrics/_classification.py:1334: UndefinedMetricWarning: Precision and F-score are ill-defined and being set to 0.0 in labels with no predicted samples. Use `zero_division` parameter to control this behavior.\n",
      "  _warn_prf(average, modifier, msg_start, len(result))\n"
     ]
    }
   ],
   "source": [
    "\n",
    "clf = RandomForestClassifier()\n",
    "param_grid = {\n",
    "    'n_estimators': [5, 10, 15, 20],\n",
    "    'max_depth': [2, 5, 7, 9]\n",
    "}\n",
    "model = GridSearchCV(clf, param_grid,scoring='recall', cv=10)\n",
    "model.fit(X_train, y_train)\n",
    "# model.fit(X_train, y_train)\n",
    "y_pred = model.predict(X_test)\n",
    "\n",
    "print(classification_report(y_test, y_pred))\n",
    "print(model.best_params_)\n"
   ]
  },
  {
   "cell_type": "code",
   "execution_count": 34,
   "metadata": {},
   "outputs": [],
   "source": [
    "## THings to do for modelling\n",
    "# 1) Optimize model with paraemeter tuning (grid search)\n",
    "# 2) Results - precision, recall (for both classes) f1, AUROC\n",
    "# 3) read data from DB instead of CSV\n"
   ]
  }
 ],
 "metadata": {
  "kernelspec": {
   "display_name": "aipi510",
   "language": "python",
   "name": "aipi510"
  },
  "language_info": {
   "codemirror_mode": {
    "name": "ipython",
    "version": 3
   },
   "file_extension": ".py",
   "mimetype": "text/x-python",
   "name": "python",
   "nbconvert_exporter": "python",
   "pygments_lexer": "ipython3",
   "version": "3.8.13"
  },
  "vscode": {
   "interpreter": {
    "hash": "31f2aee4e71d21fbe5cf8b01ff0e069b9275f58929596ceb00d14d90e3e16cd6"
   }
  }
 },
 "nbformat": 4,
 "nbformat_minor": 0
}
