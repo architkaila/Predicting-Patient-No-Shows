{
 "cells": [
  {
   "cell_type": "code",
   "execution_count": 1,
   "metadata": {
    "collapsed": true
   },
   "outputs": [],
   "source": [
    "import numpy as np\n",
    "import pandas as pd\n",
    "from sklearn.ensemble import RandomForestClassifier\n",
    "from sklearn.metrics import accuracy_score\n",
    "from sklearn.model_selection import train_test_split\n",
    "from sklearn.preprocessing import OrdinalEncoder\n",
    "from sklearn.preprocessing import StandardScaler, OneHotEncoder\n",
    "\n"
   ]
  },
  {
   "cell_type": "code",
   "execution_count": 2,
   "outputs": [
    {
     "name": "stderr",
     "output_type": "stream",
     "text": [
      "/opt/homebrew/Caskroom/miniconda/base/envs/aipi510project/lib/python3.8/site-packages/sklearn/utils/deprecation.py:87: FutureWarning: Function get_feature_names is deprecated; get_feature_names is deprecated in 1.0 and will be removed in 1.2. Please use get_feature_names_out instead.\n",
      "  warnings.warn(msg, category=FutureWarning)\n"
     ]
    }
   ],
   "source": [
    "df=pd.read_csv('final_data_for_modelling.csv')\n",
    "df_locations=pd.read_csv('data/locations.csv')\n",
    "rating_df=pd.read_csv('data/rating_processed.csv')\n",
    "\n",
    "df=df.merge(df_locations,how='left',left_on=['neighbourhood'],right_on=['locations'])\n",
    "df=df.merge(rating_df,how='left',on=['lat','lon'])\n",
    "\n",
    "enc = OrdinalEncoder()\n",
    "ohe    = OneHotEncoder(sparse=False)\n",
    "\n",
    "enc.fit(df[[\"gender\"]])\n",
    "df['rating'].fillna(df['rating'].mode()[0], inplace=True)\n",
    "df[[\"gender\"]] = enc.transform(df[[\"gender\"]])\n",
    "encoded_columns =    ohe.fit_transform(df[['appointment_day_of_week']])\n",
    "data_hot_encoded = pd.DataFrame(encoded_columns, index=df.index)\n",
    "data_hot_encoded.columns = ohe.get_feature_names(['appointment_day_of_week'])\n",
    "\n",
    "data_other_cols = df.drop(columns='appointment_day_of_week')\n",
    "\n",
    "#Concatenate the two dataframes :\n",
    "df = pd.concat([data_hot_encoded, data_other_cols], axis=1)\n",
    "\n",
    "df.head()\n",
    "df.to_csv('test.csv')\n",
    "\n"
   ],
   "metadata": {
    "collapsed": false
   }
  },
  {
   "cell_type": "code",
   "execution_count": 3,
   "outputs": [],
   "source": [
    "y=df['showed']\n",
    "X=df.drop('showed', axis=1)\n",
    "X=X[['gender','age','scholarship','hypertension','diabetes','alcoholism','handicap','sms_received','days_between_appointment_and_scheduled_day','tempmax','temp','feelslikemax','feelslike','humidity','windspeed','solarradiation','solarenergy','uvindex','appointment_day_of_week_Friday','appointment_day_of_week_Monday','appointment_day_of_week_Tuesday','appointment_day_of_week_Wednesday','appointment_day_of_week_Thursday','appointment_day_of_week_Friday','appointment_day_of_week_Saturday','rating']]\n",
    "X_train, X_test, y_train, y_test = train_test_split(X, y, test_size=0.2, random_state=0)\n"
   ],
   "metadata": {
    "collapsed": false
   }
  },
  {
   "cell_type": "code",
   "execution_count": 4,
   "outputs": [
    {
     "name": "stdout",
     "output_type": "stream",
     "text": [
      "accuracy for test scores: 0.784679\n"
     ]
    }
   ],
   "source": [
    "model=RandomForestClassifier()\n",
    "model.fit(X_train, y_train)\n",
    "y_pred=model.predict(X_test)\n",
    "\n",
    "print(f'accuracy for test scores: {accuracy_score(y_test,y_pred):3f}')\n"
   ],
   "metadata": {
    "collapsed": false
   }
  }
 ],
 "metadata": {
  "kernelspec": {
   "display_name": "Python 3",
   "language": "python",
   "name": "python3"
  },
  "language_info": {
   "codemirror_mode": {
    "name": "ipython",
    "version": 2
   },
   "file_extension": ".py",
   "mimetype": "text/x-python",
   "name": "python",
   "nbconvert_exporter": "python",
   "pygments_lexer": "ipython2",
   "version": "2.7.6"
  }
 },
 "nbformat": 4,
 "nbformat_minor": 0
}
