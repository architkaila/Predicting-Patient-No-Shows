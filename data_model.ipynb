{
 "cells": [
  {
   "cell_type": "code",
   "execution_count": 16,
   "metadata": {
    "collapsed": true
   },
   "outputs": [],
   "source": [
    "import numpy as np\n",
    "import pandas as pd\n",
    "from sklearn.ensemble import RandomForestClassifier\n",
    "from sklearn.metrics import accuracy_score\n",
    "from sklearn.model_selection import train_test_split\n",
    "from sklearn.preprocessing import OrdinalEncoder\n",
    "from sklearn.preprocessing import StandardScaler, OneHotEncoder\n",
    "\n"
   ]
  },
  {
   "cell_type": "code",
   "execution_count": 17,
   "outputs": [
    {
     "name": "stdout",
     "output_type": "stream",
     "text": [
      "[[1. 0. 0. 0. 0. 0.]\n",
      " [1. 0. 0. 0. 0. 0.]\n",
      " [1. 0. 0. 0. 0. 0.]\n",
      " ...\n",
      " [0. 0. 0. 0. 1. 0.]\n",
      " [0. 0. 0. 0. 1. 0.]\n",
      " [0. 0. 0. 0. 1. 0.]]\n"
     ]
    },
    {
     "name": "stderr",
     "output_type": "stream",
     "text": [
      "/opt/homebrew/Caskroom/miniconda/base/envs/aipi510project/lib/python3.8/site-packages/sklearn/utils/deprecation.py:87: FutureWarning: Function get_feature_names is deprecated; get_feature_names is deprecated in 1.0 and will be removed in 1.2. Please use get_feature_names_out instead.\n",
      "  warnings.warn(msg, category=FutureWarning)\n"
     ]
    },
    {
     "data": {
      "text/plain": "   appointment_day_of_week_Friday  appointment_day_of_week_Monday  \\\n0                             1.0                             0.0   \n1                             1.0                             0.0   \n2                             1.0                             0.0   \n3                             1.0                             0.0   \n4                             1.0                             0.0   \n\n   appointment_day_of_week_Saturday  appointment_day_of_week_Thursday  \\\n0                               0.0                               0.0   \n1                               0.0                               0.0   \n2                               0.0                               0.0   \n3                               0.0                               0.0   \n4                               0.0                               0.0   \n\n   appointment_day_of_week_Tuesday  appointment_day_of_week_Wednesday  gender  \\\n0                              0.0                                0.0     0.0   \n1                              0.0                                0.0     1.0   \n2                              0.0                                0.0     0.0   \n3                              0.0                                0.0     0.0   \n4                              0.0                                0.0     0.0   \n\n   age      neighbourhood  scholarship  ...  age_group  tempmax  temp  \\\n0   62    JARDIM DA PENHA            0  ...    seniors     75.2  73.3   \n1   56    JARDIM DA PENHA            0  ...     adults     75.2  73.3   \n2   62      MATA DA PRAIA            0  ...    seniors     75.2  73.3   \n3    8  PONTAL DE CAMBURI            0  ...   children     75.2  73.3   \n4   56    JARDIM DA PENHA            0  ...     adults     75.2  73.3   \n\n   feelslikemax  feelslike  humidity  windspeed solarradiation  solarenergy  \\\n0          75.2       73.3      76.7       16.1           52.9          4.3   \n1          75.2       73.3      76.7       16.1           52.9          4.3   \n2          75.2       73.3      76.7       16.1           52.9          4.3   \n3          75.2       73.3      76.7       16.1           52.9          4.3   \n4          75.2       73.3      76.7       16.1           52.9          4.3   \n\n   uvindex  \n0      2.0  \n1      2.0  \n2      2.0  \n3      2.0  \n4      2.0  \n\n[5 rows x 27 columns]",
      "text/html": "<div>\n<style scoped>\n    .dataframe tbody tr th:only-of-type {\n        vertical-align: middle;\n    }\n\n    .dataframe tbody tr th {\n        vertical-align: top;\n    }\n\n    .dataframe thead th {\n        text-align: right;\n    }\n</style>\n<table border=\"1\" class=\"dataframe\">\n  <thead>\n    <tr style=\"text-align: right;\">\n      <th></th>\n      <th>appointment_day_of_week_Friday</th>\n      <th>appointment_day_of_week_Monday</th>\n      <th>appointment_day_of_week_Saturday</th>\n      <th>appointment_day_of_week_Thursday</th>\n      <th>appointment_day_of_week_Tuesday</th>\n      <th>appointment_day_of_week_Wednesday</th>\n      <th>gender</th>\n      <th>age</th>\n      <th>neighbourhood</th>\n      <th>scholarship</th>\n      <th>...</th>\n      <th>age_group</th>\n      <th>tempmax</th>\n      <th>temp</th>\n      <th>feelslikemax</th>\n      <th>feelslike</th>\n      <th>humidity</th>\n      <th>windspeed</th>\n      <th>solarradiation</th>\n      <th>solarenergy</th>\n      <th>uvindex</th>\n    </tr>\n  </thead>\n  <tbody>\n    <tr>\n      <th>0</th>\n      <td>1.0</td>\n      <td>0.0</td>\n      <td>0.0</td>\n      <td>0.0</td>\n      <td>0.0</td>\n      <td>0.0</td>\n      <td>0.0</td>\n      <td>62</td>\n      <td>JARDIM DA PENHA</td>\n      <td>0</td>\n      <td>...</td>\n      <td>seniors</td>\n      <td>75.2</td>\n      <td>73.3</td>\n      <td>75.2</td>\n      <td>73.3</td>\n      <td>76.7</td>\n      <td>16.1</td>\n      <td>52.9</td>\n      <td>4.3</td>\n      <td>2.0</td>\n    </tr>\n    <tr>\n      <th>1</th>\n      <td>1.0</td>\n      <td>0.0</td>\n      <td>0.0</td>\n      <td>0.0</td>\n      <td>0.0</td>\n      <td>0.0</td>\n      <td>1.0</td>\n      <td>56</td>\n      <td>JARDIM DA PENHA</td>\n      <td>0</td>\n      <td>...</td>\n      <td>adults</td>\n      <td>75.2</td>\n      <td>73.3</td>\n      <td>75.2</td>\n      <td>73.3</td>\n      <td>76.7</td>\n      <td>16.1</td>\n      <td>52.9</td>\n      <td>4.3</td>\n      <td>2.0</td>\n    </tr>\n    <tr>\n      <th>2</th>\n      <td>1.0</td>\n      <td>0.0</td>\n      <td>0.0</td>\n      <td>0.0</td>\n      <td>0.0</td>\n      <td>0.0</td>\n      <td>0.0</td>\n      <td>62</td>\n      <td>MATA DA PRAIA</td>\n      <td>0</td>\n      <td>...</td>\n      <td>seniors</td>\n      <td>75.2</td>\n      <td>73.3</td>\n      <td>75.2</td>\n      <td>73.3</td>\n      <td>76.7</td>\n      <td>16.1</td>\n      <td>52.9</td>\n      <td>4.3</td>\n      <td>2.0</td>\n    </tr>\n    <tr>\n      <th>3</th>\n      <td>1.0</td>\n      <td>0.0</td>\n      <td>0.0</td>\n      <td>0.0</td>\n      <td>0.0</td>\n      <td>0.0</td>\n      <td>0.0</td>\n      <td>8</td>\n      <td>PONTAL DE CAMBURI</td>\n      <td>0</td>\n      <td>...</td>\n      <td>children</td>\n      <td>75.2</td>\n      <td>73.3</td>\n      <td>75.2</td>\n      <td>73.3</td>\n      <td>76.7</td>\n      <td>16.1</td>\n      <td>52.9</td>\n      <td>4.3</td>\n      <td>2.0</td>\n    </tr>\n    <tr>\n      <th>4</th>\n      <td>1.0</td>\n      <td>0.0</td>\n      <td>0.0</td>\n      <td>0.0</td>\n      <td>0.0</td>\n      <td>0.0</td>\n      <td>0.0</td>\n      <td>56</td>\n      <td>JARDIM DA PENHA</td>\n      <td>0</td>\n      <td>...</td>\n      <td>adults</td>\n      <td>75.2</td>\n      <td>73.3</td>\n      <td>75.2</td>\n      <td>73.3</td>\n      <td>76.7</td>\n      <td>16.1</td>\n      <td>52.9</td>\n      <td>4.3</td>\n      <td>2.0</td>\n    </tr>\n  </tbody>\n</table>\n<p>5 rows × 27 columns</p>\n</div>"
     },
     "execution_count": 17,
     "metadata": {},
     "output_type": "execute_result"
    }
   ],
   "source": [
    "df=pd.read_csv('final_data_for_modelling.csv')\n",
    "df.head()\n",
    "enc = OrdinalEncoder()\n",
    "ohe    = OneHotEncoder(sparse=False)\n",
    "\n",
    "enc.fit(df[[\"gender\"]])\n",
    "df[[\"gender\"]] = enc.transform(df[[\"gender\"]])\n",
    "encoded_columns =    ohe.fit_transform(df[['appointment_day_of_week']])\n",
    "data_hot_encoded = pd.DataFrame(encoded_columns, index=df.index)\n",
    "data_hot_encoded.columns = ohe.get_feature_names(['appointment_day_of_week'])\n",
    "\n",
    "data_other_cols = df.drop(columns='appointment_day_of_week')\n",
    "\n",
    "#Concatenate the two dataframes :\n",
    "df = pd.concat([data_hot_encoded, data_other_cols], axis=1)\n",
    "\n",
    "df.head()\n",
    "\n"
   ],
   "metadata": {
    "collapsed": false
   }
  },
  {
   "cell_type": "code",
   "execution_count": 18,
   "outputs": [],
   "source": [
    "y=df['showed']\n",
    "X=df.drop('showed', axis=1)\n",
    "X=X[['gender','age','scholarship','hypertension','diabetes','alcoholism','handicap','sms_received','days_between_appointment_and_scheduled_day','tempmax','temp','feelslikemax','feelslike','humidity','windspeed','solarradiation','solarenergy','uvindex','appointment_day_of_week_Friday','appointment_day_of_week_Monday','appointment_day_of_week_Tuesday','appointment_day_of_week_Wednesday','appointment_day_of_week_Thursday','appointment_day_of_week_Friday','appointment_day_of_week_Saturday']]\n",
    "X_train, X_test, y_train, y_test = train_test_split(X, y, test_size=0.2, random_state=0)\n"
   ],
   "metadata": {
    "collapsed": false
   }
  },
  {
   "cell_type": "code",
   "execution_count": 19,
   "outputs": [
    {
     "name": "stdout",
     "output_type": "stream",
     "text": [
      "accuracy for test scores: 0.778370\n"
     ]
    }
   ],
   "source": [
    "model=RandomForestClassifier()\n",
    "model.fit(X_train, y_train)\n",
    "y_pred=model.predict(X_test)\n",
    "\n",
    "print(f'accuracy for test scores: {accuracy_score(y_test,y_pred):3f}')\n"
   ],
   "metadata": {
    "collapsed": false
   }
  }
 ],
 "metadata": {
  "kernelspec": {
   "display_name": "Python 3",
   "language": "python",
   "name": "python3"
  },
  "language_info": {
   "codemirror_mode": {
    "name": "ipython",
    "version": 2
   },
   "file_extension": ".py",
   "mimetype": "text/x-python",
   "name": "python",
   "nbconvert_exporter": "python",
   "pygments_lexer": "ipython2",
   "version": "2.7.6"
  }
 },
 "nbformat": 4,
 "nbformat_minor": 0
}
