{
 "cells": [
  {
   "cell_type": "code",
   "execution_count": 41,
   "outputs": [],
   "source": [
    "#api for weather\n",
    "import pandas as pd\n",
    "import requests\n",
    "weatherkey=''\n",
    "googlekey=''\n",
    "l = pd.read_csv(\"locations.csv\")\n",
    "total=pd.DataFrame()\n",
    "for index, row in l.iterrows():\n",
    "    lat=row['lat']\n",
    "    log=row['lon']\n",
    "    r = requests.get(\n",
    "    f'https://weather.visualcrossing.com/VisualCrossingWebServices/rest/services/timeline/{lat},{log}/2016-04-27/2016-06-08?key={weatherkey}&include=days')\n",
    "    data = r.json()\n",
    "    def dataChange(x):\n",
    "        x['lat'] = row['lat']\n",
    "        x['log'] = row['lon']\n",
    "        x['Neighbourhood'] = row['locations']\n",
    "        return x\n",
    "    df = pd.DataFrame.from_dict(map(dataChange, data['days']))\n",
    "    total = pd.concat([total,df], axis=0)\n",
    "total.to_csv(\"weather.csv\")\n",
    "\n",
    "\n",
    "\n"
   ],
   "metadata": {
    "collapsed": false
   }
  },
  {
   "cell_type": "code",
   "execution_count": 41,
   "outputs": [],
   "source": [
    "# api for google rating"
   ],
   "metadata": {
    "collapsed": false
   }
  },
  {
   "cell_type": "code",
   "execution_count": 42,
   "metadata": {
    "collapsed": true
   },
   "outputs": [],
   "source": [
    "import pandas as pd\n",
    "import requests\n",
    "import numpy as np\n",
    "\n",
    "df=pd.read_csv('locations.csv')\n",
    "l=df[['lat','lon']]"
   ]
  },
  {
   "cell_type": "code",
   "execution_count": 43,
   "outputs": [
    {
     "name": "stdout",
     "output_type": "stream",
     "text": [
      "-20.3199474 -40.3427114 4\n",
      "-20.2963157 -40.3198376 20\n",
      "-20.2599804 -40.267894 2\n",
      "-22.107327 -56.5317344 1\n",
      "-20.2780131 -40.3355152 0\n",
      "-14.8567487 -40.8414804 9\n",
      "-20.262694 -40.2981413 1\n",
      "-22.551389 -45.921111 0\n",
      "32.7010145 35.296147355359075 1\n",
      "-37.3195353 -59.1663463 3\n",
      "-23.6573395 -46.5322504 5\n",
      "-29.6140764 -51.51439605821966 0\n",
      "-20.3071309 -40.3269799 2\n",
      "37.2333253 -121.6846349 0\n",
      "18.5411382 -69.9308629 1\n",
      "-20.2721397 -40.3268749 0\n",
      "-20.2843019 -40.2945253 3\n",
      "-20.2842568 -40.31718 1\n",
      "-22.8807636 -43.4931972 2\n",
      "13.8250489 -60.975036 0\n",
      "-20.2866831 -40.3344263 0\n",
      "-20.2893289 -40.2967992 1\n",
      "19.3602817 -98.9952089 1\n",
      "-20.3154701 -40.3534172 1\n",
      "38.768620850000005 -9.128247856220424 1\n",
      "-20.3133066 -40.2922293 12\n",
      "42.0522264 -3.802824 0\n",
      "-20.3174441 -40.3023787 1\n",
      "-20.2938737 -40.347269 0\n",
      "-20.2760095 -40.2939889 2\n",
      "-20.2614253 -40.294912 1\n",
      "-30.1360961 -53.16687393655323 0\n",
      "-20.664294 -43.7927211 2\n",
      "-20.2983262 -40.3484165 1\n",
      "-20.3178139 -40.3579442 1\n",
      "-20.3059436 -40.3056724 5\n",
      "2.8208478 -60.6719582 3\n",
      "-20.3142531 -40.3564749 2\n",
      "-20.3227554 -40.350573 1\n",
      "-29.3215001 -51.39356933553352 0\n",
      "-3.1646904 -58.2021124401614 0\n",
      "-21.3225052 -46.3649768 2\n",
      "-20.2886158 -40.3408156 0\n",
      "18.1953083 -71.24762524590344 0\n",
      "-20.3131036 -40.2994874 4\n",
      "-20.30182875 -40.2827175234133 5\n",
      "-16.3728032 -46.9034559 6\n",
      "-27.4511235 -58.9865196 4\n",
      "-20.2651027 -40.26948257800969 2\n",
      "-27.6157733 -48.6276491 3\n",
      "-7.0124164 -37.9452203 3\n",
      "47.5490251 1.7324062 0\n",
      "-23.545334500000003 -46.64225711835967 20\n",
      "3.3613818 -59.8427241 1\n",
      "-23.8901961 -48.2765 0\n",
      "4.82314525 -75.73105680428654 1\n",
      "-22.8381127 -43.2764454 3\n",
      "-20.2631167 -40.2963604 1\n",
      "-20.298286 -40.2946647 2\n",
      "-11.0136465 -37.2071134 1\n",
      "-20.3088457 -40.3193283 1\n",
      "-20.3153408 -40.3069497 9\n",
      "-20.3181834 -40.3245604 3\n",
      "-29.1697808 -51.7363155 0\n",
      "-23.7074096 -47.4252319 1\n",
      "-20.3109726 -40.322451 2\n",
      "36.9725989 -25.10263361635285 0\n",
      "-22.5512765 -47.9072359 1\n",
      "-24.1145368 -49.3352464 2\n",
      "-21.455867 -43.5522107 1\n",
      "-20.2712388 -40.2966929 2\n",
      "-22.5470341 -43.045271 1\n",
      "-15.96545515 -5.702575637953244 0\n",
      "-20.2944536 -40.3229385 20\n",
      "-8.025294 -50.031687 4\n",
      "-20.2579835 -40.2979268 2\n",
      "-20.3194406 -40.3469311 1\n",
      "-4.0479952 -40.8643488 1\n",
      "-22.516708 -42.6620787 0\n",
      "-23.5884174 -46.4007588 2\n"
     ]
    }
   ],
   "source": [
    "total=pd.DataFrame()\n",
    "\n",
    "for index, row in l.iterrows():\n",
    "    lat=row['lat']\n",
    "    log=row['lon']\n",
    "    # lat=-20.3199474\n",
    "    # log=-40.3427114\n",
    "    radius=300\n",
    "\n",
    "    r = requests.get(\n",
    "    f'https://maps.googleapis.com/maps/api/place/nearbysearch/json?keyword=&location={lat},{log}&radius={radius}&type=hospital&key={googlekey}')\n",
    "    data = r.json()\n",
    "    while len(data['results'])==0 and radius<1500:\n",
    "        radius=radius+200\n",
    "        r = requests.get(\n",
    "    f'https://maps.googleapis.com/maps/api/place/nearbysearch/json?keyword=&location={lat},{log}&radius={radius}&type=hospital&key={googlekey}')\n",
    "        data = r.json()\n",
    "\n",
    "    df = pd.DataFrame.from_dict( data['results'])\n",
    "    df['lat']=lat\n",
    "    df['lon']=log\n",
    "    print(lat,log,len(data['results']))\n",
    "    total = pd.concat([total,df], axis=0)\n",
    "    #"
   ],
   "metadata": {
    "collapsed": false
   }
  },
  {
   "cell_type": "code",
   "execution_count": 44,
   "outputs": [],
   "source": [
    "# total.head()"
   ],
   "metadata": {
    "collapsed": false
   }
  },
  {
   "cell_type": "code",
   "execution_count": 50,
   "outputs": [],
   "source": [
    "total.to_csv(\"rating.csv\")\n"
   ],
   "metadata": {
    "collapsed": false
   }
  },
  {
   "cell_type": "code",
   "execution_count": 51,
   "outputs": [],
   "source": [
    "#rate preprocessing\n",
    "df = pd.read_csv(\"rating.csv\")"
   ],
   "metadata": {
    "collapsed": false
   }
  },
  {
   "cell_type": "code",
   "execution_count": 52,
   "outputs": [
    {
     "data": {
      "text/plain": "   Unnamed: 0 business_status  \\\n0           0     OPERATIONAL   \n1           1     OPERATIONAL   \n2           2     OPERATIONAL   \n3           3     OPERATIONAL   \n4           0     OPERATIONAL   \n\n                                            geometry  \\\n0  {'location': {'lat': -20.3205479, 'lng': -40.3...   \n1  {'location': {'lat': -20.3201152, 'lng': -40.3...   \n2  {'location': {'lat': -20.320116, 'lng': -40.34...   \n3  {'location': {'lat': -20.31826, 'lng': -40.340...   \n4  {'location': {'lat': -20.2977726, 'lng': -40.3...   \n\n                                                icon icon_background_color  \\\n0  https://maps.gstatic.com/mapfiles/place_api/ic...               #F88181   \n1  https://maps.gstatic.com/mapfiles/place_api/ic...               #F88181   \n2  https://maps.gstatic.com/mapfiles/place_api/ic...               #F88181   \n3  https://maps.gstatic.com/mapfiles/place_api/ic...               #F88181   \n4  https://maps.gstatic.com/mapfiles/place_api/ic...               #F88181   \n\n                                  icon_mask_base_uri  \\\n0  https://maps.gstatic.com/mapfiles/place_api/ic...   \n1  https://maps.gstatic.com/mapfiles/place_api/ic...   \n2  https://maps.gstatic.com/mapfiles/place_api/ic...   \n3  https://maps.gstatic.com/mapfiles/place_api/ic...   \n4  https://maps.gstatic.com/mapfiles/place_api/ic...   \n\n                                             name        opening_hours  \\\n0  Hospital Santa Casa de Misericórdia de Vitória   {'open_now': True}   \n1       CTA - Centro de Testagem e Aconselhamento  {'open_now': False}   \n2                      Centro de Saude contra HPV                  NaN   \n3                                       Multiscan                  NaN   \n4                                 Cirurgia de Mão                  NaN   \n\n                                              photos  \\\n0  [{'height': 3000, 'html_attributions': ['<a hr...   \n1                                                NaN   \n2                                                NaN   \n3                                                NaN   \n4                                                NaN   \n\n                      place_id  \\\n0  ChIJYZch1bM9uAARmQed-I1DgsM   \n1  ChIJz_b9jG89uAARi2fBqcRayMg   \n2  ChIJuaY9F7A9uAARMSBvxGssBlw   \n3  ChIJ0yccLE49uAARXVFzqa_eOBU   \n4  ChIJMyXu3Gc9uAAR9yPxulJsCdY   \n\n                                           plus_code  rating  \\\n0  {'compound_code': 'MMH4+Q4 Vila Rubim, Vitória...     3.7   \n1  {'compound_code': 'MMH5+XR Centro, Vitória - E...     NaN   \n2  {'compound_code': 'MMH5+XR Centro, Vitória - E...     3.7   \n3  {'compound_code': 'MMJ5+MJ Centro, Vitória - E...     NaN   \n4  {'compound_code': 'PM2J+VM Santa Cecilia, Vitó...     NaN   \n\n                     reference   scope  \\\n0  ChIJYZch1bM9uAARmQed-I1DgsM  GOOGLE   \n1  ChIJz_b9jG89uAARi2fBqcRayMg  GOOGLE   \n2  ChIJuaY9F7A9uAARMSBvxGssBlw  GOOGLE   \n3  ChIJ0yccLE49uAARXVFzqa_eOBU  GOOGLE   \n4  ChIJMyXu3Gc9uAAR9yPxulJsCdY  GOOGLE   \n\n                                               types  user_ratings_total  \\\n0  ['hospital', 'health', 'point_of_interest', 'e...               318.0   \n1  ['hospital', 'health', 'point_of_interest', 'e...                 NaN   \n2  ['hospital', 'health', 'point_of_interest', 'e...                 3.0   \n3  ['hospital', 'health', 'point_of_interest', 'e...                 NaN   \n4  ['hospital', 'health', 'point_of_interest', 'e...                 NaN   \n\n                                            vicinity        lat        lon  \n0  Rua Doutor João dos Santos Neves, 143 - Vila R... -20.319947 -40.342711  \n1    Rua Cais de São Francisco, 54 - Centro, Vitória -20.319947 -40.342711  \n2    Rua Cais de São Francisco, 55 - Centro, Vitória -20.319947 -40.342711  \n3             Rua Dom Fernando, 30 - Centro, Vitória -20.319947 -40.342711  \n4                             Santa Cecilia, Vitória -20.296316 -40.319838  ",
      "text/html": "<div>\n<style scoped>\n    .dataframe tbody tr th:only-of-type {\n        vertical-align: middle;\n    }\n\n    .dataframe tbody tr th {\n        vertical-align: top;\n    }\n\n    .dataframe thead th {\n        text-align: right;\n    }\n</style>\n<table border=\"1\" class=\"dataframe\">\n  <thead>\n    <tr style=\"text-align: right;\">\n      <th></th>\n      <th>Unnamed: 0</th>\n      <th>business_status</th>\n      <th>geometry</th>\n      <th>icon</th>\n      <th>icon_background_color</th>\n      <th>icon_mask_base_uri</th>\n      <th>name</th>\n      <th>opening_hours</th>\n      <th>photos</th>\n      <th>place_id</th>\n      <th>plus_code</th>\n      <th>rating</th>\n      <th>reference</th>\n      <th>scope</th>\n      <th>types</th>\n      <th>user_ratings_total</th>\n      <th>vicinity</th>\n      <th>lat</th>\n      <th>lon</th>\n    </tr>\n  </thead>\n  <tbody>\n    <tr>\n      <th>0</th>\n      <td>0</td>\n      <td>OPERATIONAL</td>\n      <td>{'location': {'lat': -20.3205479, 'lng': -40.3...</td>\n      <td>https://maps.gstatic.com/mapfiles/place_api/ic...</td>\n      <td>#F88181</td>\n      <td>https://maps.gstatic.com/mapfiles/place_api/ic...</td>\n      <td>Hospital Santa Casa de Misericórdia de Vitória</td>\n      <td>{'open_now': True}</td>\n      <td>[{'height': 3000, 'html_attributions': ['&lt;a hr...</td>\n      <td>ChIJYZch1bM9uAARmQed-I1DgsM</td>\n      <td>{'compound_code': 'MMH4+Q4 Vila Rubim, Vitória...</td>\n      <td>3.7</td>\n      <td>ChIJYZch1bM9uAARmQed-I1DgsM</td>\n      <td>GOOGLE</td>\n      <td>['hospital', 'health', 'point_of_interest', 'e...</td>\n      <td>318.0</td>\n      <td>Rua Doutor João dos Santos Neves, 143 - Vila R...</td>\n      <td>-20.319947</td>\n      <td>-40.342711</td>\n    </tr>\n    <tr>\n      <th>1</th>\n      <td>1</td>\n      <td>OPERATIONAL</td>\n      <td>{'location': {'lat': -20.3201152, 'lng': -40.3...</td>\n      <td>https://maps.gstatic.com/mapfiles/place_api/ic...</td>\n      <td>#F88181</td>\n      <td>https://maps.gstatic.com/mapfiles/place_api/ic...</td>\n      <td>CTA - Centro de Testagem e Aconselhamento</td>\n      <td>{'open_now': False}</td>\n      <td>NaN</td>\n      <td>ChIJz_b9jG89uAARi2fBqcRayMg</td>\n      <td>{'compound_code': 'MMH5+XR Centro, Vitória - E...</td>\n      <td>NaN</td>\n      <td>ChIJz_b9jG89uAARi2fBqcRayMg</td>\n      <td>GOOGLE</td>\n      <td>['hospital', 'health', 'point_of_interest', 'e...</td>\n      <td>NaN</td>\n      <td>Rua Cais de São Francisco, 54 - Centro, Vitória</td>\n      <td>-20.319947</td>\n      <td>-40.342711</td>\n    </tr>\n    <tr>\n      <th>2</th>\n      <td>2</td>\n      <td>OPERATIONAL</td>\n      <td>{'location': {'lat': -20.320116, 'lng': -40.34...</td>\n      <td>https://maps.gstatic.com/mapfiles/place_api/ic...</td>\n      <td>#F88181</td>\n      <td>https://maps.gstatic.com/mapfiles/place_api/ic...</td>\n      <td>Centro de Saude contra HPV</td>\n      <td>NaN</td>\n      <td>NaN</td>\n      <td>ChIJuaY9F7A9uAARMSBvxGssBlw</td>\n      <td>{'compound_code': 'MMH5+XR Centro, Vitória - E...</td>\n      <td>3.7</td>\n      <td>ChIJuaY9F7A9uAARMSBvxGssBlw</td>\n      <td>GOOGLE</td>\n      <td>['hospital', 'health', 'point_of_interest', 'e...</td>\n      <td>3.0</td>\n      <td>Rua Cais de São Francisco, 55 - Centro, Vitória</td>\n      <td>-20.319947</td>\n      <td>-40.342711</td>\n    </tr>\n    <tr>\n      <th>3</th>\n      <td>3</td>\n      <td>OPERATIONAL</td>\n      <td>{'location': {'lat': -20.31826, 'lng': -40.340...</td>\n      <td>https://maps.gstatic.com/mapfiles/place_api/ic...</td>\n      <td>#F88181</td>\n      <td>https://maps.gstatic.com/mapfiles/place_api/ic...</td>\n      <td>Multiscan</td>\n      <td>NaN</td>\n      <td>NaN</td>\n      <td>ChIJ0yccLE49uAARXVFzqa_eOBU</td>\n      <td>{'compound_code': 'MMJ5+MJ Centro, Vitória - E...</td>\n      <td>NaN</td>\n      <td>ChIJ0yccLE49uAARXVFzqa_eOBU</td>\n      <td>GOOGLE</td>\n      <td>['hospital', 'health', 'point_of_interest', 'e...</td>\n      <td>NaN</td>\n      <td>Rua Dom Fernando, 30 - Centro, Vitória</td>\n      <td>-20.319947</td>\n      <td>-40.342711</td>\n    </tr>\n    <tr>\n      <th>4</th>\n      <td>0</td>\n      <td>OPERATIONAL</td>\n      <td>{'location': {'lat': -20.2977726, 'lng': -40.3...</td>\n      <td>https://maps.gstatic.com/mapfiles/place_api/ic...</td>\n      <td>#F88181</td>\n      <td>https://maps.gstatic.com/mapfiles/place_api/ic...</td>\n      <td>Cirurgia de Mão</td>\n      <td>NaN</td>\n      <td>NaN</td>\n      <td>ChIJMyXu3Gc9uAAR9yPxulJsCdY</td>\n      <td>{'compound_code': 'PM2J+VM Santa Cecilia, Vitó...</td>\n      <td>NaN</td>\n      <td>ChIJMyXu3Gc9uAAR9yPxulJsCdY</td>\n      <td>GOOGLE</td>\n      <td>['hospital', 'health', 'point_of_interest', 'e...</td>\n      <td>NaN</td>\n      <td>Santa Cecilia, Vitória</td>\n      <td>-20.296316</td>\n      <td>-40.319838</td>\n    </tr>\n  </tbody>\n</table>\n</div>"
     },
     "execution_count": 52,
     "metadata": {},
     "output_type": "execute_result"
    }
   ],
   "source": [
    "df.head()"
   ],
   "metadata": {
    "collapsed": false
   }
  },
  {
   "cell_type": "code",
   "execution_count": 53,
   "outputs": [],
   "source": [
    "df=df.groupby(['lat', 'lon'])['rating'].mean()"
   ],
   "metadata": {
    "collapsed": false
   }
  },
  {
   "cell_type": "code",
   "execution_count": 54,
   "outputs": [],
   "source": [
    "df.to_csv(\"rating_processed.csv\")"
   ],
   "metadata": {
    "collapsed": false
   }
  }
 ],
 "metadata": {
  "kernelspec": {
   "display_name": "Python 3",
   "language": "python",
   "name": "python3"
  },
  "language_info": {
   "codemirror_mode": {
    "name": "ipython",
    "version": 2
   },
   "file_extension": ".py",
   "mimetype": "text/x-python",
   "name": "python",
   "nbconvert_exporter": "python",
   "pygments_lexer": "ipython2",
   "version": "2.7.6"
  }
 },
 "nbformat": 4,
 "nbformat_minor": 0
}
